{
 "cells": [
  {
   "cell_type": "markdown",
   "metadata": {},
   "source": [
    "# 1.Single Cycle Check\n",
    "\n",
    "### You are given an array of integers where each integer represents a jump of its value in the array.For instance,the integer 2 represents a jump of two indices forward in the array; the integer -3 represents a jump of three indices backwards in the array.\n",
    "\n",
    "### If a jump spills past the array's bounds, it wraps over to the other side.For instance,a jump of -1 at index 0 brings us to the last index in the array.Similarly,a jump of 1 at the last index in the array brings us to index 0.\n",
    "\n",
    "### Write a function that returns a boolean representing whether the jumps in the array form a single cycle.A single cycle occurs,if starting at any index in the array and following the jumps,every element in the array is visited exactly once before landing back on the starting index. "
   ]
  },
  {
   "cell_type": "code",
   "execution_count": 12,
   "metadata": {},
   "outputs": [
    {
     "data": {
      "text/plain": [
       "True"
      ]
     },
     "execution_count": 12,
     "metadata": {},
     "output_type": "execute_result"
    }
   ],
   "source": [
    "def singlecycle(array):\n",
    "    num_of_elements_visited=0\n",
    "    cuurent_index=0\n",
    "    while num_of_elements_visited<len(array):\n",
    "        if num_of_elements_visited>0 and cuurent_index==0:\n",
    "            return False\n",
    "        num_of_elements_visited+=1\n",
    "        cuurent_index=getnext_index(cuurent_index,array)\n",
    "    return cuurent_index==0 #if num_of_elements_visited==len(a) \n",
    "def getnext_index(cuurent_index,array):\n",
    "    jump=array[cuurent_index]\n",
    "    next_index=(cuurent_index+jump)%len(array)\n",
    "    return next_index\n",
    "singlecycle([2,3,1,-4,-4,2])\n",
    "\n",
    "\n",
    "\n",
    "#testcases:\n",
    "#1)[2, 3, 1, -4, -4, 2]-TRUE\n",
    "#2)[2, 2, -1]-TRUE\n",
    "#3)[2, 2, 2] -TRUE\n",
    "#4)[1, -1, 1, -1] -FALSE"
   ]
  },
  {
   "cell_type": "markdown",
   "metadata": {},
   "source": [
    "# 2.Print alternate odd and even sum of digits"
   ]
  },
  {
   "cell_type": "code",
   "execution_count": 13,
   "metadata": {},
   "outputs": [
    {
     "name": "stdout",
     "output_type": "stream",
     "text": [
      "1234\n",
      "the summ of odd indices is 4\n",
      "the summ of even indices is 6\n"
     ]
    }
   ],
   "source": [
    "k=input()\n",
    "x=list(k)\n",
    "n=list(map(int,x))\n",
    "print(\"the summ of odd indices is {}\".format(sum(n[::2])))\n",
    "print(\"the summ of even indices is {}\".format(sum(n[1::2])))"
   ]
  },
  {
   "cell_type": "markdown",
   "metadata": {},
   "source": [
    "# 3.Monotonic Array\n",
    "\n",
    "### Write the code that takes an array of integers amd returns a boolean representing whether the array is monotonic.\n",
    "\n",
    "### An array is said to be monotonic,if its elements,from left to right,are entirely non-increasing or entirely non-decreasing\n",
    "\n",
    "### INPUT\n",
    "\n",
    "### array=[-1,-5,-10,-1100,-1100,-1101,-1102,-9001]\n",
    "\n",
    "### OUTPUT\n",
    "\n",
    "### TRUE"
   ]
  },
  {
   "cell_type": "code",
   "execution_count": null,
   "metadata": {},
   "outputs": [],
   "source": [
    "a=[-1,-5,-10,-1100,-1100,-1101,-1102,-9001]\n",
    "#a=[2,5,6,10]\n",
    "ci=0\n",
    "cd=0\n",
    "for i in range(0,len(a)-1):\n",
    "    if(a[i]>=a[i+1]):\n",
    "        cd+=1\n",
    "    else:\n",
    "        ci+=1\n",
    "if(ci==len(a)-1 or cd==len(a)-1):\n",
    "    print(True)\n",
    "else:\n",
    "    print(False)"
   ]
  }
 ],
 "metadata": {
  "kernelspec": {
   "display_name": "Python 3",
   "language": "python",
   "name": "python3"
  },
  "language_info": {
   "codemirror_mode": {
    "name": "ipython",
    "version": 3
   },
   "file_extension": ".py",
   "mimetype": "text/x-python",
   "name": "python",
   "nbconvert_exporter": "python",
   "pygments_lexer": "ipython3",
   "version": "3.6.8"
  }
 },
 "nbformat": 4,
 "nbformat_minor": 2
}
