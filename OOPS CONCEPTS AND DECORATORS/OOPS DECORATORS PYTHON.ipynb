{
 "cells": [
  {
   "cell_type": "markdown",
   "metadata": {},
   "source": [
    "\n",
    "# decorators \n",
    "\n",
    "## Design pattern\n",
    "\n",
    "## add new functionality to an existing object without changing it's structure\n",
    "\n"
   ]
  },
  {
   "cell_type": "code",
   "execution_count": 1,
   "metadata": {},
   "outputs": [
    {
     "data": {
      "text/plain": [
       "1.5"
      ]
     },
     "execution_count": 1,
     "metadata": {},
     "output_type": "execute_result"
    }
   ],
   "source": [
    "def div(a,b):\n",
    "    return a/b\n",
    "\n",
    "\n",
    "def changediv(func):\n",
    "    def inner(a,b):\n",
    "        if(a<b):\n",
    "            a,b=b,a\n",
    "        return func(a,b)\n",
    "    return inner\n",
    "div=changediv(div)\n",
    "div(2,3)"
   ]
  },
  {
   "cell_type": "code",
   "execution_count": 2,
   "metadata": {},
   "outputs": [
    {
     "data": {
      "text/plain": [
       "'ADISH'"
      ]
     },
     "execution_count": 2,
     "metadata": {},
     "output_type": "execute_result"
    }
   ],
   "source": [
    "def text(s):\n",
    "    return s\n",
    "\n",
    "\n",
    "def uppc(func):\n",
    "    def inn(s):\n",
    "        return func(s.upper())\n",
    "    return inn\n",
    "text=uppc(text)\n",
    "text('adish')"
   ]
  },
  {
   "cell_type": "code",
   "execution_count": 3,
   "metadata": {},
   "outputs": [
    {
     "data": {
      "text/plain": [
       "'DAVID'"
      ]
     },
     "execution_count": 3,
     "metadata": {},
     "output_type": "execute_result"
    }
   ],
   "source": [
    "\n",
    "\n",
    "def uppc(func):\n",
    "    def inn(s):\n",
    "        return func(s.upper())\n",
    "    return inn\n",
    "\n",
    "@uppc\n",
    "def text(s):\n",
    "    return s\n",
    "\n",
    "text('david')\n",
    "\n"
   ]
  },
  {
   "cell_type": "markdown",
   "metadata": {},
   "source": [
    "# PEP 8\n",
    "\n",
    "### PEP stands for Python Enhancement Proposal.\n",
    "\n",
    "### STYLE GUIDE OF PYTHON"
   ]
  },
  {
   "cell_type": "markdown",
   "metadata": {},
   "source": [
    "# 1"
   ]
  },
  {
   "cell_type": "code",
   "execution_count": 5,
   "metadata": {},
   "outputs": [
    {
     "name": "stdout",
     "output_type": "stream",
     "text": [
      "macos big sur 8GB RAM\n"
     ]
    }
   ],
   "source": [
    "class Computer:\n",
    "    def config(self):\n",
    "        print('macos big sur','8GB RAM')\n",
    "\n",
    "\n",
    "\n",
    "        \n",
    "com1=Computer()\n",
    "#Computer.config(com1)\n",
    "com1.config()"
   ]
  },
  {
   "cell_type": "code",
   "execution_count": 6,
   "metadata": {},
   "outputs": [
    {
     "data": {
      "text/plain": [
       "2"
      ]
     },
     "execution_count": 6,
     "metadata": {},
     "output_type": "execute_result"
    }
   ],
   "source": [
    "x=2\n",
    "x.bit_length()"
   ]
  },
  {
   "cell_type": "markdown",
   "metadata": {},
   "source": [
    "# 2\n",
    "\n",
    "\n",
    "### __init__method()"
   ]
  },
  {
   "cell_type": "code",
   "execution_count": 7,
   "metadata": {},
   "outputs": [
    {
     "name": "stdout",
     "output_type": "stream",
     "text": [
      "config:  APPLE M1 16\n"
     ]
    }
   ],
   "source": [
    "class Computer:\n",
    "    def __init__(self,cpu,ram):\n",
    "        self.cpu=cpu\n",
    "        self.ram=ram\n",
    "        \n",
    "        \n",
    "    def config(self):\n",
    "        print('config: ',self.cpu,self.ram)\n",
    "\n",
    "\n",
    "\n",
    "        \n",
    "com1=Computer('APPLE M1',16)\n",
    "com1.config()"
   ]
  },
  {
   "cell_type": "markdown",
   "metadata": {},
   "source": [
    "# 3\n",
    "\n",
    "### CLASS VARIABLE/STATIC VARIABLE   VS INSTANCE VARIABLE"
   ]
  },
  {
   "cell_type": "code",
   "execution_count": 15,
   "metadata": {},
   "outputs": [
    {
     "name": "stdout",
     "output_type": "stream",
     "text": [
      "5\n"
     ]
    },
    {
     "data": {
      "text/plain": [
       "4"
      ]
     },
     "execution_count": 15,
     "metadata": {},
     "output_type": "execute_result"
    }
   ],
   "source": [
    "class Car:\n",
    "    #class variable / static variable\n",
    "    \n",
    "    \n",
    "    wheels=4\n",
    "    \n",
    "    \n",
    "    def __init__(self,brand,mil):#variables defined inside init ==> instance variable\n",
    "        self.brand=brand\n",
    "        self.mil=mil\n",
    "        \n",
    "        \n",
    "        \n",
    "        \n",
    "c1=Car('benz',34)\n",
    "c2=Car('celtos',23)\n",
    "\n",
    "\n",
    "c1.wheels=5 #CHANGE IS ONLY MADE TO INSTANCE VARIABLE NAMESPACE\n",
    "\n",
    "\n",
    "print(c1.wheels)  # access class variable using object\n",
    "\n",
    "Car.wheels # access class variable using classname"
   ]
  },
  {
   "cell_type": "code",
   "execution_count": 16,
   "metadata": {},
   "outputs": [
    {
     "name": "stdout",
     "output_type": "stream",
     "text": [
      "5\n"
     ]
    },
    {
     "data": {
      "text/plain": [
       "5"
      ]
     },
     "execution_count": 16,
     "metadata": {},
     "output_type": "execute_result"
    }
   ],
   "source": [
    "class Car:\n",
    "    #class variable / static variable\n",
    "    \n",
    "    \n",
    "    wheels=4\n",
    "    \n",
    "    \n",
    "    def __init__(self,brand,mil):#variables defined inside init ==> instance variable\n",
    "        self.brand=brand\n",
    "        self.mil=mil\n",
    "        \n",
    "        \n",
    "        \n",
    "        \n",
    "c1=Car('benz',34)\n",
    "c2=Car('celtos',23)\n",
    "\n",
    "\n",
    "Car.wheels=5 #CHANGE IS MADE TO CLASS VARIABLE NAMESPACE\n",
    "\n",
    "\n",
    "print(c1.wheels)  # access class variable using object\n",
    "\n",
    "Car.wheels # access class variable using classname"
   ]
  },
  {
   "cell_type": "markdown",
   "metadata": {},
   "source": [
    "# 4\n",
    "\n",
    "\n",
    "### 3 METHODS:\n",
    "\n",
    "### 1. INSTANCE METHOD. 2.CLASS METHOD. 3.STATIC METHOD"
   ]
  },
  {
   "cell_type": "code",
   "execution_count": 18,
   "metadata": {},
   "outputs": [
    {
     "name": "stdout",
     "output_type": "stream",
     "text": [
      "143\n"
     ]
    }
   ],
   "source": [
    "class Student:\n",
    "    \n",
    "    \n",
    "    school=\"sgps\"\n",
    "    \n",
    "    def __init__(self,m1,m2):\n",
    "        \n",
    "        self.m1=m1\n",
    "        self.m2=m2\n",
    "    \n",
    "    \n",
    "    \n",
    "    def total(self): # INSTANCE METHOD : DEALS WITH INSTANCE VARIABLES\n",
    "        return self.m1+self.m2\n",
    "    \n",
    "s1=Student(44,99)\n",
    "print(s1.total())"
   ]
  },
  {
   "cell_type": "markdown",
   "metadata": {},
   "source": [
    "## accessor method : to fetch the values only\n",
    "\n",
    "## mutator method : to modify the values"
   ]
  },
  {
   "cell_type": "markdown",
   "metadata": {},
   "source": [
    "# 2. CLASS METHOD"
   ]
  },
  {
   "cell_type": "code",
   "execution_count": 22,
   "metadata": {},
   "outputs": [
    {
     "name": "stdout",
     "output_type": "stream",
     "text": [
      "sgps\n"
     ]
    }
   ],
   "source": [
    "class Student:\n",
    "    \n",
    "    \n",
    "    school=\"sgps\"\n",
    "    \n",
    "    def __init__(self,m1,m2):\n",
    "        self.m1=m1\n",
    "        self.m2=m2\n",
    "        \n",
    "        \n",
    "    \n",
    "    def total(self):\n",
    "        return self.m1+self.m2\n",
    "    \n",
    "    \n",
    "    @classmethod #DECORATOR \n",
    "    \n",
    "    def info(cls): # CLASS METHOD : DEALS WITH CLASS VARIABLES\n",
    "        return cls.school\n",
    "    \n",
    "    \n",
    "s1=Student(44,99)\n",
    "\n",
    "print(Student.info())\n"
   ]
  },
  {
   "cell_type": "markdown",
   "metadata": {},
   "source": [
    "# 3.STATIC METHOD\n",
    "\n",
    "### It does not deals with class variables or instance variables"
   ]
  },
  {
   "cell_type": "code",
   "execution_count": 25,
   "metadata": {},
   "outputs": [
    {
     "name": "stdout",
     "output_type": "stream",
     "text": [
      "class name: Student\n"
     ]
    }
   ],
   "source": [
    "class Student:\n",
    "    \n",
    "    \n",
    "    school=\"sgps\"\n",
    "    \n",
    "    def __init__(self,m1,m2):\n",
    "        self.m1=m1\n",
    "        self.m2=m2\n",
    "        \n",
    "        \n",
    "    @staticmethod #DECORATOR \n",
    "    def details(): #STATIC METHOD\n",
    "        print('class name: Student')\n",
    "        \n",
    "s1=Student(44,99)\n",
    "\n",
    "s1.details()\n",
    "        "
   ]
  },
  {
   "cell_type": "markdown",
   "metadata": {},
   "source": [
    "# DECORATOR EXAMPLE:"
   ]
  },
  {
   "cell_type": "code",
   "execution_count": 28,
   "metadata": {},
   "outputs": [
    {
     "data": {
      "text/plain": [
       "20"
      ]
     },
     "execution_count": 28,
     "metadata": {},
     "output_type": "execute_result"
    }
   ],
   "source": [
    "\n",
    "\n",
    "def mod_diff(func):\n",
    "    def inner(a,b):\n",
    "        if(a<b):\n",
    "            a,b=b,a\n",
    "        return func(a,b)\n",
    "    return inner\n",
    "\n",
    "\n",
    "\n",
    "\n",
    "@mod_diff\n",
    "def diff(a,b):\n",
    "    return a-b\n",
    "\n",
    "diff(10,30)"
   ]
  },
  {
   "cell_type": "markdown",
   "metadata": {},
   "source": [
    "# 5\n"
   ]
  },
  {
   "cell_type": "markdown",
   "metadata": {},
   "source": [
    "### CLASS INSIDE CLASS"
   ]
  },
  {
   "cell_type": "code",
   "execution_count": 31,
   "metadata": {},
   "outputs": [
    {
     "data": {
      "text/plain": [
       "'snapdragon'"
      ]
     },
     "execution_count": 31,
     "metadata": {},
     "output_type": "execute_result"
    }
   ],
   "source": [
    "class Student:\n",
    "    \n",
    "    def __init__(self,name):\n",
    "        self.name=name\n",
    "        self.lap1=self.Laptop('snapdragon',16) #creating object of Laptop() class\n",
    "        \n",
    "    class Laptop:\n",
    "        def __init__(self,cpu,ram):\n",
    "            self.cpu=cpu\n",
    "            self.ram=ram\n",
    "\n",
    "s1=Student('ram')\n",
    "s1.lap1.cpu"
   ]
  },
  {
   "cell_type": "code",
   "execution_count": 33,
   "metadata": {},
   "outputs": [
    {
     "data": {
      "text/plain": [
       "'ryzen'"
      ]
     },
     "execution_count": 33,
     "metadata": {},
     "output_type": "execute_result"
    }
   ],
   "source": [
    "class Student:\n",
    "    \n",
    "    def __init__(self,name):\n",
    "        self.name=name\n",
    "         \n",
    "        \n",
    "    class Laptop:\n",
    "        def __init__(self,cpu,ram):\n",
    "            self.cpu=cpu\n",
    "            self.ram=ram\n",
    "\n",
    "s1=Student('ram')\n",
    "lap1=Student.Laptop('ryzen',32)#creating object of Laptop() class outside class\n",
    "lap1.cpu"
   ]
  },
  {
   "cell_type": "markdown",
   "metadata": {},
   "source": [
    "# INHERITANCE"
   ]
  },
  {
   "cell_type": "markdown",
   "metadata": {},
   "source": [
    "## SINGLE LEVEL INHERITANCE"
   ]
  },
  {
   "cell_type": "code",
   "execution_count": 41,
   "metadata": {},
   "outputs": [
    {
     "name": "stdout",
     "output_type": "stream",
     "text": [
      "f1 is ready\n",
      "f2 is ready\n",
      "f3 is ready\n",
      "f4 is ready\n"
     ]
    }
   ],
   "source": [
    "class A:\n",
    "    def f1(self):\n",
    "        print('f1 is ready')\n",
    "    def f2(self):\n",
    "        print('f2 is ready')\n",
    "        \n",
    "class B(A):\n",
    "    def f3(self):\n",
    "        print('f3 is ready')\n",
    "    def f4(self):\n",
    "        print('f4 is ready')\n",
    "\n",
    "b1=B()\n",
    "b1.f1()\n",
    "b1.f2()\n",
    "b1.f3()\n",
    "b1.f4()\n",
    "\n",
    "\n",
    "\n",
    "# A\n",
    "# |\n",
    "# |\n",
    "# B"
   ]
  },
  {
   "cell_type": "markdown",
   "metadata": {},
   "source": [
    "# MULTILEVEL INHERITANCE"
   ]
  },
  {
   "cell_type": "code",
   "execution_count": 42,
   "metadata": {},
   "outputs": [
    {
     "name": "stdout",
     "output_type": "stream",
     "text": [
      "f1 is ready\n",
      "f3 is ready\n",
      "f5 is ready\n"
     ]
    }
   ],
   "source": [
    "class A:\n",
    "    def f1(self):\n",
    "        print('f1 is ready')\n",
    "    def f2(self):\n",
    "        print('f2 is ready')\n",
    "        \n",
    "        \n",
    "        \n",
    "class B(A):\n",
    "    def f3(self):\n",
    "        print('f3 is ready')\n",
    "    def f4(self):\n",
    "        print('f4 is ready')\n",
    "        \n",
    "        \n",
    "class C(B):\n",
    "    def f5(self):\n",
    "        print('f5 is ready')\n",
    "    def f6(self):\n",
    "        print('f6 is ready')\n",
    "c1=C()\n",
    "c1.f1()\n",
    "c1.f3()\n",
    "c1.f5()"
   ]
  },
  {
   "cell_type": "markdown",
   "metadata": {},
   "source": [
    "# MULTIPLE INHERITANCE"
   ]
  },
  {
   "cell_type": "code",
   "execution_count": 43,
   "metadata": {},
   "outputs": [
    {
     "name": "stdout",
     "output_type": "stream",
     "text": [
      "f2 is ready\n",
      "f4 is ready\n",
      "f6 is ready\n"
     ]
    }
   ],
   "source": [
    "class A:\n",
    "    def f1(self):\n",
    "        print('f1 is ready')\n",
    "    def f2(self):\n",
    "        print('f2 is ready')\n",
    "        \n",
    "class B:\n",
    "    def f3(self):\n",
    "        print('f3 is ready')\n",
    "    def f4(self):\n",
    "        print('f4 is ready')\n",
    "        \n",
    "        \n",
    "class C(A,B):\n",
    "    def f5(self):\n",
    "        print('f5 is ready')\n",
    "    def f6(self):\n",
    "        print('f6 is ready')\n",
    "        \n",
    "\n",
    "c1=C()\n",
    "c1.f2()\n",
    "c1.f4()\n",
    "c1.f6()"
   ]
  },
  {
   "cell_type": "markdown",
   "metadata": {},
   "source": [
    "# INIT()"
   ]
  },
  {
   "cell_type": "markdown",
   "metadata": {},
   "source": [
    "# 1"
   ]
  },
  {
   "cell_type": "code",
   "execution_count": 44,
   "metadata": {},
   "outputs": [
    {
     "name": "stdout",
     "output_type": "stream",
     "text": [
      "init of A\n"
     ]
    }
   ],
   "source": [
    "class A:\n",
    "    \n",
    "    def __init__(self):\n",
    "        print('init of A')\n",
    "        \n",
    "    def f1(self):\n",
    "        print('f1 is ready')\n",
    "    def f2(self):\n",
    "        print('f2 is ready')\n",
    "        \n",
    "class B(A):\n",
    "    def f3(self):\n",
    "        print('f3 is ready')\n",
    "    def f4(self):\n",
    "        print('f4 is ready')\n",
    "        \n",
    "b=B()"
   ]
  },
  {
   "cell_type": "markdown",
   "metadata": {},
   "source": [
    "# 2"
   ]
  },
  {
   "cell_type": "code",
   "execution_count": 47,
   "metadata": {},
   "outputs": [
    {
     "name": "stdout",
     "output_type": "stream",
     "text": [
      "init of B\n"
     ]
    }
   ],
   "source": [
    "class A:\n",
    "    \n",
    "    def __init__(self):\n",
    "        print('init of A')\n",
    "        \n",
    "    def f1(self):\n",
    "        print('f1 is ready')\n",
    "    def f2(self):\n",
    "        print('f2 is ready')\n",
    "        \n",
    "class B(A):\n",
    "    \n",
    "    def __init__(self):\n",
    "        print('init of B')\n",
    "        \n",
    "    def f3(self):\n",
    "        print('f3 is ready')\n",
    "    def f4(self):\n",
    "        print('f4 is ready')\n",
    "        \n",
    "b=B()"
   ]
  },
  {
   "cell_type": "markdown",
   "metadata": {},
   "source": [
    "# 3"
   ]
  },
  {
   "cell_type": "code",
   "execution_count": 48,
   "metadata": {},
   "outputs": [
    {
     "name": "stdout",
     "output_type": "stream",
     "text": [
      "init of A\n",
      "init of B\n"
     ]
    }
   ],
   "source": [
    "class A:\n",
    "    \n",
    "    def __init__(self):\n",
    "        print('init of A')\n",
    "        \n",
    "    def f1(self):\n",
    "        print('f1 is ready')\n",
    "    def f2(self):\n",
    "        print('f2 is ready')\n",
    "        \n",
    "class B(A):\n",
    "    \n",
    "    def __init__(self):\n",
    "        super().__init__()\n",
    "        print('init of B')\n",
    "        \n",
    "    def f3(self):\n",
    "        print('f3 is ready')\n",
    "    def f4(self):\n",
    "        print('f4 is ready')\n",
    "        \n",
    "b=B()"
   ]
  },
  {
   "cell_type": "markdown",
   "metadata": {},
   "source": [
    "# 4"
   ]
  },
  {
   "cell_type": "code",
   "execution_count": 52,
   "metadata": {},
   "outputs": [
    {
     "name": "stdout",
     "output_type": "stream",
     "text": [
      "init of C\n"
     ]
    }
   ],
   "source": [
    "class A:\n",
    "    \n",
    "    def __init__(self):\n",
    "        print('init of A')\n",
    "        \n",
    "    def f1(self):\n",
    "        print('f1 is ready')\n",
    "    def f2(self):\n",
    "        print('f2 is ready')\n",
    "        \n",
    "class B():\n",
    "    \n",
    "    def __init__(self):\n",
    "        print('init of B')\n",
    "        \n",
    "    def f3(self):\n",
    "        print('f3 is ready')\n",
    "    def f4(self):\n",
    "        print('f4 is ready')\n",
    "        \n",
    "class C(A,B):\n",
    "    \n",
    "    def __init__(self):\n",
    "        print('init of C')\n",
    "        \n",
    "c=C()"
   ]
  },
  {
   "cell_type": "markdown",
   "metadata": {},
   "source": [
    "# MRO ==> METHOD RESOLUTION ORDER\n",
    "\n",
    "# in multiple inheritance , the order is from left to right"
   ]
  },
  {
   "cell_type": "code",
   "execution_count": 53,
   "metadata": {},
   "outputs": [
    {
     "name": "stdout",
     "output_type": "stream",
     "text": [
      "init of A\n",
      "init of C\n"
     ]
    }
   ],
   "source": [
    "class A:\n",
    "    \n",
    "    def __init__(self):\n",
    "        print('init of A')\n",
    "        \n",
    "    def f1(self):\n",
    "        print('f1 is ready')\n",
    "    def f2(self):\n",
    "        print('f2 is ready')\n",
    "        \n",
    "class B():\n",
    "    \n",
    "    def __init__(self):\n",
    "        print('init of B')\n",
    "        \n",
    "    def f3(self):\n",
    "        print('f3 is ready')\n",
    "    def f4(self):\n",
    "        print('f4 is ready')\n",
    "        \n",
    "class C(A,B):\n",
    "    \n",
    "    def __init__(self):\n",
    "        super().__init__()\n",
    "        print('init of C')\n",
    "        \n",
    "c=C()"
   ]
  },
  {
   "cell_type": "markdown",
   "metadata": {},
   "source": [
    " # POLYMORPHISM"
   ]
  },
  {
   "cell_type": "markdown",
   "metadata": {},
   "source": [
    "# 1. DUCK TYPING"
   ]
  },
  {
   "cell_type": "markdown",
   "metadata": {},
   "source": [
    "### where the type or the class of an object is less important than the method it defines. Using Duck Typing, we do not check types at all. Instead, we check for the presence of a given method or attribute.\n",
    "\n",
    "### The name Duck Typing comes from the phrase:\n",
    "\n",
    "### “If it looks like a duck and quacks like a duck, it’s a duck”"
   ]
  },
  {
   "cell_type": "code",
   "execution_count": 54,
   "metadata": {},
   "outputs": [
    {
     "name": "stdout",
     "output_type": "stream",
     "text": [
      "executing\n",
      "compiling\n"
     ]
    }
   ],
   "source": [
    "class Pycharm:\n",
    "    def execute(self):\n",
    "        print(\"executing\")\n",
    "        print(\"compiling\")\n",
    "        \n",
    "class Laptop:\n",
    "    \n",
    "    def code(self,ide):\n",
    "        ide.execute()\n",
    "\n",
    "ide1=Pycharm()\n",
    "lap1=Laptop()\n",
    "lap1.code(ide1)\n",
    "        "
   ]
  },
  {
   "cell_type": "code",
   "execution_count": 55,
   "metadata": {},
   "outputs": [
    {
     "name": "stdout",
     "output_type": "stream",
     "text": [
      "fly with fuel\n",
      "fly with wings\n"
     ]
    },
    {
     "ename": "AttributeError",
     "evalue": "'Fish' object has no attribute 'fly'",
     "output_type": "error",
     "traceback": [
      "\u001b[0;31m---------------------------------------------------------------------------\u001b[0m",
      "\u001b[0;31mAttributeError\u001b[0m                            Traceback (most recent call last)",
      "\u001b[0;32m<ipython-input-55-e9ed637cd4bb>\u001b[0m in \u001b[0;36m<module>\u001b[0;34m\u001b[0m\n\u001b[1;32m     11\u001b[0m \u001b[0;34m\u001b[0m\u001b[0m\n\u001b[1;32m     12\u001b[0m \u001b[0;32mfor\u001b[0m \u001b[0mobject\u001b[0m \u001b[0;32min\u001b[0m \u001b[0mAeroplane\u001b[0m\u001b[0;34m(\u001b[0m\u001b[0;34m)\u001b[0m\u001b[0;34m,\u001b[0m\u001b[0mBird\u001b[0m\u001b[0;34m(\u001b[0m\u001b[0;34m)\u001b[0m\u001b[0;34m,\u001b[0m\u001b[0mFish\u001b[0m\u001b[0;34m(\u001b[0m\u001b[0;34m)\u001b[0m\u001b[0;34m:\u001b[0m\u001b[0;34m\u001b[0m\u001b[0;34m\u001b[0m\u001b[0m\n\u001b[0;32m---> 13\u001b[0;31m     \u001b[0mobject\u001b[0m\u001b[0;34m.\u001b[0m\u001b[0mfly\u001b[0m\u001b[0;34m(\u001b[0m\u001b[0;34m)\u001b[0m\u001b[0;34m\u001b[0m\u001b[0;34m\u001b[0m\u001b[0m\n\u001b[0m",
      "\u001b[0;31mAttributeError\u001b[0m: 'Fish' object has no attribute 'fly'"
     ]
    }
   ],
   "source": [
    "class Aeroplane:\n",
    "    def fly(self):\n",
    "        print('fly with fuel')\n",
    "class Bird:\n",
    "    def fly(self):\n",
    "        print('fly with wings')\n",
    "class Fish:\n",
    "    def swim(self):\n",
    "        print('swims')\n",
    "    \n",
    "\n",
    "for object in Aeroplane(),Bird(),Fish():\n",
    "    object.fly()"
   ]
  },
  {
   "cell_type": "markdown",
   "metadata": {},
   "source": [
    "# Operator overloading"
   ]
  },
  {
   "cell_type": "code",
   "execution_count": 56,
   "metadata": {},
   "outputs": [
    {
     "ename": "TypeError",
     "evalue": "unsupported operand type(s) for +: 'Student' and 'Student'",
     "output_type": "error",
     "traceback": [
      "\u001b[0;31m---------------------------------------------------------------------------\u001b[0m",
      "\u001b[0;31mTypeError\u001b[0m                                 Traceback (most recent call last)",
      "\u001b[0;32m<ipython-input-56-84f1313f9e75>\u001b[0m in \u001b[0;36m<module>\u001b[0;34m\u001b[0m\n\u001b[1;32m      5\u001b[0m \u001b[0ms1\u001b[0m\u001b[0;34m=\u001b[0m\u001b[0mStudent\u001b[0m\u001b[0;34m(\u001b[0m\u001b[0;36m20\u001b[0m\u001b[0;34m,\u001b[0m\u001b[0;36m40\u001b[0m\u001b[0;34m)\u001b[0m\u001b[0;34m\u001b[0m\u001b[0;34m\u001b[0m\u001b[0m\n\u001b[1;32m      6\u001b[0m \u001b[0ms2\u001b[0m\u001b[0;34m=\u001b[0m\u001b[0mStudent\u001b[0m\u001b[0;34m(\u001b[0m\u001b[0;36m30\u001b[0m\u001b[0;34m,\u001b[0m\u001b[0;36m60\u001b[0m\u001b[0;34m)\u001b[0m\u001b[0;34m\u001b[0m\u001b[0;34m\u001b[0m\u001b[0m\n\u001b[0;32m----> 7\u001b[0;31m \u001b[0ms1\u001b[0m\u001b[0;34m+\u001b[0m\u001b[0ms2\u001b[0m\u001b[0;34m\u001b[0m\u001b[0;34m\u001b[0m\u001b[0m\n\u001b[0m",
      "\u001b[0;31mTypeError\u001b[0m: unsupported operand type(s) for +: 'Student' and 'Student'"
     ]
    }
   ],
   "source": [
    "class Student:\n",
    "    def __init__(self,m1,m2):\n",
    "        self.m1=m1\n",
    "        self.m2=m2\n",
    "s1=Student(20,40)\n",
    "s2=Student(30,60)\n",
    "s1+s2"
   ]
  },
  {
   "cell_type": "code",
   "execution_count": 68,
   "metadata": {},
   "outputs": [
    {
     "name": "stdout",
     "output_type": "stream",
     "text": [
      "s2 is topper\n",
      "<__main__.Student object at 0x7fe6be95b8e0>\n"
     ]
    }
   ],
   "source": [
    "class Student:\n",
    "    def __init__(self,m1,m2):\n",
    "        self.m1=m1\n",
    "        self.m2=m2\n",
    "        \n",
    "        \n",
    "    def __add__(self,other):\n",
    "        m1=self.m1+other.m1\n",
    "        m2=self.m2+other.m2\n",
    "        s=Student(m1,m2)\n",
    "        return s\n",
    "    \n",
    "    def __gt__(self,other):\n",
    "        r1=self.m1+self.m2\n",
    "        r2=other.m1+other.m2\n",
    "        if(r1>r2):\n",
    "            return True\n",
    "        else:\n",
    "            return False\n",
    "            \n",
    "        \n",
    "s1=Student(20,40)\n",
    "s2=Student(30,60)\n",
    "s3=s1+s2\n",
    "\n",
    "if s1>s2:\n",
    "    print('s1 is topper')\n",
    "else:\n",
    "    print('s2 is topper')\n",
    "print(s1)"
   ]
  },
  {
   "cell_type": "code",
   "execution_count": 67,
   "metadata": {},
   "outputs": [
    {
     "name": "stdout",
     "output_type": "stream",
     "text": [
      "s2 is topper\n",
      "20 40\n"
     ]
    }
   ],
   "source": [
    "class Student:\n",
    "    def __init__(self,m1,m2):\n",
    "        self.m1=m1\n",
    "        self.m2=m2\n",
    "        \n",
    "        \n",
    "    def __add__(self,other):\n",
    "        m1=self.m1+other.m1\n",
    "        m2=self.m2+other.m2\n",
    "        s=Student(m1,m2)\n",
    "        return s\n",
    "    \n",
    "    def __gt__(self,other):\n",
    "        r1=self.m1+self.m2\n",
    "        r2=other.m1+other.m2\n",
    "        if(r1>r2):\n",
    "            return True\n",
    "        else:\n",
    "            return False\n",
    "        \n",
    "    def __str__(self):\n",
    "        return \"{} {}\".format(self.m1,self.m2)\n",
    "            \n",
    "        \n",
    "s1=Student(20,40)\n",
    "s2=Student(30,60)\n",
    "s3=s1+s2\n",
    "\n",
    "if s1>s2:\n",
    "    print('s1 is topper')\n",
    "else:\n",
    "    print('s2 is topper')\n",
    "print(s1)"
   ]
  },
  {
   "cell_type": "markdown",
   "metadata": {},
   "source": [
    "# METHOD OVERLOADING AND OVERRIDING"
   ]
  },
  {
   "cell_type": "markdown",
   "metadata": {},
   "source": [
    "### IN PYTHON METHOD OVERLOADING IS NOT THERE\n",
    "\n",
    "def average(a,b)\n",
    "\n",
    "def average(a,b,c)\n",
    "\n",
    "cannot be established in python\n",
    "\n",
    "i.e, 2methods having same name and different parameters [overloading] cannot be established in python"
   ]
  },
  {
   "cell_type": "markdown",
   "metadata": {},
   "source": [
    "###  but we can use other techniques to do overloading"
   ]
  },
  {
   "cell_type": "markdown",
   "metadata": {},
   "source": [
    "# OVERRIDING "
   ]
  },
  {
   "cell_type": "markdown",
   "metadata": {},
   "source": [
    "### Here show() method in parent class A is overloaded by show() method in child class B "
   ]
  },
  {
   "cell_type": "code",
   "execution_count": 72,
   "metadata": {},
   "outputs": [
    {
     "name": "stdout",
     "output_type": "stream",
     "text": [
      "INSIDE B\n"
     ]
    }
   ],
   "source": [
    "class A:\n",
    "    def show(self):\n",
    "        print(\"INSIDE A\")\n",
    "\n",
    "        \n",
    "class B(A):\n",
    "    def show(self):\n",
    "        print(\"INSIDE B\")\n",
    "\n",
    "o=B()\n",
    "o.show()"
   ]
  },
  {
   "cell_type": "code",
   "execution_count": null,
   "metadata": {},
   "outputs": [],
   "source": []
  }
 ],
 "metadata": {
  "kernelspec": {
   "display_name": "Python 3",
   "language": "python",
   "name": "python3"
  },
  "language_info": {
   "codemirror_mode": {
    "name": "ipython",
    "version": 3
   },
   "file_extension": ".py",
   "mimetype": "text/x-python",
   "name": "python",
   "nbconvert_exporter": "python",
   "pygments_lexer": "ipython3",
   "version": "3.8.5"
  }
 },
 "nbformat": 4,
 "nbformat_minor": 4
}
