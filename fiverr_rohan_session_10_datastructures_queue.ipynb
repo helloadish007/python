{
 "cells": [
  {
   "cell_type": "markdown",
   "metadata": {},
   "source": [
    "### QUEUE"
   ]
  },
  {
   "cell_type": "markdown",
   "metadata": {},
   "source": [
    "A queue is a collection of objects that supports fast first-in, first-out (FIFO) semantics for inserts and deletes.\n",
    "The insert and delete operations sometimes called enqueue and dequeue"
   ]
  },
  {
   "cell_type": "code",
   "execution_count": 1,
   "metadata": {},
   "outputs": [
    {
     "data": {
      "image/png": "[encoded data removed]",
      "text/plain": [
       "<IPython.core.display.Image object>"
      ]
     },
     "execution_count": 1,
     "metadata": {},
     "output_type": "execute_result"
    }
   ],
   "source": [
    "from IPython.display import Image\n",
    "Image('/home/adish/Desktop/queue.png')"
   ]
  },
  {
   "cell_type": "code",
   "execution_count": 45,
   "metadata": {},
   "outputs": [
    {
     "name": "stdout",
     "output_type": "stream",
     "text": [
      "QUEUE IS ALREADY EMPTY!!\n"
     ]
    }
   ],
   "source": [
    "class Queue:\n",
    "    def __init__(self,size):\n",
    "        self.size=size \n",
    "        self.front=0 #points  to the position of first element in queue\n",
    "        self.rear=-1#points to the position of last element in queue\n",
    "        self.items=[None]*self.size\n",
    "    \n",
    "    #CHECKING QUEUE IS FULL OR NOT\n",
    "        \n",
    "    def is_full(self):\n",
    "        return self.rear==self.size-1\n",
    "    \n",
    "    #ENQUEUE : INSERTING ELEMENTS INTO QUEUE\n",
    "    \n",
    "    def enqueue(self,data):\n",
    "        if(self.is_full()):\n",
    "            print('queue is full!!!')\n",
    "        else:\n",
    "            self.rear+=1\n",
    "            self.items[self.rear]=data\n",
    "            \n",
    "    #DISPLAY\n",
    "    \n",
    "    def display(self):\n",
    "        for i in range(0,self.rear+1):\n",
    "            print(self.items[i])\n",
    "    #CHECKING QUEUE IS EMPTY OR NOT\n",
    "    \n",
    "    def is_empty(self):\n",
    "        if(self.front==self.size or self.rear==-1):\n",
    "            return True\n",
    "        else:\n",
    "            return False\n",
    "    \n",
    "    #DEQUEUE: REMOVING ELEMENTS FROM FRONT \n",
    "    \n",
    "    def dequeue(self):\n",
    "        if(self.is_empty()):\n",
    "            print('QUEUE IS ALREADY EMPTY!!')\n",
    "        else:\n",
    "            data=self.items[self.front]\n",
    "            self.front+=1\n",
    "            return data\n",
    "        \n",
    "    #DISPLAY AFTER DEQUEUEING \n",
    "    \n",
    "    def display_dequeue(self):\n",
    "        for i in range(self.front,self.rear+1):\n",
    "            print(self.items[i])\n",
    "        \n",
    "    \n",
    "q1=Queue(5)\n",
    "q1.enqueue('adish')\n",
    "q1.enqueue('aneesh')\n",
    "q1.enqueue('asish')\n",
    "q1.enqueue('prema')\n",
    "q1.enqueue('pappa')\n",
    "\n",
    "\n",
    "\n",
    "q1.dequeue()\n",
    "q1.dequeue()\n",
    "q1.dequeue()\n",
    "q1.dequeue()\n",
    "q1.dequeue()\n",
    "q1.dequeue()\n",
    "\n",
    "q1.display_dequeue()"
   ]
  },
  {
   "cell_type": "markdown",
   "metadata": {},
   "source": [
    "# Three Number Sum:\n",
    "\n",
    "Write a function that takes in a non-empty array of distinct integers and an integer representing a target sum.The function should find all triplets in the array that sum up to the target sum and return a 2D array of all these triplets.The numbers in each triplet should be ordered in ascending order and the triplets themselves should be ordered in ascending order with respect to the numbers they hold.\n",
    "\n",
    "if no 3 numbers sum up to the target sum,the function should return an empty array.\n",
    "\n",
    "### input:\n",
    "\n",
    "array=[12,3,1,2,-6,5,-8,6]\n",
    "target sum=0\n",
    "\n",
    "### output:\n",
    "\n",
    "[[-8,2,6],[-8,3,5],[-6,1,5]]\n",
    "\n"
   ]
  },
  {
   "cell_type": "code",
   "execution_count": 47,
   "metadata": {},
   "outputs": [
    {
     "data": {
      "text/plain": [
       "[[-8, 2, 6], [-8, 3, 5], [-6, 1, 5]]"
      ]
     },
     "execution_count": 47,
     "metadata": {},
     "output_type": "execute_result"
    }
   ],
   "source": [
    "def threenumbersum(a,target):\n",
    "    a.sort()\n",
    "    lt=[]\n",
    "    for i in range(len(a)):\n",
    "        l=i+1\n",
    "        r=len(a)-1\n",
    "        while l<r:\n",
    "            curr_sum=a[i]+a[l]+a[r]\n",
    "            if curr_sum==target:\n",
    "                lt.append([a[i],a[l],a[r]])\n",
    "                l+=1\n",
    "                r-=1\n",
    "            elif curr_sum<target:\n",
    "                l+=1\n",
    "            elif curr_sum>target:\n",
    "                r-=1\n",
    "    return lt\n",
    "threenumbersum([12,3,1,2,-6,5,-8,6],0 )"
   ]
  },
  {
   "cell_type": "markdown",
   "metadata": {},
   "source": [
    "### Create a function that takes the number of wins, draws and losses and calculates the number of points a football team has obtained so far. A win receives 3 points, a draw 1 point and a loss 0 points.\n",
    "\n",
    "Examples\n",
    "football_points(3, 4, 2) ➞ 13\n",
    "\n",
    "football_points(5, 0, 2) ➞ 15\n",
    "\n",
    "football_points(0, 0, 1) ➞ 0"
   ]
  },
  {
   "cell_type": "code",
   "execution_count": 48,
   "metadata": {},
   "outputs": [
    {
     "data": {
      "text/plain": [
       "13"
      ]
     },
     "execution_count": 48,
     "metadata": {},
     "output_type": "execute_result"
    }
   ],
   "source": [
    "def football_points(wins, draws, losses):\n",
    "    return wins*3 + draws\n",
    "football_points(3,4,2)"
   ]
  },
  {
   "cell_type": "code",
   "execution_count": null,
   "metadata": {},
   "outputs": [],
   "source": []
  }
 ],
 "metadata": {
  "kernelspec": {
   "display_name": "Python 3",
   "language": "python",
   "name": "python3"
  },
  "language_info": {
   "codemirror_mode": {
    "name": "ipython",
    "version": 3
   },
   "file_extension": ".py",
   "mimetype": "text/x-python",
   "name": "python",
   "nbconvert_exporter": "python",
   "pygments_lexer": "ipython3",
   "version": "3.6.8"
  }
 },
 "nbformat": 4,
 "nbformat_minor": 2
}
