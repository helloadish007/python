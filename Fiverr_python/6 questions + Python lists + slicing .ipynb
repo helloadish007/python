{
 "cells": [
  {
   "cell_type": "markdown",
   "metadata": {},
   "source": [
    "## PYTHON FEATURES:\n",
    "\n",
    "1.gui support\n",
    "\n",
    "2.cross platform language \n",
    "\n",
    "3.interpreted language\n",
    "\n",
    "4.Python is a case-sensitive language\n",
    "\n",
    "5.Python is a type inferred language"
   ]
  },
  {
   "cell_type": "markdown",
   "metadata": {},
   "source": [
    " # 1\n",
    "\n",
    "Write a program to translate an english sentence in to pig latin. Pig latin is a language game of alterations played in english. The purpose is to obfuscate the language. It is a form of encoding. You can learn more about it on wikipedia. However, for the purpose of this exercise, the rules of translation are changed slightly and are as follows:\n",
    "\n",
    "a) Each word of the sentence is to be translated\n",
    "b) If the word starts with a vowel, then add ‘ay’ to the end of the word\n",
    "c) If the word starts with a consonant, then move it to the end of the word and add ‘ay’\n",
    "\n",
    "INPUT:\n",
    "\n",
    "    First line will contain T, number of testcases. Then the testcases follow.\n",
    "    Each test case will have a single string S\n",
    "\n",
    "OUTPUT:\n",
    "\n",
    "    For each test case, output a single result string.\n",
    "\n",
    "SAMPLE INPUT\n",
    "\n",
    "2\n",
    "\n",
    "apple is not red\n",
    "\n",
    "The sky is blue\n",
    "\n",
    "SAMPLE OUTPUT\n",
    "\n",
    "appleay isay otnay edray\n",
    "\n",
    "heTay kysay isay luebay"
   ]
  },
  {
   "cell_type": "code",
   "execution_count": 19,
   "metadata": {},
   "outputs": [
    {
     "name": "stdout",
     "output_type": "stream",
     "text": [
      "1\n",
      "apple is red\n",
      "appleay isay edray\n"
     ]
    }
   ],
   "source": [
    "n=int(input())\n",
    "for z in range(n):\n",
    "    s=input().split(' ')\n",
    "  \n",
    "    for k in range(len(s)):\n",
    "        i = s[k]\n",
    "\n",
    "        \n",
    "        if i[0] in ['a', 'e', 'i', 'o', 'u','A','E','I','O','U']:\n",
    "            s[k] = i+'ay'\n",
    "        else:\n",
    "            s[k]=i[1:]+i[0]+'ay'\n",
    "    print(' '.join(s))\n",
    "    s.clear()"
   ]
  },
  {
   "cell_type": "markdown",
   "metadata": {},
   "source": [
    "# 2\n",
    "Print alternate odd and even sum of digits"
   ]
  },
  {
   "cell_type": "code",
   "execution_count": 18,
   "metadata": {},
   "outputs": [
    {
     "name": "stdout",
     "output_type": "stream",
     "text": [
      "4\n",
      "6\n"
     ]
    }
   ],
   "source": [
    "d=[1,2,3,4]\n",
    "print(sum(d[0::2]))#have fetched the odd indices position\n",
    "print(sum(d[1::2]))"
   ]
  },
  {
   "cell_type": "markdown",
   "metadata": {},
   "source": [
    "## python list"
   ]
  },
  {
   "cell_type": "code",
   "execution_count": 8,
   "metadata": {},
   "outputs": [
    {
     "data": {
      "text/plain": [
       "[1, 33, 55]"
      ]
     },
     "execution_count": 8,
     "metadata": {},
     "output_type": "execute_result"
    }
   ],
   "source": [
    "l=[1,2,3]\n",
    "l.append(4)#adding a new element at the end of the list\n",
    "l.insert(0,1.5)#inserting '1.5' at index 0\n",
    "l.remove(1.5)#removing the element '1.5'\n",
    "del l[0] #deleting an element at index '0'\n",
    "l.pop()#removes the last element from the list\n",
    "f=[5,6,7]#new list\n",
    "l.extend(f)#adding the elements of new list into an existing list l\n",
    "s=[55,1,33]#unsorted\n",
    "s.sort()#make the list sorted\n"
   ]
  },
  {
   "cell_type": "markdown",
   "metadata": {},
   "source": [
    "## slicing"
   ]
  },
  {
   "cell_type": "markdown",
   "metadata": {},
   "source": [
    "#### syntax [start,stop,step]"
   ]
  },
  {
   "cell_type": "code",
   "execution_count": 13,
   "metadata": {},
   "outputs": [
    {
     "data": {
      "text/plain": [
       "'el'"
      ]
     },
     "execution_count": 13,
     "metadata": {},
     "output_type": "execute_result"
    }
   ],
   "source": [
    "s='hello'\n",
    "s[1::2]"
   ]
  },
  {
   "cell_type": "code",
   "execution_count": null,
   "metadata": {},
   "outputs": [],
   "source": [
    "Rotate Array \n",
    "Given an unsorted array arr[] of size N, rotate it by D elements in the counter-clockwise direction. \n",
    "\n",
    "Input: \n",
    "The first line of the input contains T denoting the number of test cases. \n",
    "The first line of each test case contains two space-separated elements, \n",
    "N denoting the size of the array and an integer D denoting the number size of the rotation.\n",
    "The subsequent line will contain N space-separated array elements.\n",
    "\n",
    "Output:\n",
    "For each test case, in a new line, print the rotated array.\n",
    "\n",
    "Your Task:\n",
    "Complete the function rotateArr() which takes the array,\n",
    "D and N as input parameters and rotates the array by D elements. \n",
    "\n",
    "Expected Time Complexity: O(N)\n",
    "Expected Auxiliary Space: O(1)\n",
    "\n",
    "Constraints:\n",
    "1 <= T <= 200\n",
    "1 <= N <= 107\n",
    "1 <= D <= N\n",
    "0 <= arr[i] <= 105\n",
    "\n",
    "Example:\n",
    "Sample Input:\n",
    "2#testcase\n",
    "5 2# size , how much you have to rotate\n",
    "1 2 3 4 5 \n",
    "10 3\n",
    "2 4 6 8 10 12 14 16 18 20\n",
    "\n",
    "Sample Output:\n",
    "3 4 5 1 2\n",
    "8 10 12 14 16 18 20 2 4 6\n",
    "\n",
    "Explanation :\n",
    "Testcase 1: 1 2 3 4 5  when rotated by 2 elements, it becomes 3 4 5 1 2.\n",
    "Testcase 2: 2 4 6 8 10 12 14 16 18 20  when rotated by 3 elements, it becomes 8 10 12 14 16 18 20 2 4 6."
   ]
  },
  {
   "cell_type": "code",
   "execution_count": 20,
   "metadata": {},
   "outputs": [
    {
     "data": {
      "text/plain": [
       "[3, 4, 1, 2]"
      ]
     },
     "execution_count": 20,
     "metadata": {},
     "output_type": "execute_result"
    }
   ],
   "source": [
    "def rotateArr(A,D,N):#array,d-number of rotation,n-size\n",
    "    l=A[:D]\n",
    "    del A[:D]\n",
    "    A.extend(l)\n",
    "    return A\n",
    "\n",
    "rotateArr([1,2,3,4],2,4)  "
   ]
  },
  {
   "cell_type": "markdown",
   "metadata": {},
   "source": [
    "# 4\n",
    "Caesar Cipher Encryptor\n",
    "\n",
    "Given a non-empty string of lowercase letters and a non-negative integer representing a key,write a code that gives a new string obtained by shifting every letter in the input string by k positions in the alphabets ,where k is the key\n",
    "\n",
    "INPUT:\n",
    "\n",
    "'xyz'\n",
    "\n",
    " 2  #key value\n",
    " \n",
    "OUTPUT:\n",
    " \n",
    "'yza'"
   ]
  },
  {
   "cell_type": "code",
   "execution_count": 22,
   "metadata": {},
   "outputs": [
    {
     "name": "stdout",
     "output_type": "stream",
     "text": [
      "1\n",
      "ab\n",
      " bc\n"
     ]
    }
   ],
   "source": [
    "\n",
    "alpha=['a','b','c','d','e','f','g','h','i','j','k','l','m','n','o','p','q','r','s','t','u','v','w','x','y','z']\n",
    "k=int(input())\n",
    "s=input()\n",
    "y=' '\n",
    "for i in s:\n",
    "    x=alpha.index(i)\n",
    "    y+=alpha[(x+k)%26]\n",
    "print(y)\n"
   ]
  },
  {
   "cell_type": "markdown",
   "metadata": {},
   "source": [
    "# 5\n",
    "Monotonic Array\n",
    "\n",
    "Write the code that takes an array of integers amd returns a boolean representing whether the array is monotonic.\n",
    "\n",
    "An array is said to be monotonic,if its elements,from left to right,are entirely non-increasing or entirely non-decreasing  \n",
    "\n",
    "INPUT\n",
    "\n",
    "array=[-1,-5,-10,-1100,-1100,-1101,-1102,-9001]\n",
    "\n",
    "OUTPUT\n",
    "\n",
    "TRUE"
   ]
  },
  {
   "cell_type": "code",
   "execution_count": 63,
   "metadata": {},
   "outputs": [
    {
     "name": "stdout",
     "output_type": "stream",
     "text": [
      "True\n"
     ]
    }
   ],
   "source": [
    "\n",
    "a=[-1,-5,-10,-1100,-1100,-1101,-1102,-9001]\n",
    "#a=[2,5,6,10]\n",
    "ci=0\n",
    "cd=0\n",
    "for i in range(0,len(a)-1):\n",
    "    if(a[i]>=a[i+1]):\n",
    "        cd+=1\n",
    "    else:\n",
    "        ci+=1\n",
    "if(ci==len(a)-1 or cd==len(a)-1):\n",
    "    print(True)\n",
    "else:\n",
    "    print(False)\n",
    "     \n"
   ]
  },
  {
   "cell_type": "markdown",
   "metadata": {},
   "source": [
    "# 6\n",
    "MOVE ELEMENT TO THE END:\n",
    "\n",
    "You're given an array of integers and an integer.Write the code that moves all instances of that integer in the array to the end of the array and returns the array.\n",
    "\n",
    "The function should perform this in place(i.e, it should mutate the input array) and doesn't need to maintain the order of the other integers.\n",
    "\n",
    "\n",
    "INPUT:\n",
    "\n",
    "array=[2,1,2,2,2,3,4,2]\n",
    "\n",
    "move=2\n",
    "\n",
    "OUTPUT:\n",
    "\n",
    "[1,3,4,2,2,2,2,2]"
   ]
  },
  {
   "cell_type": "code",
   "execution_count": 64,
   "metadata": {},
   "outputs": [
    {
     "name": "stdout",
     "output_type": "stream",
     "text": [
      "[1, 3, 4, 2, 2, 2, 2, 2]\n"
     ]
    }
   ],
   "source": [
    "c=[]\n",
    "d=[]\n",
    "a=[2,1,2,2,2,3,4,2]\n",
    "move=2\n",
    "for i in range(len(a)):\n",
    "    if a[i]==move:\n",
    "        c.append(a[i])\n",
    "    else:\n",
    "        d.append(a[i])\n",
    "d.extend(c)\n",
    "print(d)"
   ]
  }
 ],
 "metadata": {
  "kernelspec": {
   "display_name": "Python 3",
   "language": "python",
   "name": "python3"
  },
  "language_info": {
   "codemirror_mode": {
    "name": "ipython",
    "version": 3
   },
   "file_extension": ".py",
   "mimetype": "text/x-python",
   "name": "python",
   "nbconvert_exporter": "python",
   "pygments_lexer": "ipython3",
   "version": "3.6.8"
  }
 },
 "nbformat": 4,
 "nbformat_minor": 2
}
