{
 "cells": [
  {
   "cell_type": "markdown",
   "metadata": {},
   "source": [
    "# 1.\n",
    "\n",
    "A robot is located at the top-left corner of a m x n grid (marked 'Start' in the diagram below).\n",
    "\n",
    "The robot can only move either down or right at any point in time. The robot is trying to reach the bottom-right corner of the grid (marked 'Finish' in the diagram below).\n",
    "\n",
    "How many possible unique paths are there?\n",
    "\n",
    " \n",
    "\n",
    "Example 1:\n",
    "\n",
    "\n",
    "Input: m = 3, n = 7\n",
    "\n",
    "Output: 28\n",
    "\n",
    "Example 2:\n",
    "\n",
    "Input: m = 3, n = 2\n",
    "\n",
    "Output: 3\n",
    "\n",
    "Explanation:\n",
    "\n",
    "From the top-left corner, there are a total of 3 ways to reach the bottom-right corner:\n",
    "\n",
    "1. Right -> Down -> Down\n",
    "\n",
    "2. Down -> Down -> Right\n",
    "\n",
    "3. Down -> Right -> Down\n",
    "\n",
    "Example 3:\n",
    "\n",
    "Input: m = 7, n = 3\n",
    "\n",
    "Output: 28\n",
    "\n",
    "Example 4:\n",
    "\n",
    "Input: m = 3, n = 3\n",
    "\n",
    "Output: 6\n",
    " \n",
    "\n",
    "Constraints:\n",
    "\n",
    "1 <= m, n <= 100\n",
    "\n",
    "It's guaranteed that the answer will be less than or equal to 2 * 109.\n"
   ]
  },
  {
   "cell_type": "code",
   "execution_count": null,
   "metadata": {},
   "outputs": [],
   "source": [
    "from IPython.display import Image\n",
    "Image('/Users/adish007/Downloads/robot_maze.png')"
   ]
  },
  {
   "cell_type": "code",
   "execution_count": null,
   "metadata": {},
   "outputs": [],
   "source": [
    "m=int(input())\n",
    "n=int(input())\n",
    "a=[[0 for col in range(n)]for row in range(m)]\n",
    "for i in range(m):\n",
    "    for j in range(n):\n",
    "        a[i][j]=a[i-1][j]+a[i][j-1]\n",
    "        a[0][0]=1\n",
    "a[m-1][n-1]\n"
   ]
  },
  {
   "cell_type": "markdown",
   "metadata": {},
   "source": [
    "# 2.\n",
    "\n",
    "\n",
    "Given an array of integers, 1 ≤ a[i] ≤ n (n = size of array), some elements appear twice and others appear once.\n",
    "\n",
    "Find all the elements that appear twice in this array.\n",
    "\n",
    "Could you do it without extra space and in O(n) runtime?\n",
    "\n",
    "\n",
    "Example:\n",
    "\n",
    "Input:\n",
    "\n",
    "[4,3,2,7,8,2,3,1]\n",
    "\n",
    "\n",
    " \n",
    "\n",
    "Output:\n",
    "\n",
    "[2,3]"
   ]
  },
  {
   "cell_type": "code",
   "execution_count": null,
   "metadata": {},
   "outputs": [],
   "source": [
    "\n",
    "a=[4,3,2,7,8,2,3,1]\n",
    "dup=[]\n",
    "for i in range(len(a)):\n",
    "    e=abs(a[i])-1\n",
    "    if(a[e]<0):\n",
    "        dup.append(-a[e])\n",
    "    a[e]=-a[e]\n",
    "dup"
   ]
  },
  {
   "cell_type": "markdown",
   "metadata": {},
   "source": [
    "# 3.\n",
    "Given an m x n 2d grid map of '1's (land) and '0's (water), return the number of islands.\n",
    "\n",
    "\n",
    "An island is surrounded by water and is formed by connecting adjacent lands horizontally or vertically. You may assume \n",
    "\n",
    "all four edges of the grid are all surrounded by water.\n",
    "\n",
    " \n",
    "\n",
    "Example 1:\n",
    "\n",
    "Input: grid = [\n",
    "\n",
    "[\"1\",\"1\",\"1\",\"1\",\"0\"],\n",
    "\n",
    "[\"1\",\"1\",\"0\",\"1\",\"0\"],\n",
    "\n",
    "[\"1\",\"1\",\"0\",\"0\",\"0\"],\n",
    "\n",
    "[\"0\",\"0\",\"0\",\"0\",\"0\"]\n",
    "]\n",
    "\n",
    "Output: 1\n",
    "\n",
    "Example 2:\n",
    "\n",
    "Input: grid = [\n",
    "\n",
    "[\"1\",\"1\",\"0\",\"0\",\"0\"],\n",
    "\n",
    "[\"1\",\"1\",\"0\",\"0\",\"0\"],\n",
    "\n",
    "[\"0\",\"0\",\"1\",\"0\",\"0\"],\n",
    "\n",
    "[\"0\",\"0\",\"0\",\"1\",\"1\"]\n",
    "\n",
    "]\n",
    "\n",
    "Output: 3\n",
    " \n",
    "\n",
    "Constraints:\n",
    "\n",
    "m == grid.length\n",
    "\n",
    "n == grid[i].length\n",
    "\n",
    "1 <= m, n <= 300\n",
    "\n",
    "grid[i][j] is '0' or '1'.\n"
   ]
  },
  {
   "cell_type": "code",
   "execution_count": null,
   "metadata": {},
   "outputs": [],
   "source": [
    "def fib(n):\n",
    "    if n in m:\n",
    "        return m[n]\n",
    "    else:\n",
    "        m[n]=fib(n-1)+fib(n-2)\n",
    "    #print(m)\n",
    "    return m[n]\n",
    "m={0:1,1:1}\n",
    "\n",
    "fib(100)"
   ]
  },
  {
   "cell_type": "code",
   "execution_count": null,
   "metadata": {},
   "outputs": [],
   "source": [
    "def gridtravel(m,n):\n",
    "    if(m==1 and n==1):\n",
    "        return 1\n",
    "    if(m==0 or n==0):\n",
    "        return 0\n",
    "    return gridtravel(m-1,n)+gridtravel(m,n-1)\n",
    "gridtravel(3,2)"
   ]
  },
  {
   "cell_type": "code",
   "execution_count": null,
   "metadata": {},
   "outputs": [],
   "source": [
    "def gridtravel(m,n):\n",
    "    k=m,n\n",
    "    if k in memo:\n",
    "        return memo[k]\n",
    "    if(m==1 and n==1):\n",
    "        return 1\n",
    "    if(m==0 or n==0):\n",
    "        return 0\n",
    "    memo[m,n]=gridtravel(m-1,n)+gridtravel(m,n-1)\n",
    "    return memo[m,n]\n",
    "memo={}\n",
    "gridtravel(18,18)"
   ]
  },
  {
   "cell_type": "code",
   "execution_count": null,
   "metadata": {},
   "outputs": [],
   "source": [
    "def cansum(targetsum,numbers):\n",
    "    if(targetsum==0):\n",
    "        return True\n",
    "    if (targetsum < 0):\n",
    "        return False\n",
    "    for num in numbers:\n",
    "        remainder=targetsum-num\n",
    "        if(cansum(remainder,numbers)==True):\n",
    "            return True\n",
    "    return False\n",
    "cansum(7,[2,3])"
   ]
  },
  {
   "cell_type": "code",
   "execution_count": null,
   "metadata": {},
   "outputs": [],
   "source": [
    "def cansum(targetsum,numbers):\n",
    "    if(targetsum in memo):\n",
    "        return memo[targetsum]\n",
    "    if(targetsum==0):\n",
    "        return True\n",
    "    if (targetsum < 0):\n",
    "        return False\n",
    "    for num in numbers:\n",
    "        remainder=targetsum-num\n",
    "        if(cansum(remainder,numbers)==True):\n",
    "            memo[targetsum]=True\n",
    "            return True\n",
    "    memo[targetsum]=False\n",
    "    return False\n",
    "memo={}\n",
    "cansum(300,[7,14])"
   ]
  },
  {
   "cell_type": "code",
   "execution_count": null,
   "metadata": {},
   "outputs": [],
   "source": [
    "def howsum(targetsum,numbers):\n",
    "    if(targetsum==0):\n",
    "        return []\n",
    "    if(targetsum<0):\n",
    "        return None\n",
    "    for num in numbers:\n",
    "        remainder=targetsum-num\n",
    "        remainderresult=howsum(remainder,numbers)\n",
    "        if(remainderresult!=None):\n",
    "            remainderresult.append(num)\n",
    "            return remainderresult\n",
    "    return None\n",
    "howsum(8,[2,3,5])"
   ]
  },
  {
   "cell_type": "code",
   "execution_count": null,
   "metadata": {},
   "outputs": [],
   "source": [
    "def howsum(targetsum,numbers):\n",
    "    if targetsum in memo:\n",
    "        return memo[targetsum]\n",
    "    if(targetsum==0):\n",
    "        return []\n",
    "    if(targetsum<0):\n",
    "        return None\n",
    "    for num in numbers:\n",
    "        remainder=targetsum-num\n",
    "        remainderresult=howsum(remainder,numbers)\n",
    "        if(remainderresult!=None):\n",
    "            remainderresult.append(num)\n",
    "            memo[targetsum]=remainderresult\n",
    "            return memo[targetsum]\n",
    "    memo[targetsum]=None\n",
    "    return None\n",
    "memo={}\n",
    "howsum(300,[7,14])"
   ]
  },
  {
   "cell_type": "code",
   "execution_count": null,
   "metadata": {},
   "outputs": [],
   "source": [
    "def bestsum(targetsum,numbers):\n",
    "    shortestcombination=None\n",
    "    if(targetsum==0):\n",
    "        return []\n",
    "    if(targetsum<0):\n",
    "        return None\n",
    "    for num in numbers:\n",
    "        remainder=targetsum-num\n",
    "        combination=bestsum(remainder,numbers)\n",
    "        if(combination!=None):\n",
    "            combination.append(num)\n",
    "            if(shortestcombination==None or len(shortestcombination)>len(combination)):\n",
    "                shortestcombination=combination\n",
    "    print(targetsum,shortestcombination)\n",
    "    return shortestcombination\n",
    "    \n",
    "bestsum(8,[1,4,5])\n",
    "            \n",
    "            "
   ]
  },
  {
   "cell_type": "code",
   "execution_count": null,
   "metadata": {},
   "outputs": [],
   "source": [
    "#to be solved\n",
    "def bestsum(targetsum,numbers):\n",
    "    memo={}\n",
    "    if targetsum in memoglobal:\n",
    "        return memoglobal[targetsum]\n",
    "    if(targetsum==0):\n",
    "        return []\n",
    "    if(targetsum<0):\n",
    "        return None\n",
    "    shortestcombination=None\n",
    "    for num in numbers:\n",
    "        remainder=targetsum-num\n",
    "        combination=bestsum(remainder,numbers)\n",
    "        if(combination!=None):\n",
    "            combination.append(num)\n",
    "            if(shortestcombination==None or len(shortestcombination)>len(combination)):\n",
    "                shortestcombination=combination\n",
    "                #print(targetsum,shortestcombination)\n",
    "                memo[targetsum]=shortestcombination\n",
    "                memoglobal.update(memo)\n",
    "                #print(memo)\n",
    "\n",
    "   # print(targetsum,shortestcombination)\n",
    "    #memo[targetsum]=shortestcombination\n",
    "    #print(memo)\n",
    "    return shortestcombination\n",
    "memoglobal={}\n",
    "\n",
    "bestsum(8,[1,4,5])\n",
    "#print(memoglobal)"
   ]
  },
  {
   "cell_type": "code",
   "execution_count": null,
   "metadata": {},
   "outputs": [],
   "source": [
    "name=input().split()\n",
    "x=int(name[0])\n",
    "x"
   ]
  },
  {
   "cell_type": "code",
   "execution_count": null,
   "metadata": {},
   "outputs": [],
   "source": [
    "Fredo is assigned a new task today. He is given an array A containing N integers. His task is to update all elements of array to some minimum value x , that is,  ;  such that sum of this new array is strictly greater than the sum of the initial array. Note that x should be as minimum as possible such that sum of the new array is greater than the sum of the initial array.\n",
    "\n",
    "Input Format:\n",
    "First line of input consists of an integer N denoting the number of elements in the array A.\n",
    "Second line consists of N space separated integers denoting the array elements.\n",
    "\n",
    "Output Format:\n",
    "The only line of output consists of the value of x.\n",
    "\n",
    "Input Constraints:\n",
    "\n",
    "\n",
    "SAMPLE INPUT \n",
    "5\n",
    "1 2 3 4 5\n",
    "SAMPLE OUTPUT \n",
    "4\n",
    "Explanation\n",
    "Initial sum of array \n",
    "When we update all elements to 4, sum of array  which is greater than .\n",
    "Note that if we had updated the array elements to 3,  which is not greater than . So, 4 is the minimum value to which array elements need to be updated.\n",
    "\n",
    "Time Limit:\t1.0 sec(s) for each input file.\n",
    "Memory Limit:\t256 MB\n",
    "Source Limit:\t1024 KB\n",
    "Marking Scheme:\tScore is assigned if any testcase passes.\n",
    "Allowed Languages:\tC, C++, Clojure, C#, D, Erlang, F#, Go, Groovy, Haskell, Java, Java 8, JavaScript(Rhino), JavaScript(Node.js), Lisp, Lisp (SBCL), Lua, Objective-C, OCaml, Octave, Pascal, Perl, PHP, Python, Python 3, R(RScript), Racket, Ruby, Rust, Scala, Swift, Visual Basic\n",
    "CODE EDITOR\n"
   ]
  },
  {
   "cell_type": "code",
   "execution_count": null,
   "metadata": {},
   "outputs": [],
   "source": [
    "size=int(input())\n",
    "a=list(map(int,input().split()))\n",
    "a1=sum(a)\n",
    "x=[]\n",
    "if(size>=1):\n",
    "    for i in a:\n",
    "        if(i*size>=a1):\n",
    "            x.append(i)\n",
    "    print(min(x))"
   ]
  },
  {
   "cell_type": "code",
   "execution_count": null,
   "metadata": {},
   "outputs": [],
   "source": [
    "def ngcd(x, y):\n",
    "    i=1\n",
    "    while(i<=x and i<=y):\n",
    "        if(x%i==0 and y%i == 0):\n",
    "            gcd=i;\n",
    "        i+=1\n",
    "    return gcd;\n",
    "def num_comm_div(x, y):\n",
    "    n= ngcd(x, y)\n",
    "    result = 0\n",
    "    z = int(n**0.5)\n",
    "    i = 1\n",
    "    while( i <= z ):\n",
    "        if(n % i == 0):\n",
    "            result += 2 \n",
    "        if(i == n/i):\n",
    "            result-=1\n",
    "        i+=1\n",
    "    return result\n",
    "num_comm_div(2,4)"
   ]
  },
  {
   "cell_type": "code",
   "execution_count": null,
   "metadata": {},
   "outputs": [],
   "source": [
    "Sample Input\n",
    "\n",
    "cde\n",
    "abc\n",
    "Sample Output\n",
    "\n",
    "4\n",
    "Explanation\n",
    "\n",
    "Delete the following characters from the strings make them anagrams:\n",
    "\n",
    "Remove d and e from cde to get c.\n",
    "Remove a and b from abc to get c.\n",
    "It takes  deletions to make both strings anagrams."
   ]
  },
  {
   "cell_type": "code",
   "execution_count": null,
   "metadata": {},
   "outputs": [],
   "source": [
    "def makeAnagram(a, b):\n",
    "    ac={i:a.count(i) for i in set(a)}\n",
    "    bc={i:b.count(i) for i in set(b)}\n",
    "    res={k:ac[k]-bc.get(k,0) for k in ac.keys() }\n",
    "    res1={k:bc[k]-ac.get(k,0) for k in bc.keys() }\n",
    "    res.update(res1)\n",
    "    r=sum(abs(i) for i in res.values() )\n",
    "    return r\n",
    "makeAnagram('acdd','bc')"
   ]
  },
  {
   "cell_type": "code",
   "execution_count": null,
   "metadata": {},
   "outputs": [],
   "source": [
    " [i for i, j in zip(a, b) if i == j]"
   ]
  },
  {
   "cell_type": "code",
   "execution_count": null,
   "metadata": {},
   "outputs": [],
   "source": [
    "l=['e','d']\n",
    "p=sorted(l)\n",
    "p"
   ]
  },
  {
   "cell_type": "code",
   "execution_count": null,
   "metadata": {},
   "outputs": [],
   "source": [
    "ord('a')"
   ]
  },
  {
   "cell_type": "code",
   "execution_count": null,
   "metadata": {},
   "outputs": [],
   "source": [
    "a=['a','b','c']\n",
    "b=['c','d','e']\n",
    "for i in range(3):\n",
    "    print(ord(a[i])-ord('a'))\n",
    "for i in range(3):\n",
    "    print(ord(b[i])-ord('a'))"
   ]
  },
  {
   "cell_type": "code",
   "execution_count": null,
   "metadata": {},
   "outputs": [],
   "source": [
    "l1=[1,2]\n",
    "l2=[1,2,3,4,2]\n",
    "x={1,2}\n",
    "len(set(l2))-len(x)"
   ]
  },
  {
   "cell_type": "code",
   "execution_count": null,
   "metadata": {},
   "outputs": [],
   "source": [
    "from collections import Counter\n",
    "def number_needed(a, b):\n",
    "    ct_a = Counter(a)\n",
    "    print(ct_a)\n",
    "    ct_b = Counter(b)\n",
    "    print(Counter(b))\n",
    "    ct_a.subtract(ct_b)\n",
    "    print(ct_a)\n",
    "    return sum(abs(i) for i in ct_a.values())\n",
    "number_needed('avc','cde')"
   ]
  },
  {
   "cell_type": "code",
   "execution_count": null,
   "metadata": {},
   "outputs": [],
   "source": [
    "a='abca'\n",
    "d={i:a.count(i) for i in set(a)}\n",
    "print(d)\n",
    "b='bcd'\n",
    "e={i:b.count(i) for i in set(b)}\n",
    "print(e)\n",
    "res = {key: d[key] - e.get(key, 0) \n",
    "                       for key in d.keys()}\n",
    "res1 = {key: e[key] - d.get(key, 0) \n",
    "                       for key in e.keys()}\n",
    "\n",
    "print(res)\n",
    "print(res1)\n",
    "res.update(res1)\n",
    "print(res)"
   ]
  },
  {
   "cell_type": "code",
   "execution_count": null,
   "metadata": {},
   "outputs": [],
   "source": [
    "d.update(e)\n",
    "print(d)"
   ]
  },
  {
   "cell_type": "code",
   "execution_count": null,
   "metadata": {},
   "outputs": [],
   "source": [
    "def valid(s):\n",
    "    dup=s\n",
    "    sc={i:s.count(i) for i in set(s)}\n",
    "    min_=min(sc.values())\n",
    "    max_=max(sc.values())\n",
    "    if(min_== max_):\n",
    "        return 'valid'\n",
    "    vl=list(sc.values())\n",
    "    kl=list(sc.keys())\n",
    "    pos_max=vl.index(max_)\n",
    "    pos_min=vl.index(min_)\n",
    "    \n",
    "    k_max=kl[pos_max]\n",
    "    k_min=kl[pos_min]\n",
    "    dup=dup.replace(k_max,'',1)\n",
    "    scdup1={i:dup.count(i) for i in set(dup)}\n",
    "    min_=min(scdup.values())\n",
    "    max_=max(sc.values())\n",
    "    \n",
    "\n",
    "    print(sc,max_,min_,k_max,k_min,scdup1)\n",
    "valid('aabbc')"
   ]
  },
  {
   "cell_type": "code",
   "execution_count": null,
   "metadata": {},
   "outputs": [],
   "source": [
    "# creating a new dictionary\n",
    "my_dict ={\"java\":100, \"python\":112, \"c\":11}\n",
    " \n",
    "# list out keys and values separately\n",
    "key_list = list(my_dict.keys())\n",
    "val_list = list(my_dict.values())\n",
    " \n",
    "# print key with val 100\n",
    "position = val_list.index(100)\n",
    "print(key_list[position])\n",
    " \n",
    "# print key with val 112\n",
    "position = val_list.index(112)\n",
    "print(key_list[position])\n",
    " \n",
    "# one-liner\n",
    "print(list(my_dict.keys())[list(my_dict.values()).index(112)])"
   ]
  },
  {
   "cell_type": "code",
   "execution_count": null,
   "metadata": {},
   "outputs": [],
   "source": [
    "v={'a': 2, 'b': 0, 'c': 0, 'd': 1}\n",
    "min(v.values())"
   ]
  },
  {
   "cell_type": "code",
   "execution_count": null,
   "metadata": {},
   "outputs": [],
   "source": [
    "s='ac'\n",
    "s=s.replace('c','')\n",
    "s"
   ]
  },
  {
   "cell_type": "code",
   "execution_count": null,
   "metadata": {},
   "outputs": [],
   "source": [
    "def moves(a):\n",
    "    moves=0\n",
    "    h_size=int(len(a)/2)\n",
    "    for i in range(0,h_size):\n",
    "        if(a[i]%2!=0):\n",
    "            print(a[i])\n",
    "            for j in range(h_size,len(a)):\n",
    "                if(a[j]%2==0):\n",
    "                    a[j]=a[j]*a[i]\n",
    "                    a[i]=a[j]/a[i]\n",
    "                    a[j]=a[j]/a[i]\n",
    "                    moves+=1\n",
    "    return moves\n",
    "moves([8,5,11,4,6])                "
   ]
  },
  {
   "cell_type": "code",
   "execution_count": null,
   "metadata": {},
   "outputs": [],
   "source": [
    "def breakpal(s):\n",
    "    l=len(s)\n",
    "    j=-1\n",
    "    equal=set(s)\n",
    "    pal=list(s)\n",
    "    if l==1:\n",
    "        return 'IMPOSSIBLE'\n",
    "    if len(equal)==1 and list(equal)[0]=='a':\n",
    "        return 'IMPOSSIBLE'\n",
    "    for i in range(l):\n",
    "        if(l%2!=0):\n",
    "            m=l//2\n",
    "            if(m==i):\n",
    "                continue\n",
    "        if(pal[i]!='a'):\n",
    "            pal[i]='a'\n",
    "            return ''.join(pal)\n",
    "    pal[-1]='a'\n",
    "    return ''.join(pal)\n",
    "breakpal('aaa')\n",
    "            \n",
    "        "
   ]
  },
  {
   "cell_type": "code",
   "execution_count": null,
   "metadata": {},
   "outputs": [],
   "source": [
    "l='aaa'\n",
    "x=set(l)\n",
    "y=list(x)\n",
    "y[0]=='a'"
   ]
  },
  {
   "cell_type": "code",
   "execution_count": null,
   "metadata": {},
   "outputs": [],
   "source": [
    "l=[1]\n",
    "if(l):\n",
    "    print('hi')"
   ]
  },
  {
   "cell_type": "code",
   "execution_count": null,
   "metadata": {},
   "outputs": [],
   "source": [
    "Last Occurrence\n",
    "You have been given an array of size N consisting of integers. In addition you have been given an element M you need to find and print the index of the last occurrence of this element M in the array if it exists in it, otherwise print -1. Consider this array to be 1 indexed.\n",
    "\n",
    "Input Format:\n",
    "\n",
    "The first line consists of 2 integers N and M denoting the size of the array and the element to be searched for in the array respectively . The next line contains N space separated integers denoting the elements of of the array.\n",
    "\n",
    "Output Format\n",
    "\n",
    "Print a single integer denoting the index of the last occurrence of integer M in the array if it exists, otherwise print -1.\n",
    "\n",
    "Constraints\n",
    "\n",
    "\n",
    "\n",
    "\n",
    "SAMPLE INPUT \n",
    "5 1\n",
    "1 2 3 4 1\n",
    "SAMPLE OUTPUT \n",
    "5\n"
   ]
  },
  {
   "cell_type": "code",
   "execution_count": null,
   "metadata": {},
   "outputs": [],
   "source": [
    "x=input().split()\n",
    "a=list(map(int,input().split()))\n",
    "n=int(x[0])\n",
    "m=int(x[1])\n",
    "index=[]\n",
    "for i in range(0,n):\n",
    "    if(a[i]==m):\n",
    "        index.append(i)\n",
    "if(index):\n",
    "    print(index[-1]+1)\n",
    "else:\n",
    "    print(-1)"
   ]
  },
  {
   "cell_type": "code",
   "execution_count": null,
   "metadata": {},
   "outputs": [],
   "source": [
    "n=int(input())\n",
    "a=list(map(int,input().split()))\n",
    "a=sorted(a)\n",
    "q=int(input())\n",
    "while(q>0):\n",
    "    k=int(input())\n",
    "    print('k',k)\n",
    "    print('q',q)\n",
    "    low=0\n",
    "    high=n\n",
    "    while(low<=high):\n",
    "        mid=(low+high)//2\n",
    "        print('mid',mid)\n",
    "        if(a[mid]>k):\n",
    "            high=mid-1\n",
    "            print('high',high)\n",
    "        elif(a[mid]<k):\n",
    "            low=mid+1\n",
    "            print('low',low)\n",
    "        else:\n",
    "            print (k)\n",
    "            break\n",
    "    k=0\n",
    "    q-=1"
   ]
  },
  {
   "cell_type": "code",
   "execution_count": null,
   "metadata": {},
   "outputs": [],
   "source": [
    "n=int(input())\n",
    "a=list(map(int,input().split()))\n",
    "a=sorted(a)\n",
    "q=int(input())\n",
    "while(q>0):\n",
    "    k=int(input())\n",
    "    low=0\n",
    "    high=n\n",
    "    while(low<=high):\n",
    "        mid=(low+high)//2\n",
    "        if(a[mid]>k):\n",
    "            high=mid-1\n",
    "        elif(a[mid]<k):\n",
    "            low=mid+1\n",
    "        else:\n",
    "            print (k)\n",
    "            break\n",
    "    k=0\n",
    "    q-=1"
   ]
  },
  {
   "cell_type": "code",
   "execution_count": 4,
   "metadata": {},
   "outputs": [
    {
     "name": "stdout",
     "output_type": "stream",
     "text": [
      "3\n"
     ]
    }
   ],
   "source": [
    "#iterative\n",
    "\n",
    "c=0\n",
    "n=123\n",
    "while(n!=0):\n",
    "    n=n//10\n",
    "    c+=1\n",
    "print(c)"
   ]
  },
  {
   "cell_type": "code",
   "execution_count": 5,
   "metadata": {},
   "outputs": [
    {
     "data": {
      "text/plain": [
       "3"
      ]
     },
     "execution_count": 5,
     "metadata": {},
     "output_type": "execute_result"
    }
   ],
   "source": [
    "#recursive\n",
    "\n",
    "def count(n):\n",
    "    if(n==0):\n",
    "        return 0\n",
    "    return 1+count(n//10)\n",
    "count(123)"
   ]
  },
  {
   "cell_type": "code",
   "execution_count": 9,
   "metadata": {},
   "outputs": [
    {
     "data": {
      "text/plain": [
       "3"
      ]
     },
     "execution_count": 9,
     "metadata": {},
     "output_type": "execute_result"
    }
   ],
   "source": [
    "#logarithmic\n",
    "import math\n",
    "def log(n):\n",
    "    return math.floor(math.log(n,10)+1)\n",
    "log(123)"
   ]
  },
  {
   "cell_type": "code",
   "execution_count": 13,
   "metadata": {},
   "outputs": [
    {
     "data": {
      "text/plain": [
       "True"
      ]
     },
     "execution_count": 13,
     "metadata": {},
     "output_type": "execute_result"
    }
   ],
   "source": [
    "def pal(n):\n",
    "    n=str(n)\n",
    "    if(int(n)==int(n[::-1])):\n",
    "        return True\n",
    "    else:\n",
    "        return False\n",
    "pal(1221)"
   ]
  },
  {
   "cell_type": "code",
   "execution_count": 29,
   "metadata": {},
   "outputs": [
    {
     "name": "stdout",
     "output_type": "stream",
     "text": [
      "9\n"
     ]
    }
   ],
   "source": [
    "l=[3,2,1,4,5]\n",
    "c,m=0,0\n",
    "for i in range(0,len(l)):\n",
    "    for j in range(i+1,len(l)):\n",
    "        c=min(l[i],l[j])*(j-i-1)\n",
    "    m=max(m,c)\n",
    "print(m)"
   ]
  },
  {
   "cell_type": "code",
   "execution_count": 30,
   "metadata": {},
   "outputs": [
    {
     "name": "stdout",
     "output_type": "stream",
     "text": [
      "1 2\n",
      "1 3\n",
      "1 4\n",
      "1 5\n",
      "2 3\n",
      "2 4\n",
      "2 5\n",
      "3 4\n",
      "3 5\n",
      "4 5\n"
     ]
    }
   ],
   "source": [
    "l=[1,2,3,4,5]\n",
    "c,m=0,0\n",
    "for i in range(0,len(l)):\n",
    "    for j in range(i+1,len(l)):\n",
    "        print(l[i],l[j])\n",
    "        "
   ]
  },
  {
   "cell_type": "code",
   "execution_count": 38,
   "metadata": {},
   "outputs": [
    {
     "data": {
      "text/plain": [
       "1"
      ]
     },
     "execution_count": 38,
     "metadata": {},
     "output_type": "execute_result"
    }
   ],
   "source": [
    "x=[1,1,2,2,3,4]\n",
    "l={i:x.count(i) for i in set(x)}\n",
    "if(min(l.values())):\n",
    "    print(-1)\n"
   ]
  },
  {
   "cell_type": "code",
   "execution_count": 56,
   "metadata": {},
   "outputs": [
    {
     "name": "stdout",
     "output_type": "stream",
     "text": [
      "2\n"
     ]
    }
   ],
   "source": [
    "x=[1, 5, 3, 4, 3, 5, 6]\n",
    "l={i:[x.index(x[i]),x.count(i)] for i in set(x)}\n",
    "m=[]\n",
    "for i in l.values():\n",
    "    if(i[1]>1):\n",
    "        m.append(i[0])\n",
    "\n",
    "        \n",
    "print(min(m)+1)\n",
    "        "
   ]
  },
  {
   "cell_type": "code",
   "execution_count": 60,
   "metadata": {},
   "outputs": [
    {
     "data": {
      "text/plain": [
       "1"
      ]
     },
     "execution_count": 60,
     "metadata": {},
     "output_type": "execute_result"
    }
   ],
   "source": [
    "x=[1,2,2,3,4,4]\n",
    "l={i:[x.index(x[i]),x.count(i)] for i in set(x)}\n",
    "y=list(l.values())\n",
    "min(y[1])"
   ]
  },
  {
   "cell_type": "code",
   "execution_count": 83,
   "metadata": {},
   "outputs": [
    {
     "data": {
      "text/plain": [
       "3"
      ]
     },
     "execution_count": 83,
     "metadata": {},
     "output_type": "execute_result"
    }
   ],
   "source": [
    "def distinct(a,n):\n",
    "    res=0\n",
    "    for i in range(0,n-1):\n",
    "        flag=0\n",
    "        for j in range(0,i):\n",
    "            if(a[i]==a[j]):\n",
    "                flag=1\n",
    "        if(flag==0):\n",
    "            res+=1\n",
    "    return res\n",
    "distinct([10,20,10,20,30,30],6)"
   ]
  },
  {
   "cell_type": "code",
   "execution_count": 84,
   "metadata": {},
   "outputs": [
    {
     "data": {
      "text/plain": [
       "2"
      ]
     },
     "execution_count": 84,
     "metadata": {},
     "output_type": "execute_result"
    }
   ],
   "source": [
    "len(set([10,20,10,20]))"
   ]
  },
  {
   "cell_type": "code",
   "execution_count": 86,
   "metadata": {},
   "outputs": [
    {
     "name": "stdout",
     "output_type": "stream",
     "text": [
      "{1: 2, 2: 2, 3: 3}\n"
     ]
    }
   ],
   "source": [
    "x=[1,2,2,3,3,1,3]\n",
    "print({i:x.count(i)for i in set(x)})"
   ]
  },
  {
   "cell_type": "code",
   "execution_count": 94,
   "metadata": {},
   "outputs": [],
   "source": [
    "x=[10,20]\n",
    "y=[20,30,10]\n",
    "x1=list(set(x))\n",
    "y1=list(set(y))\n",
    "for i in range(len(x1)):\n",
    "    for j in range(0,i):\n",
    "        if(x1[i]==y1[j]):\n",
    "            print(x[i])"
   ]
  },
  {
   "cell_type": "code",
   "execution_count": 120,
   "metadata": {},
   "outputs": [
    {
     "name": "stdout",
     "output_type": "stream",
     "text": [
      "1 2 3\n"
     ]
    }
   ],
   "source": [
    "l=[1,2,3,4,5]\n",
    "del l[3:]\n",
    "print(\" \".join(str(i) for i in l))"
   ]
  },
  {
   "cell_type": "code",
   "execution_count": 119,
   "metadata": {},
   "outputs": [
    {
     "name": "stdout",
     "output_type": "stream",
     "text": [
      "1 2\n"
     ]
    }
   ],
   "source": [
    "l=['1','2']\n",
    "print(' '.join(l))"
   ]
  },
  {
   "cell_type": "code",
   "execution_count": 137,
   "metadata": {},
   "outputs": [
    {
     "name": "stdout",
     "output_type": "stream",
     "text": [
      "1\n",
      "4 9\n",
      "12754 12399 19932 15060\n",
      "i 0\n",
      "s [4, 9]\n",
      "r 1\n",
      "a [12754, 12399, 19932, 15060]\n",
      "l 4\n",
      "x [15060]\n",
      "xx [15060, 12754, 12399, 19932]\n",
      "15060 12754 12399 19932\n"
     ]
    }
   ],
   "source": [
    "t=int(input())\n",
    "for i in range(t):\n",
    "    s=list(map(int,input().split()))\n",
    "    r=s[1]%s[0]\n",
    "    a=list(map(int,input().split()))\n",
    "    l=len(a)\n",
    "    x=a[l-r:]\n",
    "    print('i',i)\n",
    "    print('s',s)\n",
    "    print('r',r)\n",
    "    print('a',a)\n",
    "    print('l',l)\n",
    "    print('x',x)\n",
    "    \n",
    "    del a[l-r:]\n",
    "    x.extend(a)\n",
    "    print('xx',x)\n",
    "    print(' '.join(str(i) for i in x))"
   ]
  },
  {
   "cell_type": "code",
   "execution_count": null,
   "metadata": {},
   "outputs": [],
   "source": [
    "12399 19932 15060 12754\n",
    "12754 12399 19932 15060"
   ]
  },
  {
   "cell_type": "code",
   "execution_count": 141,
   "metadata": {},
   "outputs": [
    {
     "name": "stdout",
     "output_type": "stream",
     "text": [
      "1 2 3\n",
      "[1, 2, 3]\n",
      "[[1, 2, 3]]\n",
      "4 5 6\n",
      "[4, 5, 6]\n",
      "[[1, 2, 3], [4, 5, 6]]\n",
      "7 8 9\n",
      "[7, 8, 9]\n",
      "[[1, 2, 3], [4, 5, 6], [7, 8, 9]]\n"
     ]
    }
   ],
   "source": [
    "n=3\n",
    "m=[]\n",
    "for i in range(n):\n",
    "    x=list(map(int,input().split()))\n",
    "    print(x)\n",
    "    m.append(x)\n",
    "    print(m)\n",
    "    \n",
    "\n",
    "    "
   ]
  },
  {
   "cell_type": "code",
   "execution_count": 143,
   "metadata": {},
   "outputs": [
    {
     "data": {
      "text/plain": [
       "5"
      ]
     },
     "execution_count": 143,
     "metadata": {},
     "output_type": "execute_result"
    }
   ],
   "source": [
    "l=[[1, 2, 3], [4, 5, 6], [7, 8, 9]]\n",
    "l[1][1]"
   ]
  },
  {
   "cell_type": "code",
   "execution_count": 145,
   "metadata": {},
   "outputs": [
    {
     "name": "stdout",
     "output_type": "stream",
     "text": [
      "0 0\n",
      "0 1\n",
      "0 2\n",
      "1 0\n",
      "1 1\n",
      "1 2\n",
      "2 0\n",
      "2 1\n",
      "2 2\n"
     ]
    }
   ],
   "source": [
    "n=3\n",
    "for i,j in range(n):\n",
    "    for p,q in range(n):\n",
    "        print(i,j)"
   ]
  },
  {
   "cell_type": "code",
   "execution_count": 150,
   "metadata": {},
   "outputs": [
    {
     "name": "stdout",
     "output_type": "stream",
     "text": [
      "[(0, 0), (0, 1), (0, 2), (1, 0), (1, 1), (1, 2), (2, 0), (2, 1), (2, 2)]\n",
      "[(0, 0), (0, 1), (0, 2), (1, 0), (1, 1), (1, 2), (2, 0), (2, 1), (2, 2)]\n"
     ]
    }
   ],
   "source": [
    "n=3\n",
    "m=[]\n",
    "l=[]\n",
    "for i in range(n):\n",
    "    for j in range(n):\n",
    "        m.append((i, j))\n",
    "        l=m\n",
    "print(l)\n",
    "print(m)\n"
   ]
  },
  {
   "cell_type": "code",
   "execution_count": null,
   "metadata": {},
   "outputs": [],
   "source": [
    "[(0, 0), (0, 1), (0, 2), (1, 0), (1, 1), (1, 2), (2, 0), (2, 1), (2, 2)]\n",
    "[(0, 0), (0, 1), (0, 2), (1, 0), (1, 1), (1, 2), (2, 0), (2, 1), (2, 2)]"
   ]
  },
  {
   "cell_type": "code",
   "execution_count": null,
   "metadata": {},
   "outputs": [],
   "source": [
    "t=int(input())\n",
    "for i in range(t):\n",
    "    n=int(input())\n",
    "    m=[]\n",
    "    a=[]\n",
    "    count=0\n",
    "    for i in range(n):\n",
    "        x=list(map(int,input().split()))\n",
    "        m.append(x)\n",
    "    for i in range(n):\n",
    "        for j in range(n):\n",
    "            a.append((i,j))\n",
    "    for i,j in a:\n",
    "        for p,q in a:\n",
    "            if(i<=p and j<=q):\n",
    "                if(m[i][j]>m[p][q]):\n",
    "                    count+=1\n",
    "    print(count)"
   ]
  },
  {
   "cell_type": "code",
   "execution_count": 153,
   "metadata": {},
   "outputs": [
    {
     "name": "stdout",
     "output_type": "stream",
     "text": [
      "11"
     ]
    }
   ],
   "source": [
    "def dectobin(n):\n",
    "    if(n>1):\n",
    "        dectobin(n//2)\n",
    "    print(n%2,end='')\n",
    "dectobin(3)\n",
    "    "
   ]
  },
  {
   "cell_type": "code",
   "execution_count": 154,
   "metadata": {},
   "outputs": [
    {
     "data": {
      "text/plain": [
       "'0b1011'"
      ]
     },
     "execution_count": 154,
     "metadata": {},
     "output_type": "execute_result"
    }
   ],
   "source": [
    "bin(11)"
   ]
  },
  {
   "cell_type": "code",
   "execution_count": 157,
   "metadata": {},
   "outputs": [
    {
     "data": {
      "text/plain": [
       "3"
      ]
     },
     "execution_count": 157,
     "metadata": {},
     "output_type": "execute_result"
    }
   ],
   "source": [
    "int('11',2)"
   ]
  },
  {
   "cell_type": "code",
   "execution_count": 161,
   "metadata": {},
   "outputs": [
    {
     "name": "stdout",
     "output_type": "stream",
     "text": [
      "[0, 1, 1, 1]\n",
      "[1, 1, 1, 0]\n",
      "[1, 1, 0, 1]\n",
      "[1, 0, 1, 1]\n"
     ]
    }
   ],
   "source": [
    "l=[1,0,1,1]\n",
    "for i in range(4):\n",
    "    f=l[0]\n",
    "    del l[0]\n",
    "    l.append(f)\n",
    "    print(l)"
   ]
  },
  {
   "cell_type": "code",
   "execution_count": 192,
   "metadata": {},
   "outputs": [
    {
     "name": "stdout",
     "output_type": "stream",
     "text": [
      "1\n",
      "6 2\n",
      "0 1 0 1 0 1\n",
      "[1, 0, 1, 0, 1, 0]\n",
      "{42: 0}\n",
      "{0: 42}\n",
      "[0, 1, 0, 1, 0, 1]\n",
      "{42: 0, 21: 1}\n",
      "{0: 42, 1: 21}\n",
      "[1, 0, 1, 0, 1, 0]\n",
      "{42: 2, 21: 1}\n",
      "{0: 42, 1: 21, 2: 42}\n",
      "[0, 1, 0, 1, 0, 1]\n",
      "{42: 2, 21: 3}\n",
      "{0: 42, 1: 21, 2: 42, 3: 21}\n",
      "[1, 0, 1, 0, 1, 0]\n",
      "{42: 4, 21: 3}\n",
      "{0: 42, 1: 21, 2: 42, 3: 21, 4: 42}\n",
      "[0, 1, 0, 1, 0, 1]\n",
      "{42: 4, 21: 5}\n",
      "{0: 42, 1: 21, 2: 42, 3: 21, 4: 42, 5: 21}\n",
      "4\n",
      "{42: 4, 21: 5}\n",
      "6\n",
      "11\n"
     ]
    }
   ],
   "source": [
    "t=int(input())\n",
    "for i in range(t):\n",
    "    e=list(map(int,input().split()))\n",
    "    s=e[0]\n",
    "    y=e[1]\n",
    "    maxx=0\n",
    "    r={}\n",
    "    a=list(map(int,input().split()))\n",
    "    for i in range(s):\n",
    "        f=a[0]\n",
    "        del a[0]\n",
    "        a.append(f)\n",
    "        print(a)\n",
    "        ss=[str(i) for i in a]\n",
    "        k=''.join(ss)\n",
    "        r[int(k,2)]=i\n",
    "        print(r)\n",
    "        print(z)\n",
    "    maxx=max(r.keys())\n",
    "    if(r[maxx]<s):\n",
    "        count=r[maxx]+1+((((s-1)-r[maxx])+r[maxx])+1)*(y-1)\n",
    "    print(r[maxx])\n",
    "    print(r)\n",
    "    print(s)\n",
    "    print(count)\n",
    "    \n",
    "    "
   ]
  },
  {
   "cell_type": "code",
   "execution_count": 190,
   "metadata": {},
   "outputs": [
    {
     "data": {
      "text/plain": [
       "42"
      ]
     },
     "execution_count": 190,
     "metadata": {},
     "output_type": "execute_result"
    }
   ],
   "source": [
    "int('101010',2)\n",
    "int('010101',2)\n",
    "int('101010',2)"
   ]
  },
  {
   "cell_type": "code",
   "execution_count": null,
   "metadata": {},
   "outputs": [],
   "source": [
    "1 0 1 0 1\n",
    "0 1 0 1 0 1\n",
    "\n",
    "\n",
    "11\n",
    "22\n",
    "13\n",
    "26\n",
    "21"
   ]
  },
  {
   "cell_type": "code",
   "execution_count": 69,
   "metadata": {},
   "outputs": [
    {
     "name": "stdout",
     "output_type": "stream",
     "text": [
      "1\n",
      "1 2 3 4\n",
      "1 2 3 4\n",
      "xx [1, 2, 3, 4]\n",
      "1 2 3 4\n"
     ]
    }
   ],
   "source": [
    "t=int(input())\n",
    "for i in range(t):\n",
    "    s=list(map(int,input().split()))\n",
    "    r=s[1]%s[0]\n",
    "    a=list(map(int,input().split()))\n",
    "    l=len(a)\n",
    "    x=a[l-r:]\n",
    "    del a[l-r:]\n",
    "    x.extend(a)\n",
    "    print('xx',x)\n",
    "    print(' '.join(str(i) for i in x))"
   ]
  },
  {
   "cell_type": "code",
   "execution_count": 9,
   "metadata": {},
   "outputs": [
    {
     "name": "stdout",
     "output_type": "stream",
     "text": [
      "5\n",
      "23 13 10 2 33\n",
      "5\n",
      "7 11\n",
      "10 30\n",
      "1 10\n",
      "2 40\n",
      "5 6\n",
      "1 3 2 5 0\n"
     ]
    }
   ],
   "source": [
    "n=int(input())\n",
    "p=sorted(list(map(int,input().split())))\n",
    "q=int(input())\n",
    "cc=[]\n",
    "for i in range(q):\n",
    "    count=0\n",
    "    r=list(map(int,input().split()))\n",
    "    for j in range(len(p)):\n",
    "        if(p[j]>=r[0] and p[j]<=r[1]):\n",
    "            count+=1\n",
    "    cc.append(count)\n",
    "print(' '.join(map(str,cc)))\n",
    "    "
   ]
  },
  {
   "cell_type": "code",
   "execution_count": null,
   "metadata": {},
   "outputs": [],
   "source": [
    "23 13 10 2 33"
   ]
  },
  {
   "cell_type": "code",
   "execution_count": 1,
   "metadata": {},
   "outputs": [
    {
     "name": "stdout",
     "output_type": "stream",
     "text": [
      "10\n"
     ]
    }
   ],
   "source": [
    "l=[2,10,13,23,33]\n",
    "r=[7,11]\n",
    "for i in range(len(l)):\n",
    "    if(l[i]>=r[0] and l[i]<=r[1]):\n",
    "        print(l[i])"
   ]
  },
  {
   "cell_type": "code",
   "execution_count": 15,
   "metadata": {},
   "outputs": [
    {
     "data": {
      "text/plain": [
       "100"
      ]
     },
     "execution_count": 15,
     "metadata": {},
     "output_type": "execute_result"
    }
   ],
   "source": [
    "def gcd(a,b):\n",
    "    if(b==0):\n",
    "        return a\n",
    "    else:\n",
    "        return gcd(b,a%b)\n",
    "gcd(100,200)"
   ]
  },
  {
   "cell_type": "markdown",
   "metadata": {},
   "source": [
    "# ARRAY IMPLEMENTATION FROM SCRATCH\n",
    "\n",
    "### LOOKUP: O(1)\n",
    "### PUSH:O(1)\n",
    "### POP:O(1)\n",
    "### INSERT:O(N)\n",
    "### DELETE:O(N)"
   ]
  },
  {
   "cell_type": "code",
   "execution_count": 13,
   "metadata": {},
   "outputs": [
    {
     "name": "stdout",
     "output_type": "stream",
     "text": [
      "{'data': {0: 6}, 'length': 0}\n",
      "<bound method array.__str__ of <__main__.array object at 0x7fafc13a1130>>\n",
      "{'data': {0: 2, 1: 3, 2: 4, 3: 5}, 'length': 4}\n",
      "{'data': {0: 1, 1: 2, 2: 3, 3: 4, 4: 5}, 'length': 5}\n",
      "{'data': {0: 2, 1: 3, 2: 4, 3: 5}, 'length': 4}\n",
      "{'data': {0: 2, 1: 3, 2: 5}, 'length': 3}\n"
     ]
    }
   ],
   "source": [
    "class array():\n",
    "    def __init__(self):\n",
    "        self.data={0:6}\n",
    "        self.length=0\n",
    "        print(self.__dict__)#gives class attributes\n",
    "        print(self.__str__)#gives location of obj\n",
    "    def get(self,index):\n",
    "        return self.data[index]\n",
    "    def __str__(self):#modifies __str__ to print value of array instead of its location\n",
    "        return str(self.__dict__)\n",
    "    def push(self,item):\n",
    "        self.data[self.length]=item\n",
    "        self.length+=1\n",
    "    def pop(self):\n",
    "        last_item=self.data[self.length-1]\n",
    "        del self.data[self.length-1]\n",
    "        self.length-=1\n",
    "        return last_item\n",
    "    def insert(self,index,item):\n",
    "        self.length+=1\n",
    "        for i in range(self.length-1,index,-1):\n",
    "            self.data[i]=self.data[i-1]\n",
    "        self.data[index]=item\n",
    "    def delete(self,index):\n",
    "        self.length-=1\n",
    "        for i in range(index,self.length):\n",
    "            self.data[i]=self.data[i+1]\n",
    "        del self.data[self.length]\n",
    "            \n",
    "        \n",
    "        \n",
    "\n",
    "a1=array()\n",
    "a1.get(0)\n",
    "a1.push(2)\n",
    "a1.push(3)\n",
    "a1.pop()\n",
    "a1.push(10)\n",
    "a1.pop()\n",
    "a1.push(3)\n",
    "a1.push(4)\n",
    "a1.push(5)\n",
    "print(a1)\n",
    "a1.insert(0,1)\n",
    "print(a1)\n",
    "a1.delete(0)\n",
    "print(a1)\n",
    "a1.delete(2)\n",
    "print(a1)"
   ]
  },
  {
   "cell_type": "code",
   "execution_count": null,
   "metadata": {},
   "outputs": [],
   "source": []
  },
  {
   "cell_type": "code",
   "execution_count": null,
   "metadata": {},
   "outputs": [],
   "source": []
  },
  {
   "cell_type": "code",
   "execution_count": null,
   "metadata": {},
   "outputs": [],
   "source": []
  },
  {
   "cell_type": "code",
   "execution_count": null,
   "metadata": {},
   "outputs": [],
   "source": []
  },
  {
   "cell_type": "code",
   "execution_count": null,
   "metadata": {},
   "outputs": [],
   "source": []
  },
  {
   "cell_type": "code",
   "execution_count": null,
   "metadata": {},
   "outputs": [],
   "source": []
  },
  {
   "cell_type": "code",
   "execution_count": null,
   "metadata": {},
   "outputs": [],
   "source": []
  },
  {
   "cell_type": "code",
   "execution_count": null,
   "metadata": {},
   "outputs": [],
   "source": []
  },
  {
   "cell_type": "code",
   "execution_count": 47,
   "metadata": {},
   "outputs": [
    {
     "name": "stdout",
     "output_type": "stream",
     "text": [
      "{'data': {}, 'length': 0}\n",
      "{'data': {0: 12}, 'length': 1}\n",
      "{'data': {0: 12, 1: 22}, 'length': 2}\n",
      "{'data': {0: 12}, 'length': 1}\n",
      "{'data': {}, 'length': 0}\n",
      "{'data': {0: 1}, 'length': 1}\n",
      "{'data': {0: 1, 2: 2}, 'length': 2}\n",
      "{'data': {0: 1, 2: 99}, 'length': 3}\n",
      "{'data': {0: 1}, 'length': 2}\n",
      "{'data': {0: 1, 2: 22, 3: 33, 4: 44}, 'length': 5}\n",
      "{'data': {0: 1, 2: 33, 3: 44}, 'length': 4}\n"
     ]
    }
   ],
   "source": [
    "class arr():\n",
    "    def __init__(self):\n",
    "        self.data={}\n",
    "        self.length=0\n",
    "    def __str__(self):\n",
    "        return str(self.__dict__)\n",
    "    def get(self,index):\n",
    "        return self.data[index]\n",
    "    def push(self,item):\n",
    "        self.data[self.length]=item\n",
    "        self.length+=1\n",
    "    def pop(self):\n",
    "        del self.data[self.length-1]\n",
    "        self.length-=1\n",
    "    def insert(self,index,item):\n",
    "        self.length+=1\n",
    "        for i in range(self.length-1,index,-1):\n",
    "            self.data[i]=self.data[i-1]\n",
    "        self.data[index]=item\n",
    "    def delete(self,index):\n",
    "        self.length-=1\n",
    "        for i in range(index,self.length):\n",
    "            self.data[i]=self.data[i+1]\n",
    "        del self.data[self.length]\n",
    "    \n",
    "        \n",
    "w=arr()\n",
    "print(w)\n",
    "w.push(12)\n",
    "print(w)\n",
    "w.push(22)\n",
    "print(w)\n",
    "w.pop()\n",
    "print(w)\n",
    "w.pop()\n",
    "print(w)\n",
    "w.insert(0,1)\n",
    "print(w)\n",
    "w.insert(2,2)\n",
    "print(w)\n",
    "w.push(99)\n",
    "w.push(100)\n",
    "w.pop()\n",
    "print(w)\n",
    "w.delete(2)\n",
    "print(w)\n",
    "w.push(22)\n",
    "w.push(33)\n",
    "w.push(44)\n",
    "print(w)\n",
    "w.delete(2)\n",
    "print(w)"
   ]
  },
  {
   "cell_type": "code",
   "execution_count": 37,
   "metadata": {},
   "outputs": [
    {
     "name": "stdout",
     "output_type": "stream",
     "text": [
      "i 0\n",
      "j 0\n",
      "f1 0\n",
      "f2 1\n",
      "insertion in 1st [0]\n",
      "i:: 1\n",
      "i 1\n",
      "j 0\n",
      "f1 3\n",
      "f2 1\n",
      "insertion in 2nd [0, 1]\n",
      "i:: 1\n",
      "i 1\n",
      "j 1\n",
      "f1 3\n",
      "f2 6\n",
      "insertion in 1st [0, 1, 3]\n",
      "i:: 2\n",
      "i 2\n",
      "j 1\n",
      "f1 5\n",
      "f2 6\n",
      "insertion in 1st [0, 1, 3, 5]\n",
      "i:: 3\n",
      "i 3\n",
      "j 1\n",
      "f1 8\n",
      "f2 6\n",
      "insertion in 2nd [0, 1, 3, 5, 6]\n",
      "i:: 3\n",
      "i 3\n",
      "j 2\n",
      "f1 8\n",
      "f2 8\n",
      "insertion in 2nd [0, 1, 3, 5, 6, 8]\n",
      "i:: 3\n",
      "i 3\n",
      "j 3\n",
      "f1 8\n",
      "f2 9\n",
      "insertion in 1st [0, 1, 3, 5, 6, 8, 8]\n"
     ]
    },
    {
     "ename": "IndexError",
     "evalue": "list index out of range",
     "output_type": "error",
     "traceback": [
      "\u001b[0;31m---------------------------------------------------------------------------\u001b[0m",
      "\u001b[0;31mIndexError\u001b[0m                                Traceback (most recent call last)",
      "\u001b[0;32m<ipython-input-37-6b40e7d452fa>\u001b[0m in \u001b[0;36m<module>\u001b[0;34m\u001b[0m\n\u001b[1;32m     22\u001b[0m         \u001b[0mmergedsorted\u001b[0m\u001b[0;34m.\u001b[0m\u001b[0mappend\u001b[0m\u001b[0;34m(\u001b[0m\u001b[0mf1\u001b[0m\u001b[0;34m)\u001b[0m\u001b[0;34m\u001b[0m\u001b[0;34m\u001b[0m\u001b[0m\n\u001b[1;32m     23\u001b[0m         \u001b[0mprint\u001b[0m\u001b[0;34m(\u001b[0m\u001b[0;34m'insertion in 1st'\u001b[0m\u001b[0;34m,\u001b[0m\u001b[0mmergedsorted\u001b[0m\u001b[0;34m)\u001b[0m\u001b[0;34m\u001b[0m\u001b[0;34m\u001b[0m\u001b[0m\n\u001b[0;32m---> 24\u001b[0;31m         \u001b[0mf1\u001b[0m\u001b[0;34m=\u001b[0m\u001b[0ml1\u001b[0m\u001b[0;34m[\u001b[0m\u001b[0mi\u001b[0m\u001b[0;34m+\u001b[0m\u001b[0;36m1\u001b[0m\u001b[0;34m]\u001b[0m\u001b[0;34m\u001b[0m\u001b[0;34m\u001b[0m\u001b[0m\n\u001b[0m\u001b[1;32m     25\u001b[0m         \u001b[0mi\u001b[0m\u001b[0;34m+=\u001b[0m\u001b[0;36m1\u001b[0m\u001b[0;34m\u001b[0m\u001b[0;34m\u001b[0m\u001b[0m\n\u001b[1;32m     26\u001b[0m     \u001b[0;32melse\u001b[0m\u001b[0;34m:\u001b[0m\u001b[0;34m\u001b[0m\u001b[0;34m\u001b[0m\u001b[0m\n",
      "\u001b[0;31mIndexError\u001b[0m: list index out of range"
     ]
    }
   ],
   "source": [
    "l1=[0,3,5,8]\n",
    "l2=[1,6,8,9]  \n",
    "f1=l1[0]\n",
    "f2=l2[0]\n",
    "i=0\n",
    "j=0\n",
    "flag=0\n",
    "mergedsorted=[]\n",
    "if(f1==[]):\n",
    "    print(f2)\n",
    "if(f2==[]):\n",
    "    print(f1)\n",
    "while not(i>=len(l1) or j>=len(l2)):\n",
    "    print('i',i)\n",
    "    print('j',j)\n",
    "    print('f1',f1)\n",
    "    print('f2',f2)\n",
    "    if(i==len(l1)):\n",
    "        flag=1\n",
    "        break\n",
    "    if(f1<f2):\n",
    "        mergedsorted.append(f1)\n",
    "        print('insertion in 1st',mergedsorted)\n",
    "        f1=l1[i+1]\n",
    "        i+=1\n",
    "    else:\n",
    "        mergedsorted.append(f2)\n",
    "        f2=l2[j+1]\n",
    "        j+=1\n",
    "        print('insertion in 2nd',mergedsorted)\n",
    "    print('i::',i)\n",
    "    \n",
    "        \n",
    "print('j::',j)\n",
    "if(flag==1):\n",
    "    for k in l2[j:]:\n",
    "        mergedsorted.append(i)\n",
    "else:\n",
    "    for p in l1[i:]:\n",
    "        mergedsorted.append(j)\n",
    "        \n",
    "print(mergedsorted)\n",
    "        \n",
    "l1=[0,3,5,8]\n",
    "l2=[1,6,8,9] "
   ]
  },
  {
   "cell_type": "code",
   "execution_count": null,
   "metadata": {},
   "outputs": [],
   "source": []
  },
  {
   "cell_type": "code",
   "execution_count": null,
   "metadata": {},
   "outputs": [],
   "source": [
    "Input: [0,1,0,3,12]\n",
    "Output: [1,3,12,0,0]"
   ]
  },
  {
   "cell_type": "code",
   "execution_count": 46,
   "metadata": {},
   "outputs": [
    {
     "data": {
      "text/plain": [
       "[1, 3, 12, 0, 0]"
      ]
     },
     "execution_count": 46,
     "metadata": {},
     "output_type": "execute_result"
    }
   ],
   "source": [
    "l=[0,1,0,3,12]\n",
    "for i in range(len(l)):\n",
    "    if(l[i]==0):\n",
    "        l.append(0)\n",
    "        del l[i]\n",
    "l"
   ]
  },
  {
   "cell_type": "code",
   "execution_count": 48,
   "metadata": {},
   "outputs": [
    {
     "data": {
      "text/plain": [
       "[1, 3, 12, 0, 0]"
      ]
     },
     "execution_count": 48,
     "metadata": {},
     "output_type": "execute_result"
    }
   ],
   "source": [
    "l=[0,1,0,3,12]\n",
    "l.sort(key=bool,reverse=True)\n",
    "l"
   ]
  },
  {
   "cell_type": "code",
   "execution_count": 45,
   "metadata": {},
   "outputs": [],
   "source": [
    "o=[1,2]\n",
    "o.append(3)"
   ]
  },
  {
   "cell_type": "code",
   "execution_count": 56,
   "metadata": {},
   "outputs": [
    {
     "name": "stdout",
     "output_type": "stream",
     "text": [
      "1\n",
      "-2\n",
      "4\n",
      "3\n",
      "5\n",
      "6\n",
      "1\n",
      "5\n"
     ]
    },
    {
     "data": {
      "text/plain": [
       "6"
      ]
     },
     "execution_count": 56,
     "metadata": {},
     "output_type": "execute_result"
    }
   ],
   "source": [
    "def kadane(a):\n",
    "    maximum=maxarray=a[0]\n",
    "    if(len(a)==1):\n",
    "        return a\n",
    "    for i in range(1,len(a)):\n",
    "        maxarray=max(a[i],maxarray+a[i])\n",
    "        maximum=max(maximum,maxarray)\n",
    "        print(maxarray)\n",
    "    return maximum\n",
    "kadane([-2,1,-3,4,-1,2,1,-5,4])\n",
    "# [4,-1,2,1]"
   ]
  },
  {
   "cell_type": "code",
   "execution_count": 63,
   "metadata": {},
   "outputs": [
    {
     "ename": "SyntaxError",
     "evalue": "unexpected EOF while parsing (<ipython-input-63-506bcc480ec9>, line 2)",
     "output_type": "error",
     "traceback": [
      "\u001b[0;36m  File \u001b[0;32m\"<ipython-input-63-506bcc480ec9>\"\u001b[0;36m, line \u001b[0;32m2\u001b[0m\n\u001b[0;31m    if len(set(l)) is not len(l):\u001b[0m\n\u001b[0m                                 ^\u001b[0m\n\u001b[0;31mSyntaxError\u001b[0m\u001b[0;31m:\u001b[0m unexpected EOF while parsing\n"
     ]
    }
   ],
   "source": [
    "l=[1,2,3,4,4]\n",
    "if len(set(l)) is not len(l):"
   ]
  },
  {
   "cell_type": "code",
   "execution_count": 68,
   "metadata": {},
   "outputs": [
    {
     "name": "stdout",
     "output_type": "stream",
     "text": [
      "False\n"
     ]
    }
   ],
   "source": [
    "nums=[1,2,3,1]\n",
    "if(len(set(nums))!=len(nums)):\n",
    "    print(False)\n",
    "else:\n",
    "    print(True)"
   ]
  },
  {
   "cell_type": "code",
   "execution_count": null,
   "metadata": {},
   "outputs": [],
   "source": [
    "//Google Question\n",
    "//Given an array = [2,5,1,2,3,5,1,2,4]:\n",
    "//It should return 2\n",
    "\n",
    "//Given an array = [2,1,1,2,3,5,1,2,4]:\n",
    "//It should return 1\n",
    "\n",
    "//Given an array = [2,3,4,5]:\n",
    "//It should return undefined\n",
    "\n",
    "\n",
    "function firstRecurringCharacter(input) \n",
    "}\n",
    "\n",
    "//Bonus... What if we had this:\n",
    "// [2,5,5,2,3,5,1,2,4]\n",
    "// return 5 because the pairs are before 2,2"
   ]
  },
  {
   "cell_type": "code",
   "execution_count": 77,
   "metadata": {},
   "outputs": [
    {
     "name": "stdout",
     "output_type": "stream",
     "text": [
      "2 1\n",
      "2 1\n",
      "2 2\n"
     ]
    },
    {
     "data": {
      "text/plain": [
       "2"
      ]
     },
     "execution_count": 77,
     "metadata": {},
     "output_type": "execute_result"
    }
   ],
   "source": [
    "#naive approach\n",
    "#a=[2,5,1,2,3,5,1,2,4]\n",
    "a=[2,1,1,2,3,5,1,2,4]\n",
    "def frc(a):\n",
    "    for i in range(len(a)):\n",
    "        for j in range(i+1,len(a)):\n",
    "            print(a[i],a[j])\n",
    "            if(a[i]==a[j]):\n",
    "                return a[i]\n",
    "frc(a)"
   ]
  },
  {
   "cell_type": "code",
   "execution_count": 70,
   "metadata": {},
   "outputs": [
    {
     "data": {
      "text/plain": [
       "{2: True, 5: True, 1: True, 3: True, 4: True}"
      ]
     },
     "execution_count": 70,
     "metadata": {},
     "output_type": "execute_result"
    }
   ],
   "source": [
    "a=[2,5,1,2,3,5,1,2,4]\n",
    "h={i:True for i in a}\n",
    "h"
   ]
  },
  {
   "cell_type": "code",
   "execution_count": 86,
   "metadata": {},
   "outputs": [
    {
     "name": "stdout",
     "output_type": "stream",
     "text": [
      "h {}\n",
      "a[i] 2\n",
      "h {2: True}\n",
      "a[i] 5\n",
      "h {2: True, 5: True}\n",
      "a[i] 5\n"
     ]
    },
    {
     "data": {
      "text/plain": [
       "5"
      ]
     },
     "execution_count": 86,
     "metadata": {},
     "output_type": "execute_result"
    }
   ],
   "source": [
    "#a=[2,1,1,2,3,5,1,2,4]\n",
    "#a=[4,5]\n",
    "a=[2,5,5,2,3,5,1,2,4]\n",
    "def frc1(a):\n",
    "    h={}\n",
    "    for i in range(len(a)):\n",
    "        print('h',h)\n",
    "        print('a[i]',a[i])\n",
    "        if(h.get(a[i],None)):\n",
    "            return a[i]\n",
    "        else:\n",
    "            h[a[i]]=True\n",
    "    return False\n",
    "frc1(a)"
   ]
  },
  {
   "cell_type": "markdown",
   "metadata": {},
   "source": [
    "const numbers = [99, 44, 6, 2, 1, 5, 63, 87, 283, 4, 0];\n",
    "\n",
    "function bubbleSort(array) {\n",
    "\n",
    "}"
   ]
  },
  {
   "cell_type": "code",
   "execution_count": 95,
   "metadata": {},
   "outputs": [
    {
     "name": "stdout",
     "output_type": "stream",
     "text": [
      "[1, 2, 4, 9]\n"
     ]
    }
   ],
   "source": [
    "a=[4,9,1,2]\n",
    "def bubblesort(a):\n",
    "    for i in range(len(a)):\n",
    "        for j in range(len(a)-1-i):\n",
    "            if(a[j]>a[j+1]):\n",
    "                temp=a[j]\n",
    "                a[j]=a[j+1]\n",
    "                a[j+1]=temp\n",
    "    print(a)\n",
    "bubblesort(a)\n",
    "            \n",
    "            "
   ]
  },
  {
   "cell_type": "code",
   "execution_count": 1,
   "metadata": {},
   "outputs": [
    {
     "data": {
      "text/plain": [
       "[[], [1], [2], [1, 2], [3], [1, 3], [2, 3], [1, 2, 3]]"
      ]
     },
     "execution_count": 1,
     "metadata": {},
     "output_type": "execute_result"
    }
   ],
   "source": [
    "nums=[1,2,3]\n",
    "output=[[]]\n",
    "for i in nums:\n",
    "    output+=[lst+[i] for lst in output]\n",
    "output\n",
    "# []\n",
    "# [], [1]\n",
    "# [],[1],[2],[1,2]"
   ]
  },
  {
   "cell_type": "code",
   "execution_count": 6,
   "metadata": {},
   "outputs": [
    {
     "data": {
      "text/plain": [
       "'much.very.program.this.like.i'"
      ]
     },
     "execution_count": 6,
     "metadata": {},
     "output_type": "execute_result"
    }
   ],
   "source": [
    "s='i.like.this.program.very.much'\n",
    "s=list(s.split('.'))\n",
    "'.'.join(s[::-1])"
   ]
  },
  {
   "cell_type": "code",
   "execution_count": 19,
   "metadata": {},
   "outputs": [
    {
     "name": "stdout",
     "output_type": "stream",
     "text": [
      "k: 0 a[k] : 1 a[i]: 1\n",
      "k: 1 a[k] : 2 a[i]: 2\n",
      "k: 2 a[k] : 3 a[i]: 3\n",
      "[1, 2, 3]\n",
      "k: 2 a[k] : 2 a[i]: 3\n",
      "k: 2 a[k] : 2 a[i]: 2\n",
      "[1, 3, 2]\n",
      "k: 1 a[k] : 1 a[i]: 2\n",
      "k: 1 a[k] : 1 a[i]: 1\n",
      "k: 2 a[k] : 3 a[i]: 3\n",
      "[2, 1, 3]\n",
      "k: 2 a[k] : 1 a[i]: 3\n",
      "k: 2 a[k] : 1 a[i]: 1\n",
      "[2, 3, 1]\n",
      "k: 2 a[k] : 1 a[i]: 3\n",
      "k: 1 a[k] : 2 a[i]: 2\n",
      "k: 2 a[k] : 1 a[i]: 1\n",
      "[3, 2, 1]\n",
      "k: 2 a[k] : 2 a[i]: 1\n",
      "k: 2 a[k] : 2 a[i]: 2\n",
      "[3, 1, 2]\n"
     ]
    }
   ],
   "source": [
    "def perm(a, k=0):\n",
    "    if k == len(a):\n",
    "        print(a)\n",
    "    else:\n",
    "        for i in range(k, len(a)):\n",
    "            print('k:',i,'a[k] :',a[k],'a[i]:',a[i])\n",
    "            a[k], a[i] = a[i] ,a[k]\n",
    "            perm(a, k+1)\n",
    "            a[k], a[i] = a[i], a[k]\n",
    "\n",
    "perm([1,2,3])"
   ]
  },
  {
   "cell_type": "code",
   "execution_count": 18,
   "metadata": {},
   "outputs": [
    {
     "name": "stdout",
     "output_type": "stream",
     "text": [
      "[1, 2, 3]\n",
      "[1, 3, 2]\n",
      "[2, 1, 3]\n",
      "[2, 3, 1]\n",
      "[3, 2, 1]\n",
      "[3, 1, 2]\n"
     ]
    }
   ],
   "source": [
    "def perm1(a,k=0):\n",
    "    if(k==len(a)):\n",
    "        print(a)\n",
    "    else:\n",
    "        for i in range(k,len(a)):\n",
    "            a[k],a[i]=a[i],a[k]\n",
    "            perm1(a,k+1)\n",
    "            a[k],a[i]=a[i],a[k]\n",
    "perm1([1,2,3])"
   ]
  },
  {
   "cell_type": "code",
   "execution_count": 13,
   "metadata": {},
   "outputs": [
    {
     "name": "stdout",
     "output_type": "stream",
     "text": [
      "temp:  [1, 2, 3]\n",
      "temp_r:  [2, 3]\n",
      "temp:  [2, 3]\n",
      "temp_r:  [3]\n",
      "temp:  [3]\n",
      "temp_r:  []\n",
      "res:  [[3]]\n",
      "res:  [[2, 3]]\n",
      "temp:  [2, 3]\n",
      "temp_r:  [2]\n",
      "temp:  [2]\n",
      "temp_r:  []\n",
      "res:  [[2]]\n",
      "res:  [[2, 3], [3, 2]]\n",
      "res:  [[1, 2, 3], [1, 3, 2]]\n",
      "temp:  [1, 2, 3]\n",
      "temp_r:  [1, 3]\n",
      "temp:  [1, 3]\n",
      "temp_r:  [3]\n",
      "temp:  [3]\n",
      "temp_r:  []\n",
      "res:  [[3]]\n",
      "res:  [[1, 3]]\n",
      "temp:  [1, 3]\n",
      "temp_r:  [1]\n",
      "temp:  [1]\n",
      "temp_r:  []\n",
      "res:  [[1]]\n",
      "res:  [[1, 3], [3, 1]]\n",
      "res:  [[1, 2, 3], [1, 3, 2], [2, 1, 3], [2, 3, 1]]\n",
      "temp:  [1, 2, 3]\n",
      "temp_r:  [1, 2]\n",
      "temp:  [1, 2]\n",
      "temp_r:  [2]\n",
      "temp:  [2]\n",
      "temp_r:  []\n",
      "res:  [[2]]\n",
      "res:  [[1, 2]]\n",
      "temp:  [1, 2]\n",
      "temp_r:  [1]\n",
      "temp:  [1]\n",
      "temp_r:  []\n",
      "res:  [[1]]\n",
      "res:  [[1, 2], [2, 1]]\n",
      "res:  [[1, 2, 3], [1, 3, 2], [2, 1, 3], [2, 3, 1], [3, 1, 2], [3, 2, 1]]\n"
     ]
    },
    {
     "data": {
      "text/plain": [
       "[[1, 2, 3], [1, 3, 2], [2, 1, 3], [2, 3, 1], [3, 1, 2], [3, 2, 1]]"
      ]
     },
     "execution_count": 13,
     "metadata": {},
     "output_type": "execute_result"
    }
   ],
   "source": [
    "def permutList(l):\n",
    "    if not l:\n",
    "            return [[]]\n",
    "    res = []\n",
    "    for e in l:\n",
    "            temp = l[:]\n",
    "            print('temp: ',temp)\n",
    "            temp.remove(e)\n",
    "            print('temp_r: ',temp)\n",
    "            res.extend([[e] + r for r in permutList(temp)])\n",
    "            print('res: ',res)\n",
    "\n",
    "    return res\n",
    "permutList([1,2,3])"
   ]
  },
  {
   "cell_type": "code",
   "execution_count": 15,
   "metadata": {},
   "outputs": [
    {
     "data": {
      "text/plain": [
       "[[], [1], [2], [1, 2]]"
      ]
     },
     "execution_count": 15,
     "metadata": {},
     "output_type": "execute_result"
    }
   ],
   "source": [
    "output=[[]]\n",
    "nums=[1,2]\n",
    "for i in nums:\n",
    "    output+=[lst+[i] for lst in output]\n",
    "output"
   ]
  },
  {
   "cell_type": "code",
   "execution_count": 8,
   "metadata": {},
   "outputs": [
    {
     "name": "stdout",
     "output_type": "stream",
     "text": [
      "array:  [0, 4, 12, 2, 10, 6, 9, 13, 3, 11, 7, 15]\n",
      "length :  [1, 2, 3, 2, 3, 3, 4, 5, 3, 5, 4, 6]\n",
      "subsequence:  [0, 0, 1, 0, 1, 1, 5, 6, 3, 6, 5, 7]\n",
      "indexlist:  [0, 1, 5, 6, 7, 11]\n",
      "0 4 6 9 13 15 "
     ]
    },
    {
     "data": {
      "text/plain": [
       "6"
      ]
     },
     "execution_count": 8,
     "metadata": {},
     "output_type": "execute_result"
    }
   ],
   "source": [
    "def lis(a):\n",
    "    length=[1]*len(a)\n",
    "    subsequence=[0]*len(a)\n",
    "    indexlist=[len(a)-1]\n",
    "    for i in range(1,len(a)):\n",
    "        for j in range(0,i):\n",
    "            if(a[j]<a[i] and length[i]<=length[j]):\n",
    "                length[i]=1+length[j]\n",
    "                subsequence[i]=j\n",
    "    index=indexlist[0]\n",
    "    for i in range(len(a)):\n",
    "        index=subsequence[index]\n",
    "        indexlist.append(index)\n",
    "    indexlist=list(set(indexlist))\n",
    "    print('array: ',a)\n",
    "    print('length : ',length)\n",
    "    print('subsequence: ',subsequence)\n",
    "    print('indexlist: ',indexlist)\n",
    "    for i in indexlist:\n",
    "        print(a[i],end=' ')\n",
    "    return length[-1]\n",
    "lis([0,4,12,2,10,6,9,13,3,11,7,15])"
   ]
  },
  {
   "cell_type": "code",
   "execution_count": 36,
   "metadata": {},
   "outputs": [
    {
     "name": "stdout",
     "output_type": "stream",
     "text": [
      "1\n"
     ]
    }
   ],
   "source": [
    "[0,4,12,2,10,6,9,13,3,11,7,15]"
   ]
  },
  {
   "cell_type": "code",
   "execution_count": 10,
   "metadata": {},
   "outputs": [
    {
     "data": {
      "text/plain": [
       "[[], [1], [2], [1, 2], [3], [1, 3], [2, 3], [1, 2, 3]]"
      ]
     },
     "execution_count": 10,
     "metadata": {},
     "output_type": "execute_result"
    }
   ],
   "source": [
    "nums=[1,2,3]\n",
    "out=[[]]\n",
    "for i in nums:\n",
    "    out+=[lst+[i] for lst in out]\n",
    "out"
   ]
  },
  {
   "cell_type": "code",
   "execution_count": 14,
   "metadata": {},
   "outputs": [
    {
     "name": "stdout",
     "output_type": "stream",
     "text": [
      "[1, 2, 3]\n",
      "[1, 3, 2]\n",
      "[2, 1, 3]\n",
      "[2, 3, 1]\n",
      "[3, 2, 1]\n",
      "[3, 1, 2]\n"
     ]
    }
   ],
   "source": [
    "def p(a,k=0):\n",
    "    if(k==len(a)):\n",
    "        print(a)\n",
    "    else:\n",
    "        for i in range(k,len(a)):\n",
    "            a[k],a[i]=a[i],a[k]\n",
    "            p(a,k+1)\n",
    "            a[k],a[i]=a[i],a[k]\n",
    "p([1,2,3])"
   ]
  },
  {
   "cell_type": "code",
   "execution_count": 15,
   "metadata": {},
   "outputs": [
    {
     "data": {
      "text/plain": [
       "1"
      ]
     },
     "execution_count": 15,
     "metadata": {},
     "output_type": "execute_result"
    }
   ],
   "source": [
    "def gcd(a,b):\n",
    "    if(b==0):\n",
    "        return a\n",
    "    else:\n",
    "        return gcd(b,a%b)\n",
    "gcd(2,3)"
   ]
  },
  {
   "cell_type": "code",
   "execution_count": null,
   "metadata": {},
   "outputs": [],
   "source": [
    "Example:\n",
    "Input:\n",
    "2\n",
    "0 10 10 0\n",
    "5 5 15 0\n",
    "0 2 1 1\n",
    "-2 -3 0 2\n",
    "\n",
    "Output:\n",
    "1\n",
    "0"
   ]
  },
  {
   "cell_type": "code",
   "execution_count": 5,
   "metadata": {},
   "outputs": [
    {
     "name": "stdout",
     "output_type": "stream",
     "text": [
      "1\n",
      "89 58 97 44\n",
      "66 59 89 11\n",
      "1\n"
     ]
    }
   ],
   "source": [
    "def overlappingrectangles(x1,y1,x2,y2,p1,q1,p2,q2):\n",
    "    if(q2>=y1 or y2>=q1 or x1>=p2 or p1 >=x2):\n",
    "        return 0\n",
    "    else:\n",
    "        return 1\n",
    "    \n",
    "t=int(input())\n",
    "for i in range(t):\n",
    "    r1=list(map(int,input().split()))\n",
    "    r2=list(map(int,input().split()))\n",
    "    x1=r1[0]\n",
    "    y1=r1[1]\n",
    "    x2=r1[2]\n",
    "    y2=r1[3]\n",
    "    p1=r2[0]\n",
    "    q1=r2[1]\n",
    "    p2=r2[2]\n",
    "    q2=r2[3]\n",
    "    if(q2>y1 or y2>q1 or x1>p2 or p1 >x2):\n",
    "        print(0) \n",
    "    else:\n",
    "        print(1)\n",
    "    \n",
    "\n",
    "\n",
    "# overlappingrectangles(0,2,1,1,-2,-3,0,2)"
   ]
  },
  {
   "cell_type": "code",
   "execution_count": null,
   "metadata": {},
   "outputs": [],
   "source": [
    "0,2,1,1,-2,-3,0,2\n",
    "0,10,10,0,5,5,15,0\n",
    "\n",
    "\n",
    "89 58 97 44\n",
    "66 59 89 11"
   ]
  },
  {
   "cell_type": "markdown",
   "metadata": {},
   "source": [
    "def differenceofSum(n. m)\n",
    "\n",
    "The function accepts two integers n, m as arguments Find the sum of all numbers in range from 1 to m(both inclusive) that are not divisible by n. Return difference between sum of integers not divisible by n with sum of numbers divisible by n.\n",
    "\n",
    "Assumption:\n",
    "\n",
    "n>0 and m>0\n",
    "Sum lies between integral range\n",
    "Example\n",
    "\n",
    "Input\n",
    "n:4\n",
    "m:20\n",
    "Output\n",
    "90\n",
    "\n",
    "Explanation\n",
    "\n",
    "Sum of numbers divisible by 4 are 4 + 8 + 12 + 16 + 20 = 60\n",
    "Sum of numbers not divisible by 4 are 1 +2 + 3 + 5 + 6 + 7 + 9 + 10 + 11 + 13 + 14 + 15 + 17 + 18 + 19 = 150\n",
    "Difference 150 – 60 = 90\n",
    "Sample Input\n",
    "n:3\n",
    "m:10\n",
    "Sample Output\n",
    "19\n",
    "\n"
   ]
  },
  {
   "cell_type": "code",
   "execution_count": 3,
   "metadata": {},
   "outputs": [
    {
     "data": {
      "text/plain": [
       "19"
      ]
     },
     "execution_count": 3,
     "metadata": {},
     "output_type": "execute_result"
    }
   ],
   "source": [
    "def differenceofsum(n,m):\n",
    "    dsum=0\n",
    "    ndsum=0\n",
    "    for i in range(1,m+1):\n",
    "        if(i%n==0):\n",
    "            dsum+=i\n",
    "        else:\n",
    "            ndsum+=i\n",
    "    return ndsum-dsum\n",
    "\n",
    "differenceofsum(3,10)\n",
    "        "
   ]
  },
  {
   "cell_type": "code",
   "execution_count": null,
   "metadata": {},
   "outputs": [],
   "source": [
    "def LargeSmallSum(arr)\n",
    "\n",
    "The function accepts an integers arr of size ’length’ as its arguments you are required to return the sum of second largest largest element from the even positions and second smallest from the odd position of given ‘arr’\n",
    "\n",
    "Assumption:\n",
    "\n",
    "All array elements are unique\n",
    "Treat the 0th position a seven\n",
    "NOTE\n",
    "\n",
    "Return 0 if array is empty\n",
    "Return 0, if array length is 3 or less than 3\n",
    "Example\n",
    "\n",
    "Input\n",
    "\n",
    "arr:3 2 1 7 5 4\n",
    "\n",
    "Output\n",
    "\n",
    "7\n",
    "\n",
    "Explanation\n",
    "\n",
    "Second largest among even position elements(1 3 5) is 3\n",
    "Second largest among odd position element is 4\n",
    "Thus output is 3+4 = 7\n",
    "Sample Input\n",
    "\n",
    "arr:1 8 0 2 3 5 6\n",
    "\n",
    "Sample Output\n",
    "\n",
    "8"
   ]
  },
  {
   "cell_type": "code",
   "execution_count": 7,
   "metadata": {},
   "outputs": [
    {
     "data": {
      "text/plain": [
       "8"
      ]
     },
     "execution_count": 7,
     "metadata": {},
     "output_type": "execute_result"
    }
   ],
   "source": [
    "def LargeSmallSum(arr):\n",
    "    l=len(arr)\n",
    "    if(l==0 or l<=3):\n",
    "        return 0\n",
    "    e=sorted(arr[0::2])\n",
    "    o=sorted(arr[1::2])\n",
    "    return e[-2] + o[-2]\n",
    "\n",
    "LargeSmallSum([1,8,0,2,3,5,6])"
   ]
  },
  {
   "cell_type": "markdown",
   "metadata": {},
   "source": [
    "def ProductSmallestPair(sum, arr)\n",
    "\n",
    "The function accepts an integers sum and an integer array arr of size n. Implement the function to find the pair, (arr[j], arr[k]) where j!=k, Such that arr[j] and arr[k] are the least two elements of array (arr[j] + arr[k] <= sum) and return the product of element of this pair\n",
    "\n",
    "NOTE\n",
    "\n",
    "Return -1 if array is empty or if n<2\n",
    "Return 0, if no such pairs found\n",
    "All computed values lie within integer range\n",
    "Example\n",
    "\n",
    "Input\n",
    "\n",
    "sum:9\n",
    "\n",
    "Arr:5 2 4 3 9 7 1\n",
    "\n",
    "Output\n",
    "\n",
    "2\n",
    "\n",
    "Explanation\n",
    "\n",
    "Pair of least two element is (2, 1) 2 + 1 = 3 < 9, Product of (2, 1) 2*1 = 2. Thus, output is 2\n",
    "\n",
    "Sample Input\n",
    "\n",
    "sum:4\n",
    "\n",
    "Arr:9 8 3 -7 3 9\n",
    "\n",
    "Sample Output\n",
    "\n",
    "-21"
   ]
  },
  {
   "cell_type": "code",
   "execution_count": 11,
   "metadata": {},
   "outputs": [
    {
     "data": {
      "text/plain": [
       "-21"
      ]
     },
     "execution_count": 11,
     "metadata": {},
     "output_type": "execute_result"
    }
   ],
   "source": [
    "def ProductSmallestPair(summ, arr):\n",
    "    arr=sorted(arr)\n",
    "    l=len(arr)\n",
    "    if(l==0 or l<2):\n",
    "        return -1\n",
    "    if(arr[0]+arr[1]<=summ):\n",
    "        return arr[0]*arr[1]\n",
    "    return 0\n",
    "ProductSmallestPair(4,[9,8,3,-7,3,9])"
   ]
  },
  {
   "cell_type": "code",
   "execution_count": null,
   "metadata": {},
   "outputs": [],
   "source": [
    "Ugly numbers are numbers whose only prime factors are 2, 3 or 5. The sequence 1, 2, 3, 4, 5, 6, 8, 9, 10, 12, 15, … shows the first 11 ugly numbers. By convention, 1 is included. Write a program to find Nth Ugly Number.\n",
    "\n",
    "Example 1:\n",
    "\n",
    "Input:\n",
    "N = 10\n",
    "Output: 12\n",
    "Explanation: 10th ugly number is 12.\n",
    "Example 2:\n",
    "\n",
    "Input:\n",
    "N = 4\n",
    "Output: 4\n",
    "Explanation: 4th ugly number is 4.\n"
   ]
  },
  {
   "cell_type": "code",
   "execution_count": 25,
   "metadata": {},
   "outputs": [
    {
     "data": {
      "text/plain": [
       "4"
      ]
     },
     "execution_count": 25,
     "metadata": {},
     "output_type": "execute_result"
    }
   ],
   "source": [
    "def maxdivide(a,b):\n",
    "    while(a%b==0):\n",
    "        a=a/b\n",
    "    return a\n",
    "\n",
    "def isugly(n):\n",
    "    n=maxdivide(n,2)\n",
    "    n=maxdivide(n,3)\n",
    "    n=maxdivide(n,5)\n",
    "    if(n==1):\n",
    "        return 1\n",
    "    else:\n",
    "        return 0\n",
    "\n",
    "def nthugly(n):\n",
    "    count=1\n",
    "    i=1\n",
    "    while(count<n):\n",
    "        i+=1\n",
    "        if(isugly(i)):\n",
    "            count+=1\n",
    "    return i\n",
    "nthugly(4)"
   ]
  },
  {
   "cell_type": "code",
   "execution_count": 44,
   "metadata": {},
   "outputs": [
    {
     "data": {
      "text/plain": [
       "12"
      ]
     },
     "execution_count": 44,
     "metadata": {},
     "output_type": "execute_result"
    }
   ],
   "source": [
    "def nthuglyy(n):\n",
    "    i2=i3=i5=0\n",
    "    ugly=[1]*(n)\n",
    "    mul2=2\n",
    "    mul3=3\n",
    "    mul5=5\n",
    "    for i in range(1,n):\n",
    "        ugly[i]=min(mul2,mul3,mul5)\n",
    "        if(ugly[i]==mul2):\n",
    "            i2+=1\n",
    "            mul2=ugly[i2]*2\n",
    "        if(ugly[i]==mul3):\n",
    "            i3+=1\n",
    "            mul3=ugly[i3]*3\n",
    "        if(ugly[i]==mul5):\n",
    "            i5+=1\n",
    "            mul5=ugly[i5]*3\n",
    "#         print('i',i)\n",
    "#         print('ugly',ugly)\n",
    "    return ugly[-1]\n",
    "        \n",
    "nthuglyy(10)   "
   ]
  },
  {
   "cell_type": "code",
   "execution_count": null,
   "metadata": {},
   "outputs": [],
   "source": [
    "The cost of stock on each day is given in an array A[] of size N. Find all the days on which you buy\n",
    "and sell the stock so that in between those days your profit is maximum.\n",
    "\n",
    "Example 1:\n",
    "\n",
    "Input:\n",
    "N = 7\n",
    "A[] = {100,180,260,310,40,535,695}\n",
    "Output:\n",
    "(0 3) (4 6)\n",
    "Explanation:\n",
    "We can buy stock on day 0,\n",
    "and sell it on 3rd day, which will \n",
    "give us maximum profit. Now, we buy \n",
    "stock on day 4 and sell it on day 6.\n",
    "Example 2:\n",
    "\n",
    "Input:\n",
    "N = 5\n",
    "A[] = {4,2,2,2,4}\n",
    "Output:\n",
    "(3 4)\n",
    "Explanation:\n",
    "We can buy stock on day 3,\n",
    "and sell it on 4th day, which will \n",
    "give us maximum profit.\n",
    "\n",
    "Your Task:\n",
    "The task is to complete the function stockBuySell() which takes an array A[] and N as input parameters\n",
    "and finds the days of buying and selling stock. The function must return a 2D list of integers containing \n",
    "all the buy-sell pairs. If there is No Profit, return an empty list.\n",
    "\n",
    "\n",
    "Expected Time Complexity : O(N)\n",
    "Expected Auxiliary Space: O(N)\n",
    "\n",
    "\n",
    "Constraints:\n",
    "2 <= N <= 103\n",
    "0 <= Ai <= 104\n",
    "\n"
   ]
  },
  {
   "cell_type": "code",
   "execution_count": 24,
   "metadata": {},
   "outputs": [
    {
     "name": "stdout",
     "output_type": "stream",
     "text": [
      "[2, 4]\n",
      "[[2, 4]]\n"
     ]
    }
   ],
   "source": [
    "# a=[100,180,260,310,40,535,695]\n",
    "a=[4,2,2,2,4]\n",
    "n=len(a)\n",
    "b=s=0\n",
    "transactions=[]\n",
    "x=[]\n",
    "y=[]\n",
    "if(a[0]<a[1]):\n",
    "    b=a[0]\n",
    "    transactions.append(b)\n",
    "    x.append(b)\n",
    "for i in range(n-1):\n",
    "    if(a[i]>a[i+1] and a[i]>=b and b!=0):\n",
    "        s=a[i]\n",
    "        x.append(s)\n",
    "        y.append(x)\n",
    "        x=[]\n",
    "        transactions.append(s)\n",
    "        b=a[i+1]\n",
    "        x.append(b)\n",
    "        transactions.append(b)\n",
    "    if(a[i]<a[i+1] and b==0):\n",
    "        b=a[i]\n",
    "        x.append(b)\n",
    "        transactions.append(b)\n",
    "if(b<a[-1]):\n",
    "    x.append(a[-1])\n",
    "    y.append(x)\n",
    "    transactions.append(a[-1])\n",
    "print(transactions)\n",
    "print(y)\n",
    "    \n",
    "    \n",
    "    "
   ]
  },
  {
   "cell_type": "code",
   "execution_count": 26,
   "metadata": {},
   "outputs": [
    {
     "name": "stdout",
     "output_type": "stream",
     "text": [
      "[[2, 4]]\n"
     ]
    }
   ],
   "source": [
    "# a=[100,180,260,310,40,535,695]\n",
    "a=[4,2,2,2,4]\n",
    "n=len(a)\n",
    "b=s=0\n",
    "x=[]\n",
    "y=[]\n",
    "if(a[0]<a[1]):\n",
    "    b=a[0]\n",
    "    x.append(b)\n",
    "for i in range(n-1):\n",
    "    if(a[i]>a[i+1] and a[i]>=b and b!=0):\n",
    "        s=a[i]\n",
    "        x.append(s)\n",
    "        y.append(x)\n",
    "        x=[]\n",
    "        b=a[i+1]\n",
    "        x.append(b)\n",
    "    if(a[i]<a[i+1] and b==0):\n",
    "        b=a[i]\n",
    "        x.append(b)\n",
    "if(b<a[-1]):\n",
    "    x.append(a[-1])\n",
    "    y.append(x)\n",
    "\n",
    "print(y)\n",
    "    \n",
    "    \n"
   ]
  },
  {
   "cell_type": "code",
   "execution_count": 34,
   "metadata": {},
   "outputs": [
    {
     "data": {
      "text/plain": [
       "[[2]]"
      ]
     },
     "execution_count": 34,
     "metadata": {},
     "output_type": "execute_result"
    }
   ],
   "source": [
    "A=[1,1,1]\n",
    "b=s=0\n",
    "x=[]\n",
    "y=[]\n",
    "n=len(A)\n",
    "if(n>1):\n",
    "    if(A[0]<A[1]):\n",
    "        b=A[0]\n",
    "        x.append(0)\n",
    "for i in range(n-1):\n",
    "    if(A[i]>A[i+1] and A[i]>=b and b!=0):\n",
    "        s=A[i]\n",
    "        x.append(i)\n",
    "        y.append(x)\n",
    "        x=[]\n",
    "        b=A[i+1]\n",
    "        x.append(i+1)\n",
    "    if(A[i]<A[i+1] and b==0):\n",
    "        b=A[i]\n",
    "        x.append(i)\n",
    "if(n>1):\n",
    "    if(b<A[-1]):\n",
    "        x.append(len(A)-1)\n",
    "        y.append(x)\n",
    "y"
   ]
  },
  {
   "cell_type": "code",
   "execution_count": null,
   "metadata": {},
   "outputs": [],
   "source": [
    "Given a string S consisting of lowercase Latin Letters. Find the first non-repeating character in S.\n",
    "\n",
    "Example 1:\n",
    "\n",
    "Input:\n",
    "S = hello\n",
    "Output: h\n",
    "Explanation: In the given string, the\n",
    "first character which is non-repeating\n",
    "is h, as it appears first and there is\n",
    "no other 'h' in the string.\n",
    "Example 2:\n",
    "\n",
    "Input:\n",
    "S = zxvczbtxyzvy\n",
    "Output: c\n",
    "Explanation: In the given string, 'c' is\n",
    "the character which is non-repeating. \n",
    "Your Task:\n",
    "You only need to complete the function nonrepeatingCharacter() that takes string S as a parameter and returns the character. If there is no non-repeating character then return '$' .\n",
    "\n",
    "Expected Time Complexity: O(N).\n",
    "Expected Auxiliary Space: O(Number of distinct characters).\n",
    "Note: N = |S|\n",
    "\n",
    "Constraints:\n",
    "1 <= N <= 103"
   ]
  },
  {
   "cell_type": "code",
   "execution_count": 41,
   "metadata": {},
   "outputs": [
    {
     "name": "stdout",
     "output_type": "stream",
     "text": [
      "c\n"
     ]
    }
   ],
   "source": [
    "s='zxvczbtxyzvy'\n",
    "x={i:s.count(i) for i in set(s)}\n",
    "for i in s:\n",
    "    if(x[i]==1):\n",
    "        print(i)\n",
    "        break"
   ]
  },
  {
   "cell_type": "code",
   "execution_count": null,
   "metadata": {},
   "outputs": [],
   "source": [
    "Merge Without Extra Space \n",
    "Hard Accuracy: 44.55% Submissions: 27484 Points: 8\n",
    "Given two sorted arrays arr1[] and arr2[] of sizes N and M in non-decreasing order. Merge them in sorted order without using any extra space. Modify arr1 so that it contains the first N elements and modify arr2 so that it contains the last M elements.\n",
    " \n",
    "\n",
    "Example 1:\n",
    "\n",
    "Input: \n",
    "N = 4, arr1[] = [1 3 5 7] \n",
    "M = 5, arr2[] = [0 2 6 8 9]\n",
    "Output: \n",
    "arr1[] = [0 1 2 3]\n",
    "arr2[] = [5 6 7 8 9]\n",
    "Explanation:\n",
    "After merging the two \n",
    "non-decreasing arrays, we get, \n",
    "0 1 2 3 5 6 7 8 9.\n",
    "Example 2:\n",
    "\n",
    "Input: \n",
    "N = 2, arr1[] = [10, 12] \n",
    "M = 3, arr2[] = [5 18 20]\n",
    "Output: \n",
    "arr1[] = [5 10]\n",
    "arr2[] = [12 18 20]\n",
    "Explanation:\n",
    "After merging two sorted arrays \n",
    "we get 5 10 12 18 20.\n",
    "\n",
    "\n",
    "Your Task:\n",
    "You don't need to read input or print anything. You only need to complete the function merge() that takes arr1, arr2, N and M as input parameters and modifies them in-place so that they look like the sorted merged array when concatenated.\n",
    " \n",
    "\n",
    "Expected Time Complexity:  O((n+m) log(n+m))\n",
    "Expected Auxilliary Space: O(1)\n",
    " \n",
    "\n",
    "Constraints:\n",
    "1 <= X, Y <= 5*104\n",
    "0 <= arr1i, arr2i <= 109"
   ]
  },
  {
   "cell_type": "code",
   "execution_count": 45,
   "metadata": {},
   "outputs": [
    {
     "data": {
      "text/plain": [
       "[0, 1, 2, 3, 5, 6, 7, 8, 9]"
      ]
     },
     "execution_count": 45,
     "metadata": {},
     "output_type": "execute_result"
    }
   ],
   "source": [
    "arr1= [1,3,5,7] \n",
    "arr2= [0,2,6,8,9]\n",
    "arr1.extend(arr2)\n",
    "sorted(arr1)"
   ]
  },
  {
   "cell_type": "code",
   "execution_count": 42,
   "metadata": {},
   "outputs": [
    {
     "name": "stdout",
     "output_type": "stream",
     "text": [
      "arr1[i] 1\n",
      "arr2[i] 2\n",
      "arr1 [0, 1, 3, 5, 7]\n",
      "arr1[i] 3\n",
      "arr2[i] 6\n",
      "arr1 [0, 1, 3, 5, 7]\n",
      "arr1[i] 5\n",
      "arr2[i] 8\n",
      "arr1 [0, 1, 3, 5, 7]\n"
     ]
    },
    {
     "data": {
      "text/plain": [
       "[0, 1, 3, 5, 7]"
      ]
     },
     "execution_count": 42,
     "metadata": {},
     "output_type": "execute_result"
    }
   ],
   "source": [
    "arr1= [1,3,5,7] \n",
    "arr2= [0,2,6,8,9]\n",
    "n=4\n",
    "m=5\n",
    "x=[]\n",
    "if(arr1 and not arr2):\n",
    "    print(arr1)\n",
    "if(arr2 and not arr1):\n",
    "    print(arr2)\n",
    "if(arr1[0]>=arr2[0]):\n",
    "    arr1.insert(0,arr2[0])\n",
    "for i in range(1,min(m,n)):\n",
    "    print('arr1[i]',arr1[i])\n",
    "    print('arr2[i]',arr2[i])\n",
    "    print('arr1',arr1)\n",
    "#     if(arr1[i]<arr2[i]):\n",
    "#         print('arr1[i]<arr2[i]')\n",
    "#         arr1.insert(i+1,arr2[i])\n",
    "#     if(arr1[i]>arr2[i]):\n",
    "#         print('arr1[i]>arr2[i]')\n",
    "#         arr1.insert(i,arr2[i])\n",
    "#     print('arr1--updated:',arr1)\n",
    "    if(arr1[i]>= arr2[i] and arr2[i]<=arr1[i+1]):\n",
    "        arr1.insert(i,arr2[i])\n",
    "#     else:\n",
    "#         x.append(arr2[i])\n",
    "arr1\n",
    "        \n"
   ]
  },
  {
   "cell_type": "code",
   "execution_count": null,
   "metadata": {},
   "outputs": [],
   "source": [
    "Question #1: Sweet Seventeen\n",
    "\n",
    "\n",
    "\n",
    "Given a maximum of four digit to the base 17(10 -> A, 11 -> B, 12 -> C, 16 -> G) as input, output its decimal value.\n",
    "\n",
    "\n",
    "\n",
    "Input:\n",
    "\n",
    "\n",
    "\n",
    "23GF"
   ]
  },
  {
   "cell_type": "code",
   "execution_count": 49,
   "metadata": {},
   "outputs": [
    {
     "name": "stdout",
     "output_type": "stream",
     "text": [
      "23GF\n",
      "10980\n"
     ]
    }
   ],
   "source": [
    "x=str(input())\n",
    "print(int(x,17))"
   ]
  },
  {
   "cell_type": "code",
   "execution_count": null,
   "metadata": {},
   "outputs": [],
   "source": [
    "`\n",
    "\n",
    "Question #2: A Sober Walk\n",
    "\n",
    "\n",
    "Our hoary culture had several great persons since time immemorial and king vikramaditya’s nava ratnas (nine gems) belongs to this ilk.They are named in the following shloka:\n",
    "\n",
    "\n",
    "\n",
    "Among these, Varahamihira was an astrologer of eminence and his book Brihat Jataak is recokened as the ultimate authority in astrology. He was once talking with Amarasimha,another gem among the nava ratnas and the author of Sanskrit thesaurus, Amarakosha. Amarasimha wanted to know the final position of a person, who starts from the origin 0 0 and travels per following scheme.\n",
    "\n",
    "\n",
    "\n",
    "He first turns and travels 10 units of distance\n",
    "His second turn is upward for 20 units\n",
    "Third turn is to the left for 30 units\n",
    "Fourth turn is the downward for 40 units\n",
    "Fifth turn is to the right(again) for 50 units\n",
    "… And thus he travels, every time increasing the travel distance by 10 units.\n",
    "\n",
    "\n",
    "\n",
    "Constraints:\n",
    "\n",
    "2<=n<=1000\n",
    "\n",
    "\n",
    "\n",
    "Input:\n",
    "\n",
    "3\n",
    "\n",
    "out:\n",
    "    -20 20"
   ]
  },
  {
   "cell_type": "code",
   "execution_count": 16,
   "metadata": {},
   "outputs": [
    {
     "name": "stdout",
     "output_type": "stream",
     "text": [
      "[10, 20, -30, -40, 50]\n",
      "30 -20\n"
     ]
    }
   ],
   "source": [
    "\n",
    "n=5\n",
    "v=10\n",
    "c=p=0\n",
    "a=[]\n",
    "for i in range(n):\n",
    "    if(c==2 or p>=1):\n",
    "        a.append(-v)\n",
    "        c-=1\n",
    "        p+=1\n",
    "        if(c==0):\n",
    "            p=0\n",
    "    else:\n",
    "        a.append(v)\n",
    "        c+=1\n",
    "    v+=10\n",
    "    \n",
    "print(a)\n",
    "print(sum(a[::2]),sum(a[1::2]))\n",
    "    \n",
    "    "
   ]
  },
  {
   "cell_type": "code",
   "execution_count": 10,
   "metadata": {},
   "outputs": [
    {
     "name": "stdout",
     "output_type": "stream",
     "text": [
      "1\n",
      "2\n",
      "-3\n",
      "-4\n",
      "5\n",
      "6\n",
      "-7\n",
      "-8\n",
      "9\n",
      "10\n",
      "-11\n",
      "-12\n",
      "13\n",
      "14\n",
      "-15\n",
      "-16\n",
      "17\n",
      "18\n",
      "-19\n"
     ]
    }
   ],
   "source": [
    "c=0\n",
    "p=0\n",
    "for i in range(1,20):\n",
    "#     print('i',i)\n",
    "#     print('c',c)\n",
    "#     print('p',p)\n",
    "    if(c==2 or p>=1):\n",
    "        print(-i)\n",
    "        c-=1\n",
    "        p+=1\n",
    "        if(c==0):\n",
    "            p=0\n",
    "    else:\n",
    "        print(i)\n",
    "        c+=1"
   ]
  },
  {
   "cell_type": "code",
   "execution_count": null,
   "metadata": {},
   "outputs": [],
   "source": [
    "Question #3: Word is the key\n",
    "\n",
    "\n",
    "One programming language has the following keywords that cannot be used as identifiers:\n",
    "\n",
    "\n",
    "\n",
    "break, case, continue, default, defer, else, for, func, goto, if, map, range, return, struct, type, var\n",
    "\n",
    "\n",
    "\n",
    "Write a program to find if the given word is a keyword or not\n",
    "\n",
    "\n",
    "\n",
    "Input #1:\n",
    "\n",
    "\n",
    "\n",
    "defer\n",
    "\n",
    "\n",
    "\n",
    "Output:\n",
    "\n",
    "\n",
    "\n",
    "defer is a keyword\n",
    "\n",
    "\n",
    "\n",
    "\n",
    "\n",
    "Input #2:\n",
    "\n",
    "\n",
    "\n",
    "While\n",
    "\n"
   ]
  },
  {
   "cell_type": "code",
   "execution_count": 23,
   "metadata": {},
   "outputs": [
    {
     "name": "stdout",
     "output_type": "stream",
     "text": [
      "else\n",
      "else is a keyword\n"
     ]
    }
   ],
   "source": [
    "d={'break':True, 'case':True, 'continue':True, 'default':True, 'defer':True, 'else':True, 'for':True, 'func':True, 'goto':True, 'if':True, 'map':True, 'range':True, 'return':True, 'struct':True, 'type':True, 'var':True}\n",
    "x=input()\n",
    "if(d.get(x,None)):\n",
    "    print(\"{} is a keyword\".format(x))\n",
    "else:\n",
    "    print(\"{} is not a keyword\".format(x))"
   ]
  },
  {
   "cell_type": "code",
   "execution_count": 6,
   "metadata": {},
   "outputs": [
    {
     "data": {
      "text/plain": [
       "[[], ['a'], ['b'], ['a', 'b'], ['c'], ['a', 'c'], ['b', 'c'], ['a', 'b', 'c']]"
      ]
     },
     "execution_count": 6,
     "metadata": {},
     "output_type": "execute_result"
    }
   ],
   "source": [
    "s='abc'\n",
    "out=[[]]\n",
    "for i in s:\n",
    "    out+=[lst +[i] for lst in out]\n",
    "out"
   ]
  },
  {
   "cell_type": "code",
   "execution_count": null,
   "metadata": {},
   "outputs": [],
   "source": [
    "There is a JAR full of candies for sale at a mall counter. JAR has the capacity N, that is JAR can contain maximum N candies when JAR is full. At any point of time. JAR can have M number of Candies where M<=N. Candies are served to the customers. JAR is never remain empty as when last k candies are left. JAR if refilled with new candies in such a way that JAR get full.\n",
    "Write a code to implement above scenario. Display JAR at counter with available number of candies. Input should be the number of candies one customer can order at point of time. Update the JAR after each purchase and display JAR at Counter.\n",
    "\n",
    "Output should give number of Candies sold and updated number of Candies in JAR.\n",
    "\n",
    "If Input is more than candies in JAR, return: “INVALID INPUT”\n",
    "\n",
    "Given, \n",
    "\n",
    "N=10, where N is NUMBER OF CANDIES AVAILABLE\n",
    "\n",
    "K =< 5, where k is number of minimum candies that must be inside JAR ever.\n",
    "\n",
    "Example 1:(N = 10, k =< 5)\n",
    "\n",
    "Input Value\n",
    "3\n",
    "Output Value\n",
    "NUMBER OF CANDIES SOLD : 3\n",
    "NUMBER OF CANDIES AVAILABLE : 7\n",
    "Example : (N=10, k<=5)\n",
    "\n",
    "Input Value\n",
    "0\n",
    "Output Value\n",
    "INVALID INPUT\n",
    "NUMBER OF CANDIES LEFT : 10"
   ]
  },
  {
   "cell_type": "code",
   "execution_count": 29,
   "metadata": {},
   "outputs": [
    {
     "name": "stdout",
     "output_type": "stream",
     "text": [
      "10\n",
      "5\n",
      "0\n",
      "INVALID INPUT\n",
      "NUMBER OF CANDIES LEFT:10\n"
     ]
    }
   ],
   "source": [
    "number_of_candies=int(input())\n",
    "k=int(input())\n",
    "inp=int(input())\n",
    "if inp in range(1,k+1):\n",
    "    print(\"NUMBER OF CANDIES SOLD: {}\".format(inp))\n",
    "    print(\"NUMBER OF CANDIES AVAILABLE: {}\".format(number_of_candies-inp))\n",
    "else:\n",
    "    print(\"INVALID INPUT\")\n",
    "    print(\"NUMBER OF CANDIES LEFT:{}\".format(number_of_candies))\n",
    "    "
   ]
  },
  {
   "cell_type": "code",
   "execution_count": 20,
   "metadata": {},
   "outputs": [
    {
     "name": "stdout",
     "output_type": "stream",
     "text": [
      "a\n",
      "ab\n",
      "abc\n",
      "b\n",
      "bc\n",
      "c\n",
      "6\n"
     ]
    }
   ],
   "source": [
    "a='abc'\n",
    "c=0\n",
    "for i in range(len(a)):\n",
    "    for j in range(i+1,len(a)+1):\n",
    "        print(a[i:j])\n",
    "        c+=1\n",
    "print(c)"
   ]
  },
  {
   "cell_type": "code",
   "execution_count": 21,
   "metadata": {},
   "outputs": [
    {
     "name": "stdout",
     "output_type": "stream",
     "text": [
      "a\n",
      "ab\n",
      "b\n",
      "bc\n",
      "c\n",
      "5\n"
     ]
    }
   ],
   "source": [
    "a='abc'\n",
    "c=0\n",
    "\n",
    "for i in range(len(a)):\n",
    "    for j in range(i+1,len(a)+1):\n",
    "        if('abc' not in a[i:j]):\n",
    "            print(a[i:j])\n",
    "            c+=1\n",
    "print(c)"
   ]
  },
  {
   "cell_type": "code",
   "execution_count": 23,
   "metadata": {},
   "outputs": [
    {
     "ename": "TypeError",
     "evalue": "'in <string>' requires string as left operand, not list",
     "output_type": "error",
     "traceback": [
      "\u001b[0;31m---------------------------------------------------------------------------\u001b[0m",
      "\u001b[0;31mTypeError\u001b[0m                                 Traceback (most recent call last)",
      "\u001b[0;32m<ipython-input-23-845a222a040f>\u001b[0m in \u001b[0;36m<module>\u001b[0;34m\u001b[0m\n\u001b[1;32m      4\u001b[0m \u001b[0;32mfor\u001b[0m \u001b[0mi\u001b[0m \u001b[0;32min\u001b[0m \u001b[0mrange\u001b[0m\u001b[0;34m(\u001b[0m\u001b[0mlen\u001b[0m\u001b[0;34m(\u001b[0m\u001b[0ma\u001b[0m\u001b[0;34m)\u001b[0m\u001b[0;34m)\u001b[0m\u001b[0;34m:\u001b[0m\u001b[0;34m\u001b[0m\u001b[0;34m\u001b[0m\u001b[0m\n\u001b[1;32m      5\u001b[0m     \u001b[0;32mfor\u001b[0m \u001b[0mj\u001b[0m \u001b[0;32min\u001b[0m \u001b[0mrange\u001b[0m\u001b[0;34m(\u001b[0m\u001b[0mi\u001b[0m\u001b[0;34m+\u001b[0m\u001b[0;36m1\u001b[0m\u001b[0;34m,\u001b[0m\u001b[0mlen\u001b[0m\u001b[0;34m(\u001b[0m\u001b[0ma\u001b[0m\u001b[0;34m)\u001b[0m\u001b[0;34m+\u001b[0m\u001b[0;36m1\u001b[0m\u001b[0;34m)\u001b[0m\u001b[0;34m:\u001b[0m\u001b[0;34m\u001b[0m\u001b[0;34m\u001b[0m\u001b[0m\n\u001b[0;32m----> 6\u001b[0;31m         \u001b[0;32mif\u001b[0m\u001b[0;34m(\u001b[0m\u001b[0;34m[\u001b[0m\u001b[0;34m'a'\u001b[0m\u001b[0;34m,\u001b[0m\u001b[0;34m'b'\u001b[0m\u001b[0;34m,\u001b[0m\u001b[0;34m'c'\u001b[0m\u001b[0;34m]\u001b[0m \u001b[0;32mnot\u001b[0m \u001b[0;32min\u001b[0m \u001b[0ma\u001b[0m\u001b[0;34m[\u001b[0m\u001b[0mi\u001b[0m\u001b[0;34m:\u001b[0m\u001b[0mj\u001b[0m\u001b[0;34m]\u001b[0m\u001b[0;34m)\u001b[0m\u001b[0;34m:\u001b[0m\u001b[0;34m\u001b[0m\u001b[0;34m\u001b[0m\u001b[0m\n\u001b[0m\u001b[1;32m      7\u001b[0m             \u001b[0mprint\u001b[0m\u001b[0;34m(\u001b[0m\u001b[0ma\u001b[0m\u001b[0;34m[\u001b[0m\u001b[0mi\u001b[0m\u001b[0;34m:\u001b[0m\u001b[0mj\u001b[0m\u001b[0;34m]\u001b[0m\u001b[0;34m)\u001b[0m\u001b[0;34m\u001b[0m\u001b[0;34m\u001b[0m\u001b[0m\n\u001b[1;32m      8\u001b[0m             \u001b[0mc\u001b[0m\u001b[0;34m+=\u001b[0m\u001b[0;36m1\u001b[0m\u001b[0;34m\u001b[0m\u001b[0;34m\u001b[0m\u001b[0m\n",
      "\u001b[0;31mTypeError\u001b[0m: 'in <string>' requires string as left operand, not list"
     ]
    }
   ],
   "source": [
    "a='babac'\n",
    "c=0\n",
    "\n",
    "for i in range(len(a)):\n",
    "    for j in range(i+1,len(a)+1):\n",
    "        if( not in a[i:j]):\n",
    "            print(a[i:j])\n",
    "            c+=1\n",
    "print(c)"
   ]
  },
  {
   "cell_type": "code",
   "execution_count": 27,
   "metadata": {},
   "outputs": [
    {
     "data": {
      "text/plain": [
       "8"
      ]
     },
     "execution_count": 27,
     "metadata": {},
     "output_type": "execute_result"
    }
   ],
   "source": [
    "def gcd(a,b):\n",
    "    if(b==0):\n",
    "        return a\n",
    "    else:\n",
    "        return gcd(b,a%b)\n",
    "x=gcd(4,8)\n",
    "lcm=32//x\n",
    "lcm"
   ]
  },
  {
   "cell_type": "code",
   "execution_count": 12,
   "metadata": {},
   "outputs": [
    {
     "data": {
      "text/plain": [
       "2"
      ]
     },
     "execution_count": 12,
     "metadata": {},
     "output_type": "execute_result"
    }
   ],
   "source": [
    "def gcd(a,b):\n",
    "    if(b==0):\n",
    "        return a\n",
    "    else:\n",
    "        return gcd(b,a%b)\n",
    "gcd(2,2)"
   ]
  },
  {
   "cell_type": "code",
   "execution_count": null,
   "metadata": {},
   "outputs": [],
   "source": [
    "Selection of MPCS exams include a fitness test which is conducted on ground. There will be a batch of 3 trainees, appearing for running test in track for 3 rounds. You need to record their oxygen level after every round. After trainee are finished with all rounds, calculate for each trainee his average oxygen level over the 3 rounds and select one with highest oxygen level as the most fit trainee. If more than one trainee attains the same highest average level, they all need to be selected.\n",
    "\n",
    "Display the most fit trainee (or trainees) and the highest average oxygen level.\n",
    "\n",
    "Note:\n",
    "\n",
    "The oxygen value entered should not be accepted if it is not in the range between 1 and 100.\n",
    "If the calculated maximum average oxygen value of trainees is below 70 then declare the trainees as unfit with meaningful message as “All trainees are unfit.\n",
    "Average Oxygen Values should be rounded.\n",
    "Example 1:\n",
    "\n",
    "INPUT VALUES\n",
    "            95\n",
    "\n",
    "            92\n",
    "\n",
    "            95\n",
    "\n",
    "            92\n",
    "\n",
    "            90\n",
    "\n",
    "            92\n",
    "\n",
    "            90\n",
    "\n",
    "            92\n",
    "\n",
    "            90\n",
    "\n",
    "OUTPUT VALUES\n",
    "Trainee Number : 1\n",
    "Trainee Number : 3\n",
    "Note:\n",
    "\n",
    "Input should be 9 integer values representing oxygen levels entered in order as\n",
    "\n",
    "Round 1\n",
    "\n",
    "Oxygen value of trainee 1\n",
    "Oxygen value of trainee 2\n",
    "Oxygen value of trainee 3\n",
    "Round 2\n",
    "\n",
    "Oxygen value of trainee 1\n",
    "Oxygen value of trainee 2\n",
    "Oxygen value of trainee 3\n",
    "Round 3\n",
    "\n",
    "Oxygen value of trainee 1\n",
    "Oxygen value of trainee 2\n",
    "Oxygen value of trainee 3\n",
    "Output must be in given format as in above example. For any wrong input final output should display “INVALID INPUT”"
   ]
  },
  {
   "cell_type": "code",
   "execution_count": null,
   "metadata": {},
   "outputs": [],
   "source": [
    "If array is [1, 2, 4, 5, 7, 9, 13] and N=14, here there are 2 pairs whose sum is 14 L (1, 13) and (5, 9). "
   ]
  },
  {
   "cell_type": "code",
   "execution_count": 3,
   "metadata": {},
   "outputs": [
    {
     "name": "stdout",
     "output_type": "stream",
     "text": [
      "1 13\n",
      "5 9\n"
     ]
    }
   ],
   "source": [
    "a=[1, 2, 4, 5, 7, 9,13]\n",
    "t=14\n",
    "l=0\n",
    "r=len(a)-1\n",
    "while(l<r):\n",
    "    if(a[l]+a[r]==t):\n",
    "        print(a[l],a[r])\n",
    "    if(a[l]+a[r]>t):\n",
    "        r-=1\n",
    "    else:\n",
    "        l+=1\n",
    "        "
   ]
  },
  {
   "cell_type": "code",
   "execution_count": 47,
   "metadata": {},
   "outputs": [
    {
     "ename": "ValueError",
     "evalue": "0 is not in list",
     "output_type": "error",
     "traceback": [
      "\u001b[0;31m---------------------------------------------------------------------------\u001b[0m",
      "\u001b[0;31mValueError\u001b[0m                                Traceback (most recent call last)",
      "\u001b[0;32m<ipython-input-47-fdfaf3fbb278>\u001b[0m in \u001b[0;36m<module>\u001b[0;34m\u001b[0m\n\u001b[1;32m      1\u001b[0m \u001b[0ma\u001b[0m\u001b[0;34m=\u001b[0m\u001b[0;34m[\u001b[0m\u001b[0;36m1\u001b[0m\u001b[0;34m,\u001b[0m \u001b[0;36m5\u001b[0m\u001b[0;34m,\u001b[0m \u001b[0;36m3\u001b[0m\u001b[0;34m,\u001b[0m \u001b[0;36m1\u001b[0m\u001b[0;34m,\u001b[0m\u001b[0;36m2\u001b[0m\u001b[0;34m]\u001b[0m\u001b[0;34m\u001b[0m\u001b[0;34m\u001b[0m\u001b[0m\n\u001b[0;32m----> 2\u001b[0;31m \u001b[0ma\u001b[0m\u001b[0;34m.\u001b[0m\u001b[0mindex\u001b[0m\u001b[0;34m(\u001b[0m\u001b[0;36m0\u001b[0m\u001b[0;34m)\u001b[0m\u001b[0;34m\u001b[0m\u001b[0;34m\u001b[0m\u001b[0m\n\u001b[0m",
      "\u001b[0;31mValueError\u001b[0m: 0 is not in list"
     ]
    }
   ],
   "source": [
    "a=[1, 5, 3, 1,2]\n",
    "a.index(0)"
   ]
  },
  {
   "cell_type": "code",
   "execution_count": 59,
   "metadata": {},
   "outputs": [
    {
     "data": {
      "text/plain": [
       "3"
      ]
     },
     "execution_count": 59,
     "metadata": {},
     "output_type": "execute_result"
    }
   ],
   "source": [
    "a=[1, 5, 3, 1,2]\n",
    "res = list(map(str,a))\n",
    "ress = ''.join(res).rindex('1')\n",
    "ress"
   ]
  },
  {
   "cell_type": "markdown",
   "metadata": {},
   "source": [
    "Sheldon is a genius and today he has got an array under his interest.\n",
    "He wants to find ,for all elements of the array, the nearest element on the left such that GCD of both the elements is maximum. (See sample test case for explanation.)\n",
    "Note: For first element, output will always be -1.\n",
    "INPUT\n",
    "First line contains an integer N - size of the array.\n",
    "Second line contains N space separated integers describing the array\n",
    "OUTPUT\n",
    "Output the index of the nearest element required in the problem.\n",
    "CONSTRAINTS\n",
    "\n",
    "\n",
    "SCORING\n",
    "For 40% of the scores- \n",
    "For 60% of the scores- \n",
    "\n",
    "SAMPLE INPUT \n",
    "5\n",
    "2 4 6 7 9\n",
    "SAMPLE OUTPUT \n",
    "-1 1 2 3 3 \n",
    "Explanation\n",
    "First element is the left extreme thus we output -1 for it.\n",
    "4 has GCD 2 with 2 on index 1\n",
    "6 has GCD 2 with 4 on index 2\n",
    "7 has GCD 1 with 6 on index 3,although 7 has gcd 1 with all integers on left but 6 is closest so we output 3\n",
    "9 has GCD 3 with 6 on index 3\n",
    "\n",
    "Time Limit:\t1.0 sec(s) for each input file.\n",
    "Memory Limit:\t256 MB\n",
    "Source Limit:\t1024 KB\n",
    "Marking Scheme:\tScore is assigned if any testcase passes.\n",
    "Allowed Languages:\tBash, C, C++, C++14, C++17, Clojure, C#, D, Erlang, F#, Go, Groovy, Haskell, Java, Java 8, Java 14, JavaScript(Rhino), JavaScript(Node.js), Julia, Kotlin, Lisp, Lisp (SBCL), Lua, Objective-C, OCaml, Octave, Pascal, Perl, PHP, Python, Python 3, Python 3.8, R(RScript), Racket, Ruby, Rust, Scala, Swift-4.1, Swift, TypeScript, Visual Basic"
   ]
  },
  {
   "cell_type": "code",
   "execution_count": null,
   "metadata": {},
   "outputs": [],
   "source": [
    "n=int(input())\n",
    "a=list(map(int,input().split()))\n",
    "out=[-1]\n",
    "def gcd(a,b):\n",
    "    if(b==0):\n",
    "        return a\n",
    "    else:\n",
    "        return gcd(b,a%b)\n",
    "for i in range(1,n):\n",
    "    # print(a[:i],a[i:i+1]*len(a[:i]))  \n",
    "    gcdd=list(map(gcd,a[:i],a[i:i+1]*len(a[:i])))\n",
    "    maxx=max(gcdd) \n",
    "    gcdd=list(map(str,gcdd))\n",
    "    # print(gcdd)\n",
    "    \n",
    "    # print('maxx',maxx)\n",
    "    out.append(''.join(gcdd).rindex(str(maxx))+1)\n",
    "print(' '.join(map(str,out)))\n",
    "    # print(list(map(gcd,a[:i],a[i:i+1]*len(a[:i]))))\n"
   ]
  },
  {
   "cell_type": "code",
   "execution_count": 63,
   "metadata": {},
   "outputs": [
    {
     "name": "stdout",
     "output_type": "stream",
     "text": [
      "['A', 'B', 'D', 'F', 'z']\n"
     ]
    }
   ],
   "source": [
    "u = [\"B\", \"D\", \"A\", \"F\", \"z\"]\n",
    "\n",
    "y=[]\n",
    "\n",
    "count=65\n",
    "\n",
    "while len(y)<len(u):\n",
    "\n",
    "    for i in u:\n",
    "\n",
    "        if ord(i)==count:\n",
    "\n",
    "            y.append(i)\n",
    "\n",
    "    count+=1\n",
    "\n",
    "print(y)"
   ]
  },
  {
   "cell_type": "code",
   "execution_count": 67,
   "metadata": {},
   "outputs": [
    {
     "name": "stdout",
     "output_type": "stream",
     "text": [
      "1\n",
      "21\n",
      "321\n",
      "4321\n",
      "54321\n",
      "4321\n",
      "321\n",
      "21\n",
      "1\n"
     ]
    }
   ],
   "source": [
    "x=[]\n",
    "t=[]\n",
    "n=5\n",
    "for i in range(1,n+1):\n",
    "    for j in range(1,i+1):\n",
    "        x.append(j)\n",
    "    print(''.join(map(str,x[::-1])))\n",
    "    t.append(x[::-1])\n",
    "    x.clear()\n",
    "for i in range(n-2,-1,-1):\n",
    "    print(''.join(map(str,t[i])))"
   ]
  },
  {
   "cell_type": "code",
   "execution_count": 74,
   "metadata": {},
   "outputs": [
    {
     "data": {
      "text/plain": [
       "'1010'"
      ]
     },
     "execution_count": 74,
     "metadata": {},
     "output_type": "execute_result"
    }
   ],
   "source": [
    "bin(10).replace('0b','')"
   ]
  },
  {
   "cell_type": "code",
   "execution_count": 78,
   "metadata": {},
   "outputs": [
    {
     "name": "stdout",
     "output_type": "stream",
     "text": [
      "[0, 0, 0, 0, 0, 0, 1, 0, 1, 0]\n"
     ]
    }
   ],
   "source": [
    "def decbin(n):\n",
    "    i=0\n",
    "    b=[0]*n\n",
    "    while(n>0):\n",
    "        b[i]=n%2\n",
    "        n=int(n/2)\n",
    "        i+=1\n",
    "    print(b[::-1])\n",
    "decbin(10)"
   ]
  },
  {
   "cell_type": "code",
   "execution_count": 95,
   "metadata": {},
   "outputs": [
    {
     "name": "stdout",
     "output_type": "stream",
     "text": [
      "5\n",
      "1/1+1/2+1/3+1/4+1/5\n"
     ]
    }
   ],
   "source": [
    "n=int(input())\n",
    "out=[]\n",
    "for i in range(1,n+1):\n",
    "    x=\"{}/{}\".format(1,i)\n",
    "    out.append(x)\n",
    "print('+'.join(out))\n"
   ]
  },
  {
   "cell_type": "code",
   "execution_count": 87,
   "metadata": {},
   "outputs": [
    {
     "name": "stdout",
     "output_type": "stream",
     "text": [
      "1+2\n"
     ]
    }
   ],
   "source": [
    "x=print('{}+{}'.format(1,2))\n",
    "x"
   ]
  },
  {
   "cell_type": "code",
   "execution_count": 111,
   "metadata": {},
   "outputs": [
    {
     "name": "stdout",
     "output_type": "stream",
     "text": [
      "length not equals and strings not equals\n"
     ]
    }
   ],
   "source": [
    "def strcmp(s1,s2):\n",
    "    if(len(s1)==len(s2)):\n",
    "        print('length equals')\n",
    "        for i in range(len(s1)):\n",
    "            if(s1[i]!=s2[i]):\n",
    "                print(' and strings not equals')\n",
    "                break\n",
    "        else:\n",
    "            print('string equals')\n",
    "            \n",
    "    else:\n",
    "        print('length not equals and strings not equals')\n",
    "strcmp('impact','heigh')"
   ]
  },
  {
   "cell_type": "code",
   "execution_count": 103,
   "metadata": {},
   "outputs": [
    {
     "data": {
      "text/plain": [
       "False"
      ]
     },
     "execution_count": 103,
     "metadata": {},
     "output_type": "execute_result"
    }
   ],
   "source": [
    "'s'=='S'"
   ]
  },
  {
   "cell_type": "code",
   "execution_count": null,
   "metadata": {},
   "outputs": [],
   "source": [
    "1. Write a program to find HCF of two numbers by without using recursion.\n",
    "\n",
    "Input format:\n",
    "\n",
    "The first line contains any 2 positive numbers separated by space.\n",
    "\n",
    "Output format:\n",
    "\n",
    "Print the HCF of given two numbers.\n",
    "\n",
    "Sample Input:\n",
    "\n",
    "70 15\n",
    "\n",
    "Sample Output:\n",
    "\n",
    "5"
   ]
  },
  {
   "cell_type": "code",
   "execution_count": 114,
   "metadata": {},
   "outputs": [
    {
     "name": "stdout",
     "output_type": "stream",
     "text": [
      "1\n"
     ]
    }
   ],
   "source": [
    "def hcf(a,b):\n",
    "    while(a!=b):\n",
    "        if(a>b):\n",
    "            a=a-b\n",
    "        else:\n",
    "            b=b-a\n",
    "    print(a)\n",
    "hcf(2,5)"
   ]
  },
  {
   "cell_type": "code",
   "execution_count": null,
   "metadata": {},
   "outputs": [],
   "source": []
  }
 ],
 "metadata": {
  "kernelspec": {
   "display_name": "Python 3",
   "language": "python",
   "name": "python3"
  },
  "language_info": {
   "codemirror_mode": {
    "name": "ipython",
    "version": 3
   },
   "file_extension": ".py",
   "mimetype": "text/x-python",
   "name": "python",
   "nbconvert_exporter": "python",
   "pygments_lexer": "ipython3",
   "version": "3.8.5"
  }
 },
 "nbformat": 4,
 "nbformat_minor": 4
}
