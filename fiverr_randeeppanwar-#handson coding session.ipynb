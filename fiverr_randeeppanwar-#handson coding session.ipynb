{
 "cells": [
  {
   "cell_type": "code",
   "execution_count": 35,
   "metadata": {},
   "outputs": [
    {
     "data": {
      "text/plain": [
       "15"
      ]
     },
     "execution_count": 35,
     "metadata": {},
     "output_type": "execute_result"
    }
   ],
   "source": [
    "l=[1,2,3,4,5]\n",
    "#l[start:stop:step]\n",
    "l[1::2]\n",
    "sum(l)\n"
   ]
  },
  {
   "cell_type": "code",
   "execution_count": 38,
   "metadata": {},
   "outputs": [
    {
     "data": {
      "text/plain": [
       "'malayalam'"
      ]
     },
     "execution_count": 38,
     "metadata": {},
     "output_type": "execute_result"
    }
   ],
   "source": [
    "k='malayalam'\n",
    "k[::-1]\n"
   ]
  },
  {
   "cell_type": "code",
   "execution_count": 20,
   "metadata": {},
   "outputs": [
    {
     "name": "stdout",
     "output_type": "stream",
     "text": [
      "1\n",
      "2\n",
      "3\n",
      "4\n",
      "5\n",
      "6\n",
      "7\n",
      "8\n",
      "9\n"
     ]
    }
   ],
   "source": [
    "for i in range(1,10):\n",
    "    print(i)"
   ]
  },
  {
   "cell_type": "markdown",
   "metadata": {},
   "source": [
    "# 2\n",
    "Print alternate odd and even sum of digits"
   ]
  },
  {
   "cell_type": "code",
   "execution_count": null,
   "metadata": {},
   "outputs": [],
   "source": [
    "l=[2,3,4,5,6]\n"
   ]
  },
  {
   "cell_type": "code",
   "execution_count": null,
   "metadata": {},
   "outputs": [],
   "source": []
  },
  {
   "cell_type": "code",
   "execution_count": null,
   "metadata": {},
   "outputs": [],
   "source": [
    "Rotate Array \n",
    "Given an unsorted array arr[] of size N, rotate it by D elements in the counter-clockwise direction. \n",
    "\n",
    "Input: \n",
    "The first line of the input contains T denoting the number of test cases. \n",
    "The first line of each test case contains two space-separated elements, \n",
    "N denoting the size of the array and an integer D denoting the number size of the rotation.\n",
    "The subsequent line will contain N space-separated array elements.\n",
    "\n",
    "Output:\n",
    "For each test case, in a new line, print the rotated array.\n",
    "\n",
    "Your Task:\n",
    "Complete the function rotateArr() which takes the array,\n",
    "D and N as input parameters and rotates the array by D elements. \n",
    "\n",
    "Expected Time Complexity: O(N)\n",
    "Expected Auxiliary Space: O(1)\n",
    "\n",
    "Constraints:\n",
    "1 <= T <= 200\n",
    "1 <= N <= 107\n",
    "1 <= D <= N\n",
    "0 <= arr[i] <= 105\n",
    "\n",
    "Example:\n",
    "Sample Input:\n",
    "2#testcase\n",
    "5 2# size , how much you have to rotate\n",
    "1 2 3 4 5 \n",
    "10 3\n",
    "2 4 6 8 10 12 14 16 18 20\n",
    "\n",
    "Sample Output:\n",
    "3 4 5 1 2\n",
    "8 10 12 14 16 18 20 2 4 6\n",
    "\n",
    "Explanation :\n",
    "Testcase 1: 1 2 3 4 5  when rotated by 2 elements, it becomes 3 4 5 1 2.\n",
    "Testcase 2: 2 4 6 8 10 12 14 16 18 20  when rotated by 3 elements, it becomes 8 10 12 14 16 18 20 2 4 6."
   ]
  },
  {
   "cell_type": "code",
   "execution_count": 40,
   "metadata": {},
   "outputs": [
    {
     "data": {
      "text/plain": [
       "[1, 2]"
      ]
     },
     "execution_count": 40,
     "metadata": {},
     "output_type": "execute_result"
    }
   ],
   "source": [
    "L=[1,2,3,4]\n",
    "L[:2]"
   ]
  },
  {
   "cell_type": "code",
   "execution_count": 41,
   "metadata": {},
   "outputs": [
    {
     "data": {
      "text/plain": [
       "[3, 4, 5, 1, 2]"
      ]
     },
     "execution_count": 41,
     "metadata": {},
     "output_type": "execute_result"
    }
   ],
   "source": [
    "def rotateArr(A,D,N):#A -ARRAY D-ROTATE N-size\n",
    "    l=A[:D]\n",
    "    del A[:D]\n",
    "    A.extend(l)\n",
    "    return A\n",
    "\n",
    "rotateArr([1,2,3,4,5],2,4)\n",
    "\n",
    "#functions\n",
    "#for\n",
    "#if \n",
    "#slicing\n",
    "#list\n"
   ]
  },
  {
   "cell_type": "code",
   "execution_count": 46,
   "metadata": {},
   "outputs": [
    {
     "name": "stdout",
     "output_type": "stream",
     "text": [
      "[1, 3, 12, 34, 45, 88, 99]\n",
      "[45, 12, 34, 88, 1, 3, 99]\n"
     ]
    }
   ],
   "source": [
    "l=[45,12,34,88,1,3,99]\n",
    "\n",
    "x=sorted(l)\n",
    "# dictionary,tuples,set \n",
    "print(x)\n",
    "print(l)"
   ]
  },
  {
   "cell_type": "markdown",
   "metadata": {},
   "source": [
    "# ASSIGNMENT QUESTION\n",
    "\n",
    "# 1\n",
    "MOVE ELEMENT TO THE END:\n",
    "\n",
    "You're given an array of integers and an integer.Write the code that moves all instances of that integer in the array to the end of the array and returns the array.\n",
    "\n",
    "The function should perform this in place(i.e, it should mutate the input array) and doesn't need to maintain the order of the other integers.\n",
    "\n",
    "\n",
    "INPUT:\n",
    "\n",
    "array=[2,1,2,2,2,3,4,2]\n",
    "\n",
    "move=2\n",
    "\n",
    "OUTPUT:\n",
    "\n",
    "[1,3,4,2,2,2,2,2]"
   ]
  },
  {
   "cell_type": "markdown",
   "metadata": {},
   "source": [
    " # 2\n",
    "\n",
    "Write a program to translate an english sentence in to pig latin. Pig latin is a language game of alterations played in english. The purpose is to obfuscate the language. It is a form of encoding.the rules of translation are changed slightly and are as follows:\n",
    "\n",
    "a) Each word of the sentence is to be translated\n",
    "b) If the word starts with a vowel, then add ‘ay’ to the end of the word\n",
    "c) If the word starts with a consonant, then move it to the end of the word and add ‘ay’\n",
    "\n",
    "INPUT:\n",
    "\n",
    "    First line will contain T, number of testcases. Then the testcases follow.\n",
    "    Each test case will have a single string S\n",
    "\n",
    "OUTPUT:\n",
    "\n",
    "    For each test case, output a single result string.\n",
    "\n",
    "SAMPLE INPUT\n",
    "\n",
    "2\n",
    "\n",
    "apple is not red\n",
    "\n",
    "The sky is blue\n",
    "\n",
    "SAMPLE OUTPUT\n",
    "\n",
    "appleay isay otnay edray\n",
    "\n",
    "heTay kysay isay luebay"
   ]
  },
  {
   "cell_type": "markdown",
   "metadata": {},
   "source": [
    "## ASSIGNMENT WORKS:  dictionary,tuples,set "
   ]
  },
  {
   "cell_type": "code",
   "execution_count": null,
   "metadata": {},
   "outputs": [],
   "source": []
  }
 ],
 "metadata": {
  "kernelspec": {
   "display_name": "Python 3",
   "language": "python",
   "name": "python3"
  },
  "language_info": {
   "codemirror_mode": {
    "name": "ipython",
    "version": 3
   },
   "file_extension": ".py",
   "mimetype": "text/x-python",
   "name": "python",
   "nbconvert_exporter": "python",
   "pygments_lexer": "ipython3",
   "version": "3.6.8"
  }
 },
 "nbformat": 4,
 "nbformat_minor": 2
}
