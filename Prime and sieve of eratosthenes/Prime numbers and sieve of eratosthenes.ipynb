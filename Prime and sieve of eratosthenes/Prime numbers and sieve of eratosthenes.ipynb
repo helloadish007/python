{
 "cells": [
  {
   "cell_type": "code",
   "execution_count": 1,
   "metadata": {},
   "outputs": [
    {
     "name": "stdout",
     "output_type": "stream",
     "text": [
      "true\n"
     ]
    }
   ],
   "source": [
    "def isPrime(n):\n",
    "    if (n <= 1):\n",
    "        return False\n",
    "    for i in range(2, n):\n",
    "        if (n % i == 0):\n",
    "            return False\n",
    " \n",
    "    return True\n",
    "\n",
    " \n",
    "# Driver Code\n",
    "if isPrime(11):\n",
    "    print(\"true\")\n",
    "else:\n",
    "    print(\"false\")\n",
    " "
   ]
  },
  {
   "cell_type": "code",
   "execution_count": null,
   "metadata": {},
   "outputs": [],
   "source": [
    "def main():\n",
    "    def isPrime(n):\n",
    "        if (n <= 1):\n",
    "            return False\n",
    "        for i in range(2, (n//2)+1):\n",
    "            if (n % i == 0):\n",
    "                return False\n",
    "    \n",
    "        return True\n",
    "    test_cases=int(input())\n",
    "    for i in range(test_cases):\n",
    "            p=[]\n",
    "            n1,n2=input().split()\n",
    "            n1=int(n1)\n",
    "            n2=int(n2)\n",
    "            for j in range(n1,n2+1):\n",
    "                if(isPrime(j)):\n",
    "                    p.append(j)\n",
    "            if(len(p)==0):\n",
    "                print(-1)\n",
    "            elif(len(p)==1):\n",
    "                print(0)\n",
    "            else:\n",
    "                print(p[-1]-p[0])\n",
    "            p=[]\n",
    "\n",
    " \n",
    "\n",
    "main()"
   ]
  },
  {
   "cell_type": "markdown",
   "metadata": {},
   "source": [
    "# Sieve of Eratosthenes"
   ]
  },
  {
   "cell_type": "code",
   "execution_count": 5,
   "metadata": {},
   "outputs": [
    {
     "name": "stdout",
     "output_type": "stream",
     "text": [
      "2\n",
      "3\n",
      "5\n",
      "7\n",
      "11\n",
      "13\n"
     ]
    }
   ],
   "source": [
    "prime={}\n",
    "n=15\n",
    "for i in range(2,n):\n",
    "    prime[i]=1\n",
    "for i in range(2,int(n**0.5)+1):\n",
    "    if prime[i]==1:\n",
    "        j=2\n",
    "        while(i*j<=n):\n",
    "            prime[i*j]=0\n",
    "            j+=1\n",
    "\n",
    "for i in range(len(prime)):\n",
    "    if(prime.get(i,0)==1):\n",
    "        print(i)\n",
    "        \n"
   ]
  },
  {
   "cell_type": "code",
   "execution_count": 2,
   "metadata": {},
   "outputs": [
    {
     "name": "stdout",
     "output_type": "stream",
     "text": [
      "5\n",
      "5 5\n",
      "0\n",
      "2 7\n",
      "5\n",
      "8 10\n",
      "-1\n",
      "10 20\n",
      "8\n",
      "4 5\n",
      "0\n"
     ]
    }
   ],
   "source": [
    "test_cases=int(input())\n",
    "for t in range(test_cases):\n",
    "    p=[]\n",
    "    n1,n2=input().split()\n",
    "    n1=int(n1)\n",
    "    n2=int(n2)\n",
    "    prime={}\n",
    "    for i in range(2,n2+1):\n",
    "        prime[i]=1\n",
    "    for i in range(2,int(n2**0.5)+1):\n",
    "        if prime[i]==1:\n",
    "            j=2\n",
    "        while(i*j<=n2):\n",
    "            prime[i*j]=0\n",
    "            j+=1\n",
    "    for k in prime.keys():\n",
    "        if(k>=n1 and k<=n2):\n",
    "            if(prime[k]==1):\n",
    "                p.append(k)\n",
    "    if(len(p)==0):\n",
    "        print(-1)\n",
    "    elif(len(p)==1):\n",
    "        print(0)\n",
    "    else:\n",
    "        print(p[-1]-p[0])\n",
    "   \n"
   ]
  },
  {
   "cell_type": "code",
   "execution_count": null,
   "metadata": {},
   "outputs": [],
   "source": [
    "5     \n",
    "5 5\n",
    "2 7\n",
    "8 10\n",
    "10 20\n",
    "4 5\n",
    "\n",
    "0\n",
    "5\n",
    "-1\n",
    "8\n",
    "0"
   ]
  }
 ],
 "metadata": {
  "kernelspec": {
   "display_name": "Python 3",
   "language": "python",
   "name": "python3"
  },
  "language_info": {
   "codemirror_mode": {
    "name": "ipython",
    "version": 3
   },
   "file_extension": ".py",
   "mimetype": "text/x-python",
   "name": "python",
   "nbconvert_exporter": "python",
   "pygments_lexer": "ipython3",
   "version": "3.8.5"
  }
 },
 "nbformat": 4,
 "nbformat_minor": 4
}
