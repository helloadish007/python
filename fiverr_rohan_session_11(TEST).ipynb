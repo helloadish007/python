{
 "cells": [
  {
   "cell_type": "markdown",
   "metadata": {},
   "source": [
    "### There are 4 questions. (TOTAL TIME : 120 MINUTES)\n",
    "\n",
    "### 1st Question : 20 points (30 minutes)\n",
    "\n",
    "### 2nd Question : 20 points (30 minutes)\n",
    "\n",
    "### 3rd Question : 20 points (30 minutes)\n",
    "\n",
    "### 4th Question : 20 points (30 minutes)\n",
    "\n",
    "### TOTAL POINTS : \n",
    "### MINIMUM SCORE TO PASS THE TEST : 70 points"
   ]
  },
  {
   "cell_type": "markdown",
   "metadata": {},
   "source": [
    "### 1.Single Cycle Check\n",
    "You are given an array of integers where each integer represents a jump of its value in the array.For instance,the integer 2 represents a jump of two indices forward in the array; the integer -3 represents a jump of three indices backwards in the array.\n",
    "\n",
    "If a jump spills past the array's bounds, it wraps over to the other side.For instance,a jump of -1 at index 0 brings us to the last index in the array.Similarly,a jump of 1 at the last index in the array brings us to index 0.\n",
    "\n",
    "Write a function that returns a boolean representing whether the jumps in the array form a single cycle.A single cycle occurs,if starting at any index in the array and following the jumps,every element in the array is visited exactly once before landing back on the starting index.¶"
   ]
  },
  {
   "cell_type": "code",
   "execution_count": 1,
   "metadata": {},
   "outputs": [
    {
     "data": {
      "text/plain": [
       "True"
      ]
     },
     "execution_count": 1,
     "metadata": {},
     "output_type": "execute_result"
    }
   ],
   "source": [
    "def singlecycle(array):\n",
    "    num_of_elements_visited=0\n",
    "    cuurent_index=0\n",
    "    while num_of_elements_visited<len(array):\n",
    "        if num_of_elements_visited>0 and cuurent_index==0:\n",
    "            return False\n",
    "        num_of_elements_visited+=1\n",
    "        cuurent_index=getnext_index(cuurent_index,array)\n",
    "    return cuurent_index==0 #if num_of_elements_visited==len(a) \n",
    "def getnext_index(cuurent_index,array):\n",
    "    jump=array[cuurent_index]\n",
    "    next_index=(cuurent_index+jump)%len(array)\n",
    "    return next_index\n",
    "singlecycle([2,3,1,-4,-4,2])\n",
    "\n",
    "\n",
    "\n",
    "#testcases:\n",
    "#1)[2, 3, 1, -4, -4, 2]-TRUE\n",
    "#2)[2, 2, -1]-TRUE\n",
    "#3)[2, 2, 2] -TRUE\n",
    "#4)[1, -1, 1, -1] -FALSE"
   ]
  },
  {
   "cell_type": "markdown",
   "metadata": {},
   "source": [
    "### 2. IMPLEMENT BALANCED PARANTHESIS IN ORDER USING STACK DATA STRUCTURE"
   ]
  },
  {
   "cell_type": "code",
   "execution_count": 2,
   "metadata": {},
   "outputs": [],
   "source": [
    "def balanced_paranthesis(s):\n",
    "    o=\"({[\"\n",
    "    c=\")}]\"\n",
    "    matching={\")\":\"(\",\"}\":\"{\",\"]\":\"[\"}\n",
    "    stack=[]\n",
    "    for i in s:\n",
    "        if i in o:\n",
    "            stack.append(i)\n",
    "        elif i in c:\n",
    "            if len(stack)==0:\n",
    "                return False\n",
    "            elif stack[-1]==matching[i]:\n",
    "                stack.pop()\n",
    "            else:\n",
    "                return False\n",
    "    return len(stack)==0"
   ]
  },
  {
   "cell_type": "markdown",
   "metadata": {},
   "source": [
    "### 3. IMPLEMENT A Print Queue\n",
    "\n",
    "When data is sent to this queue the job is printed but a copy will also be stored on the printer's hard disk drive.\n",
    "\n",
    "suppose rohan inserted application_form1 and application_form3 in a hurry!!.\n",
    "he forgot to insert application_form2.\n",
    "\n",
    "### Implement the above situation and help rohan to insert application_form2 in between application_form1 and application_form3\n"
   ]
  },
  {
   "cell_type": "code",
   "execution_count": 5,
   "metadata": {},
   "outputs": [
    {
     "name": "stdout",
     "output_type": "stream",
     "text": [
      "application_form1\n",
      "application_form3\n",
      "\n",
      "\n",
      "application_form3\n"
     ]
    }
   ],
   "source": [
    "class Queue:\n",
    "    def __init__(self,size):\n",
    "        self.size=size \n",
    "        self.front=0 #points  to the position of first element in queue\n",
    "        self.rear=-1#points to the position of last element in queue\n",
    "        self.items=[None]*self.size\n",
    "    \n",
    "    #CHECKING QUEUE IS FULL OR NOT\n",
    "        \n",
    "    def is_full(self):\n",
    "        return self.rear==self.size-1\n",
    "    \n",
    "    #ENQUEUE : INSERTING ELEMENTS INTO QUEUE\n",
    "    \n",
    "    def enqueue(self,data):\n",
    "        if(self.is_full()):\n",
    "            print('queue is full!!!')\n",
    "        else:\n",
    "            self.rear+=1\n",
    "            self.items[self.rear]=data\n",
    "            \n",
    "    #DISPLAY\n",
    "    \n",
    "    def display(self):\n",
    "        for i in range(0,self.rear+1):\n",
    "            print(self.items[i])\n",
    "    #CHECKING QUEUE IS EMPTY OR NOT\n",
    "    \n",
    "    def is_empty(self):\n",
    "        if(self.front==self.size or self.rear==-1):\n",
    "            return True\n",
    "        else:\n",
    "            return False\n",
    "    \n",
    "    #DEQUEUE: REMOVING ELEMENTS FROM FRONT \n",
    "    \n",
    "    def dequeue(self):\n",
    "        if(self.is_empty()):\n",
    "            print('QUEUE IS ALREADY EMPTY!!')\n",
    "        else:\n",
    "            data=self.items[self.front]\n",
    "            self.front+=1\n",
    "            return data\n",
    "        \n",
    "    #DISPLAY AFTER DEQUEUEING \n",
    "    \n",
    "    def display_dequeue(self):\n",
    "        for i in range(self.front,self.rear+1):\n",
    "            print(self.items[i])\n",
    "        \n",
    "    \n",
    "q1=Queue(5)\n",
    "q1.enqueue('application_form1')\n",
    "q1.enqueue('application_form3')\n",
    "q1.display()\n",
    "\n",
    "\n",
    "\n",
    "\n",
    "q1.dequeue()\n",
    "print('\\n')\n",
    "q1.display_dequeue()\n"
   ]
  },
  {
   "cell_type": "markdown",
   "metadata": {},
   "source": [
    "### 4. Create a class named employee\n",
    "\n",
    "1)each employee class should contain name,age,pay,phonenumber,emailaddress=name@gmail.com\n",
    "\n",
    "2)Method for displaying all details of an employee\n",
    "\n",
    "3)Method for increasing the pay by 5%\n",
    "\n",
    "4)Method to set mobile number and emailadress"
   ]
  },
  {
   "cell_type": "code",
   "execution_count": 6,
   "metadata": {},
   "outputs": [
    {
     "name": "stdout",
     "output_type": "stream",
     "text": [
      "1.07\n",
      "1.07\n",
      "1.07\n",
      "1.12\n",
      "1.12\n",
      "1.12\n",
      "1.13\n"
     ]
    },
    {
     "data": {
      "text/plain": [
       "9780"
      ]
     },
     "execution_count": 6,
     "metadata": {},
     "output_type": "execute_result"
    }
   ],
   "source": [
    "class Employee:\n",
    "    increase_pay_ = 1.07 \n",
    "    def __init__(self,name,age,pay,phone):\n",
    "        self.name=name\n",
    "        self.age=age\n",
    "        self.pay=pay\n",
    "        self.phone=phone\n",
    "        self.email=name+'@gmail.com'\n",
    "        \n",
    "    def display(self):\n",
    "        print('NAME: {}'.format(self.name))\n",
    "        print('AGE: {}'.format(self.age))\n",
    "        print('PAY: {}'.format(self.pay))\n",
    "        print('EMAIL: {}'.format(self.email))\n",
    "        print('PHONE: {}'.format(self.phone))\n",
    "        \n",
    "    def increase_pay(self):\n",
    "        self.pay = self.pay * self.increase_pay_\n",
    "        \n",
    "    def phone_change(self,number):\n",
    "        self.phone=number\n",
    "        \n",
    "e1=Employee('criz',21,3000,94946) \n",
    "\n",
    "e2=Employee('arun',34,4000,98655)\n",
    "\n",
    "e1.pay#previous salary\n",
    "e1.increase_pay()#increased previous salary to 6%\n",
    "e1.pay# increased new salary\n",
    "\n",
    "print(Employee.increase_pay_)# accessing class variable(increase_pay_) from Employee Class\n",
    "print(e1.increase_pay_)# accessing class variable(increase_pay_) from e1 object\n",
    "print(e2.increase_pay_)# accessing class variable(increase_pay_) from e2 object\n",
    "\n",
    "''' when we try to access an attribute on an instance ,\n",
    "it'll first check,if the instance contains that  attribute and if doesnt\n",
    ",it'll see whether the class or any other class that it inherits from contains that attribute\n",
    "\n",
    "e1 object does not contain the attribute increase_pay_ ,they are accessing it from the class Employee '''\n",
    "\n",
    "e1.__dict__ #does not contain increase_pay_\n",
    "\n",
    "Employee.__dict__# contains  increase_pay_\n",
    "\n",
    "\n",
    "Employee.increase_pay_=1.12 #change the value of increase_pay_ for the classes and all the instances\n",
    "\n",
    "print(Employee.increase_pay_)# accessing class variable(increase_pay_) from Employee Class\n",
    "print(e1.increase_pay_)# accessing class variable(increase_pay_) from e1 object\n",
    "print(e2.increase_pay_)# accessing class variable(increase_pay_) from e2 object\n",
    "\n",
    "e2.increase_pay_=1.13 #changing icrease_pay_ for the instance e2 and it creates increase_pay_ attribute for that particular instance\n",
    "\n",
    "print(e2.increase_pay_)\n",
    "\n",
    "e2.__dict__\n",
    "\n",
    "e1.phone_change(9780)\n",
    "e1.phone"
   ]
  },
  {
   "cell_type": "code",
   "execution_count": null,
   "metadata": {},
   "outputs": [],
   "source": []
  }
 ],
 "metadata": {
  "kernelspec": {
   "display_name": "Python 3",
   "language": "python",
   "name": "python3"
  },
  "language_info": {
   "codemirror_mode": {
    "name": "ipython",
    "version": 3
   },
   "file_extension": ".py",
   "mimetype": "text/x-python",
   "name": "python",
   "nbconvert_exporter": "python",
   "pygments_lexer": "ipython3",
   "version": "3.6.8"
  }
 },
 "nbformat": 4,
 "nbformat_minor": 2
}
