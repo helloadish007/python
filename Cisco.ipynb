{
 "cells": [
  {
   "cell_type": "markdown",
   "metadata": {},
   "source": [
    "1) Find if the parentheses are balanced using stack.\n",
    "\n",
    "2) Write a wire shark filter to filter data between a specific server and your system?\n",
    "\n",
    "3) Tell me how you troubleshoot a network If there is a connection problem?\n",
    "\n",
    "4) What is PAT?\n",
    "\n",
    "5) What is SMB exploit?\n",
    "\n",
    "6) Class of iPaddress?\n",
    "\n",
    "7) Tree traversal. Write a method to output data in binary tree\n",
    "\n",
    "8) Check nth bit , set nth bit, reverse nth bit of a given number?\n",
    "\n",
    "9) Print nth element from the end of a linked list.(consider all the cases.)\n",
    "\n",
    "10) Mergesort Algorithm for linked list.\n",
    "\n",
    "11) Reverse a linked list both the iterative and recursive methods.\n",
    "\n",
    "12) 100 steps puzzle.\n"
   ]
  },
  {
   "cell_type": "markdown",
   "metadata": {},
   "source": [
    "# check if the kth bit is set or not?"
   ]
  },
  {
   "cell_type": "code",
   "execution_count": 86,
   "metadata": {},
   "outputs": [
    {
     "name": "stdout",
     "output_type": "stream",
     "text": [
      "not set\n"
     ]
    }
   ],
   "source": [
    "# n=10000100\n",
    "n=110\n",
    "k=1\n",
    "if(n&(1<<k-1)):\n",
    "    print('set')\n",
    "else:\n",
    "    print('not set')"
   ]
  },
  {
   "cell_type": "code",
   "execution_count": 4,
   "metadata": {},
   "outputs": [
    {
     "data": {
      "text/plain": [
       "'0b10'"
      ]
     },
     "execution_count": 4,
     "metadata": {},
     "output_type": "execute_result"
    }
   ],
   "source": [
    "bin(1<<1)"
   ]
  },
  {
   "cell_type": "markdown",
   "metadata": {},
   "source": [
    "# set kth bit "
   ]
  },
  {
   "cell_type": "code",
   "execution_count": 96,
   "metadata": {},
   "outputs": [
    {
     "data": {
      "text/plain": [
       "'1110'"
      ]
     },
     "execution_count": 96,
     "metadata": {},
     "output_type": "execute_result"
    }
   ],
   "source": [
    "def set_kth_bit(n,k):\n",
    "    return bin(n|1<<k)[2:]\n",
    "#     return n|1<<k\n",
    "set_kth_bit(10,2)"
   ]
  },
  {
   "cell_type": "markdown",
   "metadata": {},
   "source": [
    "# Toggle kth bit"
   ]
  },
  {
   "cell_type": "code",
   "execution_count": 104,
   "metadata": {},
   "outputs": [
    {
     "name": "stdout",
     "output_type": "stream",
     "text": [
      "1011\n",
      "1010\n"
     ]
    },
    {
     "data": {
      "text/plain": [
       "'1011'"
      ]
     },
     "execution_count": 104,
     "metadata": {},
     "output_type": "execute_result"
    }
   ],
   "source": [
    "def toggle_kth_bit(n,k):\n",
    "    return bin(n^1<<k)[2:]\n",
    "y=toggle_kth_bit(10,0)\n",
    "print(y)\n",
    "x=toggle_kth_bit(int(y,2),0)\n",
    "print(x)\n",
    "toggle_kth_bit(int(x,2),0)"
   ]
  },
  {
   "cell_type": "code",
   "execution_count": 16,
   "metadata": {},
   "outputs": [
    {
     "data": {
      "text/plain": [
       "60"
      ]
     },
     "execution_count": 16,
     "metadata": {},
     "output_type": "execute_result"
    }
   ],
   "source": [
    "def f(n):\n",
    "    return ((n<<3)+n+n) \n",
    "f(6)"
   ]
  },
  {
   "cell_type": "markdown",
   "metadata": {},
   "source": [
    "# Is even or odd bit manipulation "
   ]
  },
  {
   "cell_type": "code",
   "execution_count": 120,
   "metadata": {},
   "outputs": [
    {
     "name": "stdout",
     "output_type": "stream",
     "text": [
      "odd\n"
     ]
    }
   ],
   "source": [
    "# Odd numbers will have lsb(least significant bit or rightmost bit) ALWAYS TURNED 1\n",
    "def even_or_odd(n):\n",
    "    if(n&1):\n",
    "        print(\"odd\")\n",
    "    else:\n",
    "        print(\"even\")\n",
    "\n",
    "even_or_odd(23)\n",
    "    "
   ]
  },
  {
   "cell_type": "markdown",
   "metadata": {},
   "source": [
    "# Check whether a number is a power of 2 or not?"
   ]
  },
  {
   "cell_type": "code",
   "execution_count": 135,
   "metadata": {},
   "outputs": [
    {
     "name": "stdout",
     "output_type": "stream",
     "text": [
      "yes\n"
     ]
    }
   ],
   "source": [
    "import math\n",
    "n=128\n",
    "if(math.ceil(math.log(n,2))==math.floor(math.log(n,2))):\n",
    "    print('yes')\n",
    "else:\n",
    "    print('no')"
   ]
  },
  {
   "cell_type": "code",
   "execution_count": 128,
   "metadata": {},
   "outputs": [
    {
     "data": {
      "text/plain": [
       "3.0"
      ]
     },
     "execution_count": 128,
     "metadata": {},
     "output_type": "execute_result"
    }
   ],
   "source": [
    "math.log(8,2)"
   ]
  },
  {
   "cell_type": "markdown",
   "metadata": {},
   "source": [
    "# 2nd approach to find a number is a power of 2 or not?"
   ]
  },
  {
   "cell_type": "markdown",
   "metadata": {},
   "source": [
    "If we subtract a power of 2 numbers by 1 then all unset bits after the only set bit become set; and the set bit becomes unset.\n",
    "For example for 4 ( 100) and 16(10000), we get the following after subtracting 1 \n",
    "3 –> 011 \n",
    "15 –> 01111\n",
    "\n",
    "So, if a number n is a power of 2 then bitwise & of n and n-1 will be zero. We can say n is a power of 2 or not based on the value of n&(n-1). The expression n&(n-1) will not work when n is 0. To handle this case also, our expression will become n& (!n&(n-1))"
   ]
  },
  {
   "cell_type": "code",
   "execution_count": 18,
   "metadata": {},
   "outputs": [
    {
     "name": "stdout",
     "output_type": "stream",
     "text": [
      "yes\n"
     ]
    }
   ],
   "source": [
    "n=\n",
    "if(n&n-1):\n",
    "    print('no')\n",
    "else:\n",
    "    print('yes')"
   ]
  },
  {
   "cell_type": "markdown",
   "metadata": {},
   "source": [
    "# Check whether a number is a power of 4 or not?"
   ]
  },
  {
   "cell_type": "code",
   "execution_count": 153,
   "metadata": {},
   "outputs": [
    {
     "name": "stdout",
     "output_type": "stream",
     "text": [
      "yes\n"
     ]
    }
   ],
   "source": [
    "n=64\n",
    "if(math.floor(math.log(n,4))==math.ceil(math.log(n,4))):\n",
    "    print('yes')\n",
    "else:\n",
    "    print('no')"
   ]
  },
  {
   "cell_type": "markdown",
   "metadata": {},
   "source": [
    "# Multiply a number by 7 without using * operator"
   ]
  },
  {
   "cell_type": "code",
   "execution_count": 18,
   "metadata": {},
   "outputs": [
    {
     "data": {
      "text/plain": [
       "35"
      ]
     },
     "execution_count": 18,
     "metadata": {},
     "output_type": "execute_result"
    }
   ],
   "source": [
    "def multiplybyseven(n):\n",
    "    return ((n<<3)-n)\n",
    "multiplybyseven(5)"
   ]
  },
  {
   "cell_type": "markdown",
   "metadata": {},
   "source": [
    "# Multiply a number by 15 without using * operator"
   ]
  },
  {
   "cell_type": "code",
   "execution_count": 21,
   "metadata": {},
   "outputs": [
    {
     "data": {
      "text/plain": [
       "60"
      ]
     },
     "execution_count": 21,
     "metadata": {},
     "output_type": "execute_result"
    }
   ],
   "source": [
    "def multiplybyfifteen(n):\n",
    "    return ((n<<4)-n)\n",
    "multiplybyfifteen(4)"
   ]
  },
  {
   "cell_type": "markdown",
   "metadata": {},
   "source": [
    "# Multiply a number by 8 without using * operator"
   ]
  },
  {
   "cell_type": "code",
   "execution_count": 29,
   "metadata": {},
   "outputs": [
    {
     "data": {
      "text/plain": [
       "-16.0"
      ]
     },
     "execution_count": 29,
     "metadata": {},
     "output_type": "execute_result"
    }
   ],
   "source": [
    "def multiplybyeight(n):\n",
    "    return (n/(1/8))\n",
    "multiplybyeight(-2)"
   ]
  },
  {
   "cell_type": "code",
   "execution_count": 32,
   "metadata": {},
   "outputs": [
    {
     "data": {
      "text/plain": [
       "16.0"
      ]
     },
     "execution_count": 32,
     "metadata": {},
     "output_type": "execute_result"
    }
   ],
   "source": [
    "import math\n",
    "math.pow(10,(math.log10(8)+math.log10(2)))"
   ]
  },
  {
   "cell_type": "markdown",
   "metadata": {},
   "source": [
    "# Median of numbers"
   ]
  },
  {
   "cell_type": "code",
   "execution_count": null,
   "metadata": {},
   "outputs": [],
   "source": [
    "def median(a):\n",
    "    a=sorted(a)\n",
    "    l=len(a)\n",
    "    if 1&l : #if length of array is odd\n",
    "        return a[l//2]\n",
    "    else:\n",
    "        return (a[l//2]+a[l//2 - 1])/2\n",
    "median([1,2,3,4])"
   ]
  },
  {
   "cell_type": "markdown",
   "metadata": {},
   "source": [
    "# Mode of numbers"
   ]
  },
  {
   "cell_type": "code",
   "execution_count": 167,
   "metadata": {},
   "outputs": [
    {
     "data": {
      "text/plain": [
       "'4'"
      ]
     },
     "execution_count": 167,
     "metadata": {},
     "output_type": "execute_result"
    }
   ],
   "source": [
    "def mode(a):\n",
    "    d={i:a.count(i) for i in set(a)}\n",
    "    maxx=max(d.values())\n",
    "    x=[k for k,v in d.items() if v==maxx]\n",
    "    return ' '.join(map(str,x))\n",
    "mode([1,1,2,3,4,4,4])"
   ]
  },
  {
   "cell_type": "code",
   "execution_count": 11,
   "metadata": {},
   "outputs": [
    {
     "data": {
      "text/plain": [
       "240"
      ]
     },
     "execution_count": 11,
     "metadata": {},
     "output_type": "execute_result"
    }
   ],
   "source": [
    "int('0xf0',16)"
   ]
  },
  {
   "cell_type": "markdown",
   "metadata": {},
   "source": [
    "# swap 2 nibbles"
   ]
  },
  {
   "cell_type": "code",
   "execution_count": 13,
   "metadata": {},
   "outputs": [
    {
     "data": {
      "text/plain": [
       "70"
      ]
     },
     "execution_count": 13,
     "metadata": {},
     "output_type": "execute_result"
    }
   ],
   "source": [
    "def swap_2_nibbles(n):\n",
    "    return ((n&0x0f)<<4 | (n&0xf0) >>4)\n",
    "swap_2_nibbles(100)"
   ]
  },
  {
   "cell_type": "code",
   "execution_count": 16,
   "metadata": {},
   "outputs": [
    {
     "name": "stdout",
     "output_type": "stream",
     "text": [
      "0\n",
      "00\n",
      "00\n",
      "00\n",
      "00\n",
      "00\n",
      "00\n",
      "00\n",
      "00\n",
      "00\n",
      "00\n",
      "00\n",
      "00\n",
      "00\n",
      "00\n",
      "00\n",
      "00\n",
      "00\n",
      "00\n",
      "00\n",
      "00\n",
      "00\n",
      "00\n",
      "00\n",
      "00\n",
      "00\n",
      "01\n",
      "110\n",
      "0100\n",
      "01000\n",
      "010000\n",
      "0100000\n",
      "0"
     ]
    }
   ],
   "source": [
    "def decToBinary(n):\n",
    "     \n",
    "    # Size of an integer is\n",
    "    # assumed to be 32 bits\n",
    "    for i in range(31, -1, -1):\n",
    "        k = n >> i;\n",
    "        print(bin(k)[2:])\n",
    "        if (k & 1):\n",
    "            print(\"1\", end = \"\");\n",
    "        else:\n",
    "            print(\"0\", end = \"\");\n",
    " \n",
    "# Driver Code\n",
    "n = 32;\n",
    "decToBinary(n);"
   ]
  },
  {
   "cell_type": "code",
   "execution_count": 157,
   "metadata": {},
   "outputs": [
    {
     "data": {
      "text/plain": [
       "0"
      ]
     },
     "execution_count": 157,
     "metadata": {},
     "output_type": "execute_result"
    }
   ],
   "source": [
    "6&1"
   ]
  },
  {
   "cell_type": "code",
   "execution_count": 62,
   "metadata": {},
   "outputs": [
    {
     "name": "stdout",
     "output_type": "stream",
     "text": [
      "3\n",
      "6 2\n",
      "9 3\n",
      "11 3\n",
      "4 2\n",
      "5 2\n"
     ]
    },
    {
     "data": {
      "text/plain": [
       "12"
      ]
     },
     "execution_count": 62,
     "metadata": {},
     "output_type": "execute_result"
    }
   ],
   "source": [
    "arr1=\"6 9 11 4 5\"\n",
    "arr1=list(map(int,arr1.split( )))\n",
    "totalJumps(4,1,5,arr1)"
   ]
  },
  {
   "cell_type": "code",
   "execution_count": 61,
   "metadata": {},
   "outputs": [
    {
     "name": "stdout",
     "output_type": "stream",
     "text": [
      "47\n",
      "16 1\n",
      "94 2\n",
      "36 1\n",
      "87 2\n",
      "93 2\n",
      "50 2\n",
      "22 1\n",
      "63 2\n",
      "28 1\n",
      "91 2\n",
      "60 2\n",
      "64 2\n",
      "27 1\n",
      "41 1\n",
      "27 1\n",
      "73 2\n",
      "37 1\n",
      "12 1\n",
      "69 2\n",
      "68 2\n",
      "30 1\n",
      "83 2\n",
      "31 1\n",
      "63 2\n",
      "24 1\n",
      "68 2\n",
      "36 1\n",
      "30 1\n",
      "3 1\n",
      "23 1\n",
      "59 2\n",
      "70 2\n",
      "68 2\n",
      "94 2\n",
      "57 2\n",
      "12 1\n",
      "43 1\n",
      "30 1\n",
      "74 2\n",
      "22 1\n",
      "20 1\n",
      "85 2\n",
      "38 1\n",
      "99 3\n",
      "25 1\n",
      "16 1\n",
      "71 2\n",
      "14 1\n",
      "27 1\n",
      "92 2\n",
      "81 2\n",
      "57 2\n",
      "74 2\n",
      "63 2\n",
      "71 2\n",
      "97 3\n",
      "82 2\n",
      "6 1\n",
      "26 1\n",
      "85 2\n",
      "28 1\n",
      "37 1\n",
      "6 1\n",
      "47 1\n",
      "30 1\n",
      "14 1\n",
      "58 2\n",
      "25 1\n",
      "96 3\n",
      "83 2\n",
      "46 1\n",
      "15 1\n",
      "68 2\n",
      "35 1\n",
      "65 2\n",
      "44 1\n",
      "51 2\n",
      "88 2\n"
     ]
    },
    {
     "data": {
      "text/plain": [
       "120"
      ]
     },
     "execution_count": 61,
     "metadata": {},
     "output_type": "execute_result"
    }
   ],
   "source": [
    "def totalJumps(X, Y, N, arr):\n",
    "        step_size=X-Y\n",
    "        print(step_size)\n",
    "        jump_count=1\n",
    "        j=[]\n",
    "        for i in arr:\n",
    "            while(True):\n",
    "                #print(\"i:step_count\",i,jump_count)\n",
    "                if(step_size>=i):\n",
    "                    #print(\"INSIDE FORLOOP :i:step_count\",i,jump_count)\n",
    "                    j.append(jump_count)\n",
    "                    jump_count=1\n",
    "                    step_size=X-Y\n",
    "                    break\n",
    "                else:\n",
    "                    step_size+=step_size\n",
    "                    jump_count+=1\n",
    "                    #print(\"i:jump_count:step_size\",i,jump_count,step_size)\n",
    "        for i in range(N):\n",
    "            print(arr[i],j[i])\n",
    "        return sum(j)\n",
    "arr=\"16 94 36 87 93 50 22 63 28 91 60 64 27 41 27 73 37 12 69 68 30 83 31 63 24 68 36 30 3 23 59 70 68 94 57 12 43 30 74 22 20 85 38 99 25 16 71 14 27 92 81 57 74 63 71 97 82 6 26 85 28 37 6 47 30 14 58 25 96 83 46 15 68 35 65 44 51 88\"\n",
    "arr=list(map(int,arr.split( )))\n",
    "totalJumps(84,37,78,arr)"
   ]
  },
  {
   "cell_type": "code",
   "execution_count": null,
   "metadata": {},
   "outputs": [],
   "source": []
  },
  {
   "cell_type": "markdown",
   "metadata": {},
   "source": [
    "# Linked list"
   ]
  },
  {
   "cell_type": "code",
   "execution_count": 9,
   "metadata": {},
   "outputs": [
    {
     "name": "stdout",
     "output_type": "stream",
     "text": [
      "empty linked list\n"
     ]
    }
   ],
   "source": [
    "class Node:\n",
    "    def __init__(self,data):\n",
    "        self.data=data\n",
    "        self.next=None\n",
    "class Linkedlist:\n",
    "    def __init__(self):\n",
    "        self.head=None \n",
    "        \n",
    "    def insert(self,newNode):\n",
    "        if self.head is None:\n",
    "            self.head=newNode \n",
    "        else:\n",
    "            lastnode=self.head\n",
    "            while True:\n",
    "                if lastnode.next is None:\n",
    "                    break\n",
    "                lastnode=lastnode.next\n",
    "            lastnode.next=newNode\n",
    "    def printLinkedlist(self):\n",
    "        currentnode=self.head\n",
    "        if currentnode is None:\n",
    "            print(\"empty linked list\")\n",
    "            return\n",
    "        while True:\n",
    "            if currentnode is None:\n",
    "                break\n",
    "            print(currentnode.data)\n",
    "            currentnode=currentnode.next\n",
    "        \n",
    "first_node=Node(\"a1\")\n",
    "second_node=Node(\"a2\")\n",
    "third_node=Node(\"a3\")\n",
    "linkedlist=Linkedlist()\n",
    "# linkedlist.insert(first_node)\n",
    "# linkedlist.insert(second_node)\n",
    "# linkedlist.insert(third_node)\n",
    "linkedlist.printLinkedlist()\n",
    "\n"
   ]
  },
  {
   "cell_type": "markdown",
   "metadata": {},
   "source": [
    "# Reverse linked list"
   ]
  },
  {
   "cell_type": "code",
   "execution_count": 71,
   "metadata": {},
   "outputs": [
    {
     "name": "stdout",
     "output_type": "stream",
     "text": [
      "a3\n",
      "a2\n",
      "a1\n"
     ]
    }
   ],
   "source": [
    "class Node:\n",
    "    def __init__(self,data):\n",
    "        self.data=data\n",
    "        self.next=None\n",
    "class Linkedlist:\n",
    "    def __init__(self):\n",
    "        self.head=None \n",
    "        \n",
    "    def insert(self,newNode):\n",
    "        if self.head is None:\n",
    "            self.head=newNode \n",
    "        else:\n",
    "            lastnode=self.head\n",
    "            while True:\n",
    "                if lastnode.next is None:\n",
    "                    break\n",
    "                lastnode=lastnode.next\n",
    "            lastnode.next=newNode\n",
    "    def printLinkedlist(self):\n",
    "        currentnode=self.head\n",
    "        if currentnode is None:\n",
    "            print(\"empty linked list\")\n",
    "            return\n",
    "        while True:\n",
    "            if currentnode is None:\n",
    "                break\n",
    "            print(currentnode.data)\n",
    "            currentnode=currentnode.next\n",
    "            \n",
    "    def length(self):\n",
    "        current_node=self.head\n",
    "        count=0\n",
    "        while True:\n",
    "            if current_node is None:\n",
    "                return count\n",
    "            else:\n",
    "                current_node=current_node.next\n",
    "                count+=1\n",
    "                \n",
    "# REVERSING LINKED LIST\n",
    "            \n",
    "    def reverse_linkedlist(self):\n",
    "        i=0\n",
    "        j=self.length()-1\n",
    "        p=q=self.head\n",
    "        while(i<j):\n",
    "            while True:\n",
    "                if q.next is None:\n",
    "                    q=q\n",
    "                    break\n",
    "                q=q.next\n",
    "            temp=p.data\n",
    "            p.data=q.data\n",
    "            q.data=temp\n",
    "            i+=1\n",
    "            j-=1\n",
    "            p=p.next\n",
    "            q=self.head\n",
    "            \n",
    "            \n",
    "        \n",
    "first_node=Node(\"a1\")\n",
    "second_node=Node(\"a2\")\n",
    "third_node=Node(\"a3\")\n",
    "linkedlist=Linkedlist()\n",
    "linkedlist.insert(first_node)\n",
    "linkedlist.insert(second_node)\n",
    "linkedlist.insert(third_node)\n",
    "# linkedlist.printLinkedlist()\n",
    "\n",
    "# linkedlist.length()\n",
    "linkedlist.reverse_linkedlist()\n",
    "\n",
    "linkedlist.printLinkedlist()"
   ]
  },
  {
   "cell_type": "markdown",
   "metadata": {},
   "source": [
    "# Print nth element from the end of a linked list.(consider all the cases.)"
   ]
  },
  {
   "cell_type": "code",
   "execution_count": 85,
   "metadata": {},
   "outputs": [
    {
     "name": "stdout",
     "output_type": "stream",
     "text": [
      "a3\n"
     ]
    }
   ],
   "source": [
    "class Node:\n",
    "    def __init__(self,data):\n",
    "        self.data=data\n",
    "        self.next=None\n",
    "class Linkedlist:\n",
    "    def __init__(self):\n",
    "        self.head=None \n",
    "        \n",
    "    def insert(self,newNode):\n",
    "        if self.head is None:\n",
    "            self.head=newNode \n",
    "        else:\n",
    "            lastnode=self.head\n",
    "            while True:\n",
    "                if lastnode.next is None:\n",
    "                    break\n",
    "                lastnode=lastnode.next\n",
    "            lastnode.next=newNode\n",
    "    def printLinkedlist(self):\n",
    "        currentnode=self.head\n",
    "        if currentnode is None:\n",
    "            print(\"empty linked list\")\n",
    "            return\n",
    "        while True:\n",
    "            if currentnode is None:\n",
    "                break\n",
    "            print(currentnode.data)\n",
    "            currentnode=currentnode.next\n",
    "            \n",
    "    def length(self):\n",
    "        current_node=self.head\n",
    "        count=0\n",
    "        while True:\n",
    "            if current_node is None:\n",
    "                return count\n",
    "            else:\n",
    "                current_node=current_node.next\n",
    "                count+=1\n",
    "                \n",
    "# REVERSING LINKED LIST\n",
    "            \n",
    "    def reverse_linkedlist(self):\n",
    "        i=0\n",
    "        j=self.length()-1\n",
    "        p=q=self.head\n",
    "        while(i<j):\n",
    "            while True:\n",
    "                if q.next is None:\n",
    "                    q=q\n",
    "                    break\n",
    "                q=q.next\n",
    "            temp=p.data\n",
    "            p.data=q.data\n",
    "            q.data=temp\n",
    "            i+=1\n",
    "            j-=1\n",
    "            p=p.next\n",
    "            q=self.head\n",
    "            \n",
    "# NTH ELEMENT OF A LINKED LIST FROM END\n",
    "            \n",
    "    def print_nth_element_from_end(self,n):\n",
    "        n=self.length()-n+1\n",
    "        current_node=self.head\n",
    "        while n-1:\n",
    "            current_node=current_node.next\n",
    "            n-=1\n",
    "        print(current_node.data)\n",
    "            \n",
    "            \n",
    "            \n",
    "        \n",
    "        \n",
    "            \n",
    "            \n",
    "        \n",
    "first_node=Node(\"a1\")\n",
    "second_node=Node(\"a2\")\n",
    "third_node=Node(\"a3\")\n",
    "fourth_node=Node(\"a4\")\n",
    "linkedlist=Linkedlist()\n",
    "linkedlist.insert(first_node)\n",
    "linkedlist.insert(second_node)\n",
    "linkedlist.insert(third_node)\n",
    "linkedlist.insert(fourth_node)\n",
    "# linkedlist.printLinkedlist()\n",
    "\n",
    "# linkedlist.length()\n",
    "# linkedlist.reverse_linkedlist()\n",
    "# linkedlist.printLinkedlist()\n",
    "linkedlist.print_nth_element_from_end(2)"
   ]
  },
  {
   "cell_type": "markdown",
   "metadata": {},
   "source": [
    "# Binary Search Tree"
   ]
  },
  {
   "cell_type": "code",
   "execution_count": null,
   "metadata": {},
   "outputs": [],
   "source": [
    "class Node:\n",
    "    def __init__(self,data,parent):\n",
    "        self.data=data\n",
    "        self.leftchild=None\n",
    "        self.rightchild=None\n",
    "        self.parent=parent\n",
    "        \n"
   ]
  }
 ],
 "metadata": {
  "kernelspec": {
   "display_name": "Python 3",
   "language": "python",
   "name": "python3"
  },
  "language_info": {
   "codemirror_mode": {
    "name": "ipython",
    "version": 3
   },
   "file_extension": ".py",
   "mimetype": "text/x-python",
   "name": "python",
   "nbconvert_exporter": "python",
   "pygments_lexer": "ipython3",
   "version": "3.8.5"
  }
 },
 "nbformat": 4,
 "nbformat_minor": 4
}
