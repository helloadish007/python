{
 "cells": [
  {
   "cell_type": "markdown",
   "metadata": {},
   "source": [
    "### There are 3 questions.          (TOTAL TIME : 60 MINUTES)\n",
    "\n",
    " 1st Question : 5 points (15 minutes)\n",
    "\n",
    " 2nd Question : 10 points (20 minutes)\n",
    "\n",
    " 3rd Question : 25 points (25 minutes)\n",
    "\n",
    "## TOTAL POINTS : 40\n",
    "\n",
    "## MINIMUM SCORE TO PASS THE TEST : 20 points"
   ]
  },
  {
   "cell_type": "markdown",
   "metadata": {},
   "source": [
    "### 1. Reverse array in groups    \n",
    "\n",
    "Given an array arr[] of positive integers of size N. Reverse every sub-array of K group elements.\n",
    "\n",
    "Input Format:\n",
    "\n",
    "The first line of each test case consists of an integer N(size of array) and an integer K separated by a space. The second line of each test case contains N space separated integers denoting the array elements.\n",
    "\n",
    "Output Format:\n",
    "\n",
    "For each test case, in a new line, print the modified array.\n",
    "\n",
    "User Task:\n",
    "\n",
    "The task is to complete the function reverseInGroups() which reverses elements of the array in groups and returns the array. The printing of array is done by drivercode.\n",
    "\n",
    "Example:\n",
    "\n",
    "Input\n",
    "\n",
    "\n",
    "5 3\n",
    "\n",
    "1 2 3 4 5\n",
    "\n",
    "4 3\n",
    "\n",
    "5 6 8 9\n",
    "\n",
    "4 7\n",
    "\n",
    "5 6 8 9\n",
    "\n",
    "8 3\n",
    "\n",
    "1 2 3 4 5 6 7 8\n",
    "\n",
    "Output\n",
    "\n",
    "3 2 1 5 4\n",
    "\n",
    "8 6 5 9\n",
    "\n",
    "9 8 6 5\n",
    "\n",
    "3 2 1 6 5 4 8 7\n",
    "\n",
    "Explanation:\n",
    "\n",
    "Testcase 1: Reversing groups in size k = 3, first group consists of elements 1, 2, 3. Reversing this group, we have elements in order as 3, 2, 1.\n",
    "\n",
    "\n",
    "\n"
   ]
  },
  {
   "cell_type": "code",
   "execution_count": 4,
   "metadata": {},
   "outputs": [
    {
     "name": "stdout",
     "output_type": "stream",
     "text": [
      "5 3 \n",
      "1 2 3 4 5\n",
      "3 2 1 5 4\n"
     ]
    }
   ],
   "source": [
    "s=input().split()\n",
    "l=input().split()\n",
    "d=int(s[1])\n",
    "l1=[]\n",
    "l2=[]\n",
    "for i in range(0,len(l),d):\n",
    "    l1.append(l[i:i+d])\n",
    "for i in range(len(l1)):\n",
    "    l2.extend(l1[i][::-1])\n",
    "print(\" \" .join(l2))"
   ]
  },
  {
   "cell_type": "markdown",
   "metadata": {},
   "source": [
    "### 2.Sort \n",
    "\n",
    "Given an array A of positive integers. Your task is to sort them in such a way that the first part of the array contains odd numbers sorted in descending order, rest portion contains even numbers sorted in ascending order.\n",
    "\n",
    "Input:\n",
    "    \n",
    "Each test case contains an integer N denoting the size of the array. \n",
    "\n",
    "The next line contains N space separated values of the array.\n",
    "\n",
    "Output:\n",
    "    \n",
    "For each test case in a new line print the space separated values of the modified array.\n",
    "\n",
    "Example:\n",
    "    \n",
    "Input:\n",
    "    \n",
    "7\n",
    "\n",
    "1 2 3 5 4 7 10\n",
    "\n",
    "7\n",
    "\n",
    "0 4 5 3 7 2 1\n",
    "\n",
    "Output:\n",
    "    \n",
    "7 5 3 1 2 4 10\n",
    "\n",
    "7 5 3 1 0 2 4\n",
    "\n",
    "Explanation:\n",
    "    \n",
    "Testcase1: Array elements 7 5 3 1 are odd and sorted in descending order, \n",
    "    \n",
    "whereas 2 4 10 are even numbers and sorted in ascending order.\n",
    "\n"
   ]
  },
  {
   "cell_type": "code",
   "execution_count": 6,
   "metadata": {},
   "outputs": [
    {
     "name": "stdout",
     "output_type": "stream",
     "text": [
      "7\n",
      "1 2 3 5 4 7 10\n",
      "7 5 3 1 2 4 10\n"
     ]
    }
   ],
   "source": [
    "s=int(input())\n",
    "l=input().split()\n",
    "o=[]\n",
    "e=[]\n",
    "for i in range(len(l)):\n",
    "    if(int(l[i])%2==0):\n",
    "        e.append(l[i])\n",
    "    else:\n",
    "        o.append(l[i])\n",
    "o.sort(key=int,reverse=True)\n",
    "e.sort(key=int)\n",
    "o.extend(e)\n",
    "print(\" \".join(o))"
   ]
  },
  {
   "cell_type": "markdown",
   "metadata": {},
   "source": [
    "### 3.write a method which removes any given character fom a string\n",
    "\n",
    "enter the string cheat\n",
    "\n",
    "enter the string to be deleted e\n",
    "\n",
    "chat"
   ]
  },
  {
   "cell_type": "code",
   "execution_count": 7,
   "metadata": {},
   "outputs": [
    {
     "name": "stdout",
     "output_type": "stream",
     "text": [
      "enter the string cheat\n",
      "enter the string to be deleted e\n",
      "chat\n"
     ]
    }
   ],
   "source": [
    "\n",
    "\n",
    "i=k=input(\"enter the string \")\n",
    "j=input(\"enter the string to be deleted \")\n",
    "print(i.replace(j,\"\"))\n"
   ]
  },
  {
   "cell_type": "markdown",
   "metadata": {},
   "source": [
    "### 4.BALANCED PARANTHESIS IN ORDER:"
   ]
  },
  {
   "cell_type": "code",
   "execution_count": 8,
   "metadata": {},
   "outputs": [],
   "source": [
    "\n",
    "def balanced_paranthesis(s):\n",
    "    o=\"({[\"\n",
    "    c=\")}]\"\n",
    "    matching={\")\":\"(\",\"}\":\"{\",\"]\":\"[\"}\n",
    "    stack=[]\n",
    "    for i in s:\n",
    "        if i in o:\n",
    "            stack.append(i)\n",
    "        elif i in c:\n",
    "            if len(stack)==0:\n",
    "                return False\n",
    "            elif stack[-1]==matching[i]:\n",
    "                stack.pop()\n",
    "            else:\n",
    "                return False\n",
    "    return len(stack)==0"
   ]
  },
  {
   "cell_type": "markdown",
   "metadata": {},
   "source": [
    "### 5.palindrome"
   ]
  },
  {
   "cell_type": "code",
   "execution_count": 12,
   "metadata": {},
   "outputs": [
    {
     "name": "stdout",
     "output_type": "stream",
     "text": [
      "122\n",
      "not a palindrome\n"
     ]
    }
   ],
   "source": [
    "n=input()\n",
    "if(n[::-1]==n):\n",
    "    print(\"palindrome\")\n",
    "else:\n",
    "    print(\"not a palindrome\")"
   ]
  },
  {
   "cell_type": "code",
   "execution_count": null,
   "metadata": {},
   "outputs": [],
   "source": []
  }
 ],
 "metadata": {
  "kernelspec": {
   "display_name": "Python 3",
   "language": "python",
   "name": "python3"
  },
  "language_info": {
   "codemirror_mode": {
    "name": "ipython",
    "version": 3
   },
   "file_extension": ".py",
   "mimetype": "text/x-python",
   "name": "python",
   "nbconvert_exporter": "python",
   "pygments_lexer": "ipython3",
   "version": "3.6.8"
  }
 },
 "nbformat": 4,
 "nbformat_minor": 2
}
