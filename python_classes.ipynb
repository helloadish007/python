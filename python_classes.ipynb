{
 "cells": [
  {
   "cell_type": "markdown",
   "metadata": {},
   "source": [
    "## 'Self' --  is referring to an instance(object) of a class.\n",
    "\n",
    "if we DONT INCLUDE SELF as the first parameter in any method(function)definition in our class,\n",
    "then those methods will only be available through the class Namespace,\n",
    "it wont have access to any instance attributes.\n",
    "\n",
    "## dunder-- double underscore in python\n",
    "\n",
    "### _ (single underscore) --  generally, that a name is to be treated as private,by the programmer [NOTE: THIS IS A CONVENTION WHICH IS NOT ENFORCED BY PYTHON]\n",
    "\n",
    "\n",
    "### __(dunder) -- A double underscore prefix causes the Python interpreter to rewrite the attribute name in order to avoid naming conflicts in subclasses. This is also called name mangling—the interpreter changes the name of the variable in a way that makes it harder to create collisions when the class is extended later. \n"
   ]
  },
  {
   "cell_type": "code",
   "execution_count": 1,
   "metadata": {},
   "outputs": [
    {
     "data": {
      "text/plain": [
       "<__main__.Test at 0x7f06d45d01d0>"
      ]
     },
     "execution_count": 1,
     "metadata": {},
     "output_type": "execute_result"
    }
   ],
   "source": [
    "class Test:\n",
    "    def __init__(self):\n",
    "        self.a = 10\n",
    "        self._b = 20  #aconvention that indicates _b is a private variable\n",
    "        self.__c=30\n",
    "t=Test() #creating an object/instance of the class named Test [instantiation]\n",
    "t"
   ]
  },
  {
   "cell_type": "code",
   "execution_count": 3,
   "metadata": {},
   "outputs": [
    {
     "data": {
      "text/plain": [
       "['_Test__c',\n",
       " '__class__',\n",
       " '__delattr__',\n",
       " '__dict__',\n",
       " '__dir__',\n",
       " '__doc__',\n",
       " '__eq__',\n",
       " '__format__',\n",
       " '__ge__',\n",
       " '__getattribute__',\n",
       " '__gt__',\n",
       " '__hash__',\n",
       " '__init__',\n",
       " '__init_subclass__',\n",
       " '__le__',\n",
       " '__lt__',\n",
       " '__module__',\n",
       " '__ne__',\n",
       " '__new__',\n",
       " '__reduce__',\n",
       " '__reduce_ex__',\n",
       " '__repr__',\n",
       " '__setattr__',\n",
       " '__sizeof__',\n",
       " '__str__',\n",
       " '__subclasshook__',\n",
       " '__weakref__',\n",
       " '_b',\n",
       " 'a']"
      ]
     },
     "execution_count": 3,
     "metadata": {},
     "output_type": "execute_result"
    }
   ],
   "source": [
    "dir(t)#returns list of the attributes and methods of any object (say functions , modules, strings, lists, dictionaries etc.)"
   ]
  },
  {
   "cell_type": "markdown",
   "metadata": {},
   "source": [
    "here in the output of dir(t),you can see that , the '__c' is converted to '_Test__c'..to avoid naming collision with other variables,when the class is extended later.."
   ]
  },
  {
   "cell_type": "markdown",
   "metadata": {},
   "source": [
    "Python is an object oriented programming language. \n",
    "\n",
    "Unlike procedure oriented programming, where the main emphasis is on functions, \n",
    "\n",
    "object oriented programming stress on objects.\n",
    "\n",
    "1) what is an object?\n",
    "\n",
    "Object is  a collection of data (variables/attributes) and methods (functions) that act on those data\n",
    "\n",
    "An object consists of :\n",
    "\n",
    "State : It is represented by attributes of an object. It also reflects the properties of an object.\n",
    "\n",
    "Behavior : It is represented by methods of an object. It also reflects the response of an object with other objects.\n",
    "\n",
    "Identity : It gives a unique name to an object and enables one object to interact with other objects.\n",
    "\n",
    "2) what is a class?\n",
    "\n",
    "class is a blueprint for the object.\n",
    "\n",
    "Class creates a user-defined data structure, which holds its own data members and member functions, which can be accessed and used by creating an instance of that class. \n",
    "\n",
    "3) what is INSTANTIATION?\n",
    "\n",
    "When an object of a class is created, the class is said to be instantiated. All the instances share the attributes and the behavior of the class.\n",
    "\n",
    "the state are unique for each object\n",
    "\n",
    "4) what is the self?\n",
    "\n",
    "'Self' --  is referring to an instance(object) of a class.\n",
    "\n",
    "if we DONT INCLUDE SELF as the first parameter in any method(function)definition in our class,\n",
    "then those methods will only be available through the class Namespace,\n",
    "it wont have access to any instance attributes.\n",
    "\n",
    "\n",
    "5) what is the __init__ method?\n",
    "\n",
    "used to initialize the object’s state\n",
    "\n",
    "It is run as soon as an object of a class is instantiated\n",
    "\n",
    "The method is useful to do any initialization you want to do with your object.\n",
    "\n",
    "6) what is an instance variable?\n",
    "\n",
    "Instance variables are for data unique to each instance/object of the class\n",
    "\n",
    "7) what is a class variable?\n",
    "\n",
    "class variables are for attributes and methods shared by all instances/objects of the class.\n",
    "\n"
   ]
  },
  {
   "cell_type": "markdown",
   "metadata": {},
   "source": [
    "\n",
    "<font color='red'>\n",
    "1) CREATING A CLASS :</font>\n",
    "\n",
    "<font color='blue'>\n",
    "\n",
    "\n",
    "name: Employee</font>\n",
    "\n",
    "what is a class?\n",
    "\n",
    "class is a blueprint for the object.\n",
    "\n",
    "Class creates a user-defined data structure, which holds its own data members and member functions, which can be accessed and used by creating an instance of that class. \n",
    "\n"
   ]
  },
  {
   "cell_type": "code",
   "execution_count": 5,
   "metadata": {},
   "outputs": [
    {
     "name": "stdout",
     "output_type": "stream",
     "text": [
      "<__main__.Employee object at 0x7f06d45d0160> <__main__.Employee object at 0x7f06d45d06a0>\n"
     ]
    }
   ],
   "source": [
    "class Employee:\n",
    "    pass\n",
    "e1=Employee() # created an object/instance named 'e1' for Employee class\n",
    "e2=Employee()\n",
    "\n",
    "print(e1,e2)"
   ]
  },
  {
   "cell_type": "markdown",
   "metadata": {},
   "source": [
    "<font color='red'>\n",
    "2) CREATING __init__ method :</font>\n",
    "<font color='blue'>\n",
    "\n",
    "\n",
    "  for initialising the values for the objects of Employee class</font>\n",
    "  \n",
    "<b> what is the self?</b>\n",
    "\n",
    "'Self' --  is referring to an instance(object) of a class.\n",
    "\n",
    "if we DONT INCLUDE SELF as the first parameter in any method(function)definition in our class,\n",
    "then those methods will only be available through the class Namespace,\n",
    "it wont have access to any instance attributes. <hr><hr>\n",
    "\n",
    "\n",
    "<b>\n",
    "\n",
    "what is the __init__ method?</b>\n",
    "\n",
    "used to initialize the object’s state\n",
    "\n",
    "It is run as soon as an object of a class is instantiated\n",
    "\n",
    "The method is useful to do any initialization you want to do with your object\n",
    "\n"
   ]
  },
  {
   "cell_type": "code",
   "execution_count": 17,
   "metadata": {},
   "outputs": [
    {
     "name": "stdout",
     "output_type": "stream",
     "text": [
      "arun007@gmail.com\n"
     ]
    }
   ],
   "source": [
    "class Employee:\n",
    "    def __init__(self,name,age,pay):#initialising every object value with name,age,pay and email\n",
    "        self.name=name\n",
    "        self.age=age\n",
    "        self.pay=pay\n",
    "        self.email=name+'007@gmail.com'\n",
    "e1=Employee('criz',21,3000) # created an object/instance named 'e1' for Employee class,initialised with name=criz,age=21 and pay=3000\n",
    "\n",
    "e2=Employee('arun',34,4000)\n",
    "\n",
    "#printing out the details , present in the object:\n",
    "\n",
    "print(e2.email)\n",
    "\n"
   ]
  },
  {
   "cell_type": "markdown",
   "metadata": {},
   "source": [
    "\n",
    "<font color='red'>\n",
    "3) CREATING A METHOD/FUNCTION :</font>\n",
    "\n",
    "<font color='blue'>\n",
    "\n",
    "\n",
    "name: display </font>\n",
    "\n",
    "for displaying the employee details as a whole\n",
    "\n",
    "\n"
   ]
  },
  {
   "cell_type": "code",
   "execution_count": 21,
   "metadata": {},
   "outputs": [
    {
     "name": "stdout",
     "output_type": "stream",
     "text": [
      "NAME: criz\n",
      "AGE: 21\n",
      "PAY: 3000\n",
      "EMAIL: criz007@gmail.com\n",
      "NAME: arun\n",
      "AGE: 34\n",
      "PAY: 4000\n",
      "EMAIL: arun007@gmail.com\n"
     ]
    }
   ],
   "source": [
    "class Employee:\n",
    "    def __init__(self,name,age,pay):#initialising every object value with name,age,pay and email\n",
    "        self.name=name\n",
    "        self.age=age\n",
    "        self.pay=pay\n",
    "        self.email=name+'007@gmail.com'\n",
    "        \n",
    "    def display(self):#NOTE:every function should have self as an argument\n",
    "        print('NAME: {}'.format(self.name))\n",
    "        print('AGE: {}'.format(self.age))\n",
    "        print('PAY: {}'.format(self.pay))\n",
    "        print('EMAIL: {}'.format(self.email))\n",
    "        \n",
    "        \n",
    "e1=Employee('criz',21,3000) # created an object/instance named 'e1' for Employee class,initialised with name=criz,age=21 and pay=3000\n",
    "\n",
    "e2=Employee('arun',34,4000)\n",
    "\n",
    "#TESTING THE display() method:\n",
    "e1.display()\n",
    "e2.display()\n",
    "\n"
   ]
  },
  {
   "cell_type": "markdown",
   "metadata": {},
   "source": [
    "\n",
    "<font color='red'>\n",
    "3) CALLING METHODS/FUNCTIONS USING THE CLASS :</font>\n",
    "\n",
    "<font color='blue'>\n",
    "\n",
    "\n",
    "calling function name: display </font>\n",
    "\n",
    "for displaying the employee details as a whole\n",
    "\n",
    "\n"
   ]
  },
  {
   "cell_type": "code",
   "execution_count": 22,
   "metadata": {},
   "outputs": [
    {
     "name": "stdout",
     "output_type": "stream",
     "text": [
      "NAME: criz\n",
      "AGE: 21\n",
      "PAY: 3000\n",
      "EMAIL: criz007@gmail.com\n",
      "NAME: criz\n",
      "AGE: 21\n",
      "PAY: 3000\n",
      "EMAIL: criz007@gmail.com\n"
     ]
    }
   ],
   "source": [
    "class Employee:\n",
    "    def __init__(self,name,age,pay):#initialising every object value with name,age,pay and email\n",
    "        self.name=name\n",
    "        self.age=age\n",
    "        self.pay=pay\n",
    "        self.email=name+'007@gmail.com'\n",
    "        \n",
    "    def display(self):#NOTE:every function should have self as an argument\n",
    "        print('NAME: {}'.format(self.name))\n",
    "        print('AGE: {}'.format(self.age))\n",
    "        print('PAY: {}'.format(self.pay))\n",
    "        print('EMAIL: {}'.format(self.email))\n",
    "        \n",
    "        \n",
    "e1=Employee('criz',21,3000) # created an object/instance named 'e1' for Employee class,initialised with name=criz,age=21 and pay=3000\n",
    "\n",
    "e2=Employee('arun',34,4000)\n",
    "\n",
    "#TESTING THE display() method:\n",
    "Employee.display(e1)#e1 object is passed as an argument to display() method...\n",
    "\n",
    "#the above statement is same as executing:\n",
    "\n",
    "e1.display()\n",
    "\n"
   ]
  },
  {
   "cell_type": "markdown",
   "metadata": {},
   "source": [
    "\n",
    "<font color='red'>\n",
    "4) FINDING OUT THE NAMESPACES RELATED TO AN OBJECT :</font>\n",
    "\n",
    "<font color='blue'>\n",
    "\n",
    "\n",
    "using function: __dict__ </font>\n",
    "\n",
    "\n",
    "\n",
    "\n"
   ]
  },
  {
   "cell_type": "code",
   "execution_count": 23,
   "metadata": {},
   "outputs": [
    {
     "data": {
      "text/plain": [
       "{'name': 'criz', 'age': 21, 'pay': 3000, 'email': 'criz007@gmail.com'}"
      ]
     },
     "execution_count": 23,
     "metadata": {},
     "output_type": "execute_result"
    }
   ],
   "source": [
    "class Employee:\n",
    "    def __init__(self,name,age,pay):#initialising every object value with name,age,pay and email\n",
    "        self.name=name\n",
    "        self.age=age\n",
    "        self.pay=pay\n",
    "        self.email=name+'007@gmail.com'\n",
    "        \n",
    "    def display(self):#NOTE:every function should have self as an argument\n",
    "        print('NAME: {}'.format(self.name))\n",
    "        print('AGE: {}'.format(self.age))\n",
    "        print('PAY: {}'.format(self.pay))\n",
    "        print('EMAIL: {}'.format(self.email))\n",
    "        \n",
    "        \n",
    "e1=Employee('criz',21,3000) # created an object/instance named 'e1' for Employee class,initialised with name=criz,age=21 and pay=3000\n",
    "\n",
    "e2=Employee('arun',34,4000)\n",
    "\n",
    "\n",
    "e1.__dict__#will print out namespaces related to that object\n",
    "\n"
   ]
  },
  {
   "cell_type": "markdown",
   "metadata": {},
   "source": [
    "<font color='red'>\n",
    "5) CREATING A CLASS VARIABLE AND AN INSTANCE VARIABLE :</font>\n",
    "<font color='blue'>\n",
    "\n",
    "class variables are for attributes and methods shared by all instances/objects of the class.\n",
    "\n",
    "Instance variables are for data unique to each instance/object of the class\n",
    "\n",
    "\n",
    "</font>\n",
    "  \n",
    "\n",
    "\n"
   ]
  },
  {
   "cell_type": "code",
   "execution_count": 56,
   "metadata": {},
   "outputs": [
    {
     "name": "stdout",
     "output_type": "stream",
     "text": [
      "1.06\n",
      "1.06\n",
      "1.06\n",
      "1.12\n",
      "1.12\n",
      "1.12\n",
      "1.13\n"
     ]
    },
    {
     "data": {
      "text/plain": [
       "{'name': 'arun',\n",
       " 'age': 34,\n",
       " 'pay': 4000,\n",
       " 'email': 'arun007@gmail.com',\n",
       " 'increase_pay_': 1.13}"
      ]
     },
     "execution_count": 56,
     "metadata": {},
     "output_type": "execute_result"
    }
   ],
   "source": [
    "class Employee:\n",
    "    increase_pay_ = 1.06 # class variable  \n",
    "    def __init__(self,name,age,pay):#initialising every object value with name,age,pay and email\n",
    "        self.name=name\n",
    "        self.age=age\n",
    "        self.pay=pay\n",
    "        self.email=name+'007@gmail.com'\n",
    "        \n",
    "    def display(self):#NOTE:every function should have self as an argument\n",
    "        print('NAME: {}'.format(self.name))\n",
    "        print('AGE: {}'.format(self.age))\n",
    "        print('PAY: {}'.format(self.pay))\n",
    "        print('EMAIL: {}'.format(self.email))\n",
    "        \n",
    "    def increase_pay(self):#function to update salary\n",
    "        self.pay = self.pay * self.increase_pay_#increase the basic pay by 6%\n",
    "        \n",
    "e1=Employee('criz',21,3000) # created an object/instance named 'e1' for Employee class,initialised with name=criz,age=21 and pay=3000\n",
    "\n",
    "e2=Employee('arun',34,4000)\n",
    "\n",
    "e1.pay#previous salary\n",
    "e1.increase_pay()#increased previous salary to 6%\n",
    "e1.pay# increased new salary\n",
    "\n",
    "print(Employee.increase_pay_)# accessing class variable(increase_pay_) from Employee Class\n",
    "print(e1.increase_pay_)# accessing class variable(increase_pay_) from e1 object\n",
    "print(e2.increase_pay_)# accessing class variable(increase_pay_) from e2 object\n",
    "\n",
    "''' when we try to access an attribute on an instance ,\n",
    "it'll first check,if the instance contains that  attribute and if doesnt\n",
    ",it'll see whether the class or any other class that it inherits from contains that attribute\n",
    "\n",
    "e1 object does not contain the attribute increase_pay_ ,they are accessing it from the class Employee '''\n",
    "\n",
    "e1.__dict__ #does not contain increase_pay_\n",
    "\n",
    "Employee.__dict__# contains  increase_pay_\n",
    "\n",
    "\n",
    "Employee.increase_pay_=1.12 #change the value of increase_pay_ for the classes and all the instances\n",
    "\n",
    "print(Employee.increase_pay_)# accessing class variable(increase_pay_) from Employee Class\n",
    "print(e1.increase_pay_)# accessing class variable(increase_pay_) from e1 object\n",
    "print(e2.increase_pay_)# accessing class variable(increase_pay_) from e2 object\n",
    "\n",
    "e2.increase_pay_=1.13 #changing icrease_pay_ for the instance e2 and it creates increase_pay_ attribute for that particular instance\n",
    "\n",
    "print(e2.increase_pay_)\n",
    "\n",
    "e2.__dict__\n"
   ]
  },
  {
   "cell_type": "markdown",
   "metadata": {},
   "source": [
    "<font color='red'>\n",
    "5) CREATING ANOTHER  CLASS VARIABLE FOR FINDING THE NUMBER OF EMPLOYEES :</font>\n",
    "\n",
    "  \n",
    "\n",
    "\n"
   ]
  },
  {
   "cell_type": "code",
   "execution_count": 57,
   "metadata": {},
   "outputs": [
    {
     "name": "stdout",
     "output_type": "stream",
     "text": [
      "1.06\n",
      "1.06\n",
      "1.06\n",
      "1.12\n",
      "1.12\n",
      "1.12\n",
      "1.13\n",
      "2\n"
     ]
    }
   ],
   "source": [
    "class Employee:\n",
    "    increase_pay_ = 1.06 # class variable  \n",
    "    number=0\n",
    "    def __init__(self,name,age,pay):#initialising every object value with name,age,pay and email\n",
    "        self.name=name\n",
    "        self.age=age\n",
    "        self.pay=pay\n",
    "        self.email=name+'007@gmail.com'\n",
    "        Employee.number+=1\n",
    "        \n",
    "    def display(self):#NOTE:every function should have self as an argument\n",
    "        print('NAME: {}'.format(self.name))\n",
    "        print('AGE: {}'.format(self.age))\n",
    "        print('PAY: {}'.format(self.pay))\n",
    "        print('EMAIL: {}'.format(self.email))\n",
    "        \n",
    "    def increase_pay(self):#function to update salary\n",
    "        self.pay = self.pay * self.increase_pay_#increase the basic pay by 6%\n",
    "        \n",
    "e1=Employee('criz',21,3000) # created an object/instance named 'e1' for Employee class,initialised with name=criz,age=21 and pay=3000\n",
    "\n",
    "e2=Employee('arun',34,4000)\n",
    "\n",
    "e1.pay#previous salary\n",
    "e1.increase_pay()#increased previous salary to 6%\n",
    "e1.pay# increased new salary\n",
    "\n",
    "print(Employee.increase_pay_)# accessing class variable(increase_pay_) from Employee Class\n",
    "print(e1.increase_pay_)# accessing class variable(increase_pay_) from e1 object\n",
    "print(e2.increase_pay_)# accessing class variable(increase_pay_) from e2 object\n",
    "\n",
    "''' when we try to access an attribute on an instance ,\n",
    "it'll first check,if the instance contains that  attribute and if doesnt\n",
    ",it'll see whether the class or any other class that it inherits from contains that attribute\n",
    "\n",
    "e1 object does not contain the attribute increase_pay_ ,they are accessing it from the class Employee '''\n",
    "\n",
    "e1.__dict__ #does not contain increase_pay_\n",
    "\n",
    "Employee.__dict__# contains  increase_pay_\n",
    "\n",
    "\n",
    "Employee.increase_pay_=1.12 #change the value of increase_pay_ for the classes and all the instances\n",
    "\n",
    "print(Employee.increase_pay_)# accessing class variable(increase_pay_) from Employee Class\n",
    "print(e1.increase_pay_)# accessing class variable(increase_pay_) from e1 object\n",
    "print(e2.increase_pay_)# accessing class variable(increase_pay_) from e2 object\n",
    "\n",
    "e2.increase_pay_=1.13 #changing icrease_pay_ for the instance e2 and it creates increase_pay_ attribute for that particular instance\n",
    "\n",
    "print(e2.increase_pay_)\n",
    "\n",
    "e2.__dict__\n",
    "print(Employee.number)\n"
   ]
  },
  {
   "cell_type": "markdown",
   "metadata": {},
   "source": [
    "<font color='red'>\n",
    "6) CLASS METHODS AND STATIC METHODS: </font>\n",
    "\n",
    "regular methods: usually takes instance as the first argument\n",
    "\n",
    "Function Decorator:\n",
    "\n",
    "A decorator is a function that takes a function as its only parameter and returns a function.\n",
    "\n",
    "\n",
    "A class method receives the class as implicit first argument, just like an instance method receives the instance\n",
    "\n",
    "A static method needs no specific parameters."
   ]
  },
  {
   "cell_type": "code",
   "execution_count": 60,
   "metadata": {},
   "outputs": [
    {
     "name": "stdout",
     "output_type": "stream",
     "text": [
      "1.12\n",
      "1.12\n",
      "1.12\n"
     ]
    }
   ],
   "source": [
    "class Employee:\n",
    "    increase_pay_ = 1.06 # class variable  \n",
    "    number=0\n",
    "    def __init__(self,name,age,pay):#initialising every object value with name,age,pay and email\n",
    "        self.name=name\n",
    "        self.age=age\n",
    "        self.pay=pay\n",
    "        self.email=name+'007@gmail.com'\n",
    "        Employee.number+=1\n",
    "        \n",
    "    def display(self):#NOTE:every function should have self as an argument\n",
    "        print('NAME: {}'.format(self.name))\n",
    "        print('AGE: {}'.format(self.age))\n",
    "        print('PAY: {}'.format(self.pay))\n",
    "        print('EMAIL: {}'.format(self.email))\n",
    "        \n",
    "    def increase_pay(self):#function to update salary\n",
    "        self.pay = self.pay * self.increase_pay_#increase the basic pay by 6%\n",
    "        \n",
    "    @classmethod\n",
    "    def increase_pay_value(cls,ipay):#takes class as argument\n",
    "        cls.increase_pay_=ipay\n",
    "e1=Employee('criz',21,3000) # created an object/instance named 'e1' for Employee class,initialised with name=criz,age=21 and pay=3000\n",
    "\n",
    "e2=Employee('arun',34,4000)\n",
    "\n",
    "Employee.increase_pay_value(1.18)#no need to pass class name,it'll take it automatically(RUNNING CLASSMETHOD FROM CLASS)\n",
    "e1.increase_pay_value(1.12)#(RUNNING CLASS METHOD FROM AN INSTANCE)\n",
    "\n",
    "print(Employee.increase_pay_)# accessing class variable(increase_pay_) from Employee Class\n",
    "print(e1.increase_pay_)# accessing class variable(increase_pay_) from e1 object\n",
    "print(e2.increase_pay_)# accessing class variable(increase_pay_) from e2 object\n",
    "\n"
   ]
  },
  {
   "cell_type": "markdown",
   "metadata": {},
   "source": [
    "<font color='red'>\n",
    "CREATING ANOTHER CLASS METHOD\n",
    "    </font>"
   ]
  },
  {
   "cell_type": "code",
   "execution_count": 64,
   "metadata": {},
   "outputs": [
    {
     "name": "stdout",
     "output_type": "stream",
     "text": [
      "NAME: reo\n",
      "AGE: 34\n",
      "PAY: 5000\n",
      "EMAIL: reo007@gmail.com\n"
     ]
    }
   ],
   "source": [
    "class Employee:\n",
    "    increase_pay_ = 1.06 # class variable  \n",
    "    number=0\n",
    "    def __init__(self,name,age,pay):#initialising every object value with name,age,pay and email\n",
    "        self.name=name\n",
    "        self.age=age\n",
    "        self.pay=pay\n",
    "        self.email=name+'007@gmail.com'\n",
    "        Employee.number+=1\n",
    "        \n",
    "    def display(self):#NOTE:every function should have self as an argument\n",
    "        print('NAME: {}'.format(self.name))\n",
    "        print('AGE: {}'.format(self.age))\n",
    "        print('PAY: {}'.format(self.pay))\n",
    "        print('EMAIL: {}'.format(self.email))\n",
    "        \n",
    "    def increase_pay(self):#function to update salary\n",
    "        self.pay = self.pay * self.increase_pay_#increase the basic pay by 6%\n",
    "        \n",
    "    @classmethod\n",
    "    def increase_pay_value(cls,ipay):#takes class as argument\n",
    "        cls.increase_pay_=ipay\n",
    "    \n",
    "    @classmethod\n",
    "    def from_string(cls,emp_str): \n",
    "        name,age,pay=emp_str.split('-')\n",
    "        return cls(name,age,pay)\n",
    "        \n",
    "        \n",
    "        \n",
    "        \n",
    "        \n",
    "e1=Employee('criz',21,3000) # created an object/instance named 'e1' for Employee class,initialised with name=criz,age=21 and pay=3000\n",
    "\n",
    "e2=Employee('arun',34,4000)\n",
    "\n",
    "emp_str1='reo-34-5000' #string separated\n",
    " \n",
    "e3=Employee.from_string(emp_str1)#calling class method\n",
    "\n",
    "e3.display()"
   ]
  },
  {
   "cell_type": "markdown",
   "metadata": {},
   "source": [
    "<font color='red'>\n",
    "CREATING A STATIC METHOD\n",
    "    </font>"
   ]
  },
  {
   "cell_type": "code",
   "execution_count": 70,
   "metadata": {},
   "outputs": [
    {
     "name": "stdout",
     "output_type": "stream",
     "text": [
      "True\n"
     ]
    },
    {
     "data": {
      "text/plain": [
       "datetime.date(2016, 7, 11)"
      ]
     },
     "execution_count": 70,
     "metadata": {},
     "output_type": "execute_result"
    }
   ],
   "source": [
    "class Employee:\n",
    "    increase_pay_ = 1.06 # class variable  \n",
    "    number=0\n",
    "    def __init__(self,name,age,pay):#initialising every object value with name,age,pay and email\n",
    "        self.name=name\n",
    "        self.age=age\n",
    "        self.pay=pay\n",
    "        self.email=name+'007@gmail.com'\n",
    "        Employee.number+=1\n",
    "        \n",
    "    def display(self):#NOTE:every function should have self as an argument\n",
    "        print('NAME: {}'.format(self.name))\n",
    "        print('AGE: {}'.format(self.age))\n",
    "        print('PAY: {}'.format(self.pay))\n",
    "        print('EMAIL: {}'.format(self.email))\n",
    "        \n",
    "    def increase_pay(self):#function to update salary\n",
    "        self.pay = self.pay * self.increase_pay_#increase the basic pay by 6%\n",
    "        \n",
    "    @classmethod\n",
    "    def increase_pay_value(cls,ipay):#takes class as argument\n",
    "        cls.increase_pay_=ipay\n",
    "    \n",
    "    @classmethod\n",
    "    def from_string(cls,emp_str): \n",
    "        name,age,pay=emp_str.split('-')\n",
    "        return cls(name,age,pay)\n",
    "    @staticmethod\n",
    "    def is_working(day):\n",
    "        if day.weekday()==5 or day.weekday()==6:\n",
    "            return False\n",
    "        return True\n",
    "        \n",
    "        \n",
    "        \n",
    "        \n",
    "        \n",
    "e1=Employee('criz',21,3000) # created an object/instance named 'e1' for Employee class,initialised with name=criz,age=21 and pay=3000\n",
    "\n",
    "e2=Employee('arun',34,4000)\n",
    "import datetime\n",
    "date=datetime.date(2016,7,11)\n",
    "print(Employee.is_working(date))\n",
    "date"
   ]
  },
  {
   "cell_type": "markdown",
   "metadata": {},
   "source": [
    "# INHERITANCE"
   ]
  },
  {
   "cell_type": "code",
   "execution_count": 74,
   "metadata": {},
   "outputs": [
    {
     "name": "stdout",
     "output_type": "stream",
     "text": [
      "NAME: trevor\n",
      "AGE: 25\n",
      "PAY: 1000\n",
      "EMAIL: trevor007@gmail.com\n",
      "Help on class Supervisor in module __main__:\n",
      "\n",
      "class Supervisor(Employee)\n",
      " |  Method resolution order:\n",
      " |      Supervisor\n",
      " |      Employee\n",
      " |      builtins.object\n",
      " |  \n",
      " |  Methods inherited from Employee:\n",
      " |  \n",
      " |  __init__(self, name, age, pay)\n",
      " |      Initialize self.  See help(type(self)) for accurate signature.\n",
      " |  \n",
      " |  display(self)\n",
      " |  \n",
      " |  increase_pay(self)\n",
      " |  \n",
      " |  ----------------------------------------------------------------------\n",
      " |  Data descriptors inherited from Employee:\n",
      " |  \n",
      " |  __dict__\n",
      " |      dictionary for instance variables (if defined)\n",
      " |  \n",
      " |  __weakref__\n",
      " |      list of weak references to the object (if defined)\n",
      " |  \n",
      " |  ----------------------------------------------------------------------\n",
      " |  Data and other attributes inherited from Employee:\n",
      " |  \n",
      " |  increase_pay_ = 1.06\n",
      "\n",
      "None\n"
     ]
    }
   ],
   "source": [
    "class Employee:\n",
    "    increase_pay_ = 1.06   \n",
    "    def __init__(self,name,age,pay):\n",
    "        self.name=name\n",
    "        self.age=age\n",
    "        self.pay=pay\n",
    "        self.email=name+'007@gmail.com'\n",
    "        \n",
    "    def display(self):\n",
    "        print('NAME: {}'.format(self.name))\n",
    "        print('AGE: {}'.format(self.age))\n",
    "        print('PAY: {}'.format(self.pay))\n",
    "        print('EMAIL: {}'.format(self.email))\n",
    "        \n",
    "    def increase_pay(self):\n",
    "        self.pay = self.pay * self.increase_pay_\n",
    "        \n",
    "e1=Employee('criz',21,3000) \n",
    "e2=Employee('arun',34,4000)\n",
    "\n",
    "\n",
    "# creating a new class from employee class\n",
    "\n",
    "class Supervisor(Employee):\n",
    "    pass\n",
    "\n",
    "s1=Supervisor('adam',55,10000)\n",
    "s2=Supervisor('trevor',25,1000)\n",
    "s2.display()# Supervisor class inherited everything from the Employee class\n",
    "\n",
    "\n",
    "#to get info abt inheritance:\n",
    "print(help(Supervisor))"
   ]
  },
  {
   "cell_type": "code",
   "execution_count": 76,
   "metadata": {},
   "outputs": [
    {
     "name": "stdout",
     "output_type": "stream",
     "text": [
      "NAME: trevor\n",
      "AGE: 25\n",
      "PAY: 1000\n",
      "EMAIL: trevor007@gmail.com\n",
      "Help on class Supervisor in module __main__:\n",
      "\n",
      "class Supervisor(Employee)\n",
      " |  Method resolution order:\n",
      " |      Supervisor\n",
      " |      Employee\n",
      " |      builtins.object\n",
      " |  \n",
      " |  Methods inherited from Employee:\n",
      " |  \n",
      " |  __init__(self, name, age, pay)\n",
      " |      Initialize self.  See help(type(self)) for accurate signature.\n",
      " |  \n",
      " |  display(self)\n",
      " |  \n",
      " |  increase_pay(self)\n",
      " |  \n",
      " |  ----------------------------------------------------------------------\n",
      " |  Data descriptors inherited from Employee:\n",
      " |  \n",
      " |  __dict__\n",
      " |      dictionary for instance variables (if defined)\n",
      " |  \n",
      " |  __weakref__\n",
      " |      list of weak references to the object (if defined)\n",
      " |  \n",
      " |  ----------------------------------------------------------------------\n",
      " |  Data and other attributes inherited from Employee:\n",
      " |  \n",
      " |  increase_pay_ = 1.06\n",
      "\n",
      "None\n",
      "10000\n"
     ]
    },
    {
     "data": {
      "text/plain": [
       "10600.0"
      ]
     },
     "execution_count": 76,
     "metadata": {},
     "output_type": "execute_result"
    }
   ],
   "source": [
    "class Employee:\n",
    "    increase_pay_ = 1.06   \n",
    "    def __init__(self,name,age,pay):\n",
    "        self.name=name\n",
    "        self.age=age\n",
    "        self.pay=pay\n",
    "        self.email=name+'007@gmail.com'\n",
    "        \n",
    "    def display(self):\n",
    "        print('NAME: {}'.format(self.name))\n",
    "        print('AGE: {}'.format(self.age))\n",
    "        print('PAY: {}'.format(self.pay))\n",
    "        print('EMAIL: {}'.format(self.email))\n",
    "        \n",
    "    def increase_pay(self):\n",
    "        self.pay = self.pay * self.increase_pay_\n",
    "        \n",
    "e1=Employee('criz',21,3000) \n",
    "e2=Employee('arun',34,4000)\n",
    "\n",
    "\n",
    "# creating a new class from employee class\n",
    "\n",
    "class Supervisor(Employee):\n",
    "    pass\n",
    "\n",
    "s1=Supervisor('adam',55,10000)\n",
    "s2=Supervisor('trevor',25,1000)\n",
    "s2.display()# Supervisor class inherited everything from the Employee class\n",
    "\n",
    "\n",
    "#to get info abt inheritance:\n",
    "print(help(Supervisor))\n",
    "\n",
    "print(s1.pay)\n",
    "s1.increase_pay()\n",
    "s1.pay"
   ]
  },
  {
   "cell_type": "markdown",
   "metadata": {},
   "source": [
    "## CHANGE THE PAY FOR SUPERVISORS ONLY  "
   ]
  },
  {
   "cell_type": "code",
   "execution_count": 78,
   "metadata": {},
   "outputs": [
    {
     "name": "stdout",
     "output_type": "stream",
     "text": [
      "10000\n"
     ]
    },
    {
     "data": {
      "text/plain": [
       "11000.0"
      ]
     },
     "execution_count": 78,
     "metadata": {},
     "output_type": "execute_result"
    }
   ],
   "source": [
    "class Employee:\n",
    "    increase_pay_ = 1.06   \n",
    "    def __init__(self,name,age,pay):\n",
    "        self.name=name\n",
    "        self.age=age\n",
    "        self.pay=pay\n",
    "        self.email=name+'007@gmail.com'\n",
    "        \n",
    "    def display(self):\n",
    "        print('NAME: {}'.format(self.name))\n",
    "        print('AGE: {}'.format(self.age))\n",
    "        print('PAY: {}'.format(self.pay))\n",
    "        print('EMAIL: {}'.format(self.email))\n",
    "        \n",
    "    def increase_pay(self):\n",
    "        self.pay = self.pay * self.increase_pay_\n",
    "        \n",
    "e1=Employee('criz',21,3000) \n",
    "e2=Employee('arun',34,4000)\n",
    "\n",
    "\n",
    "\n",
    "class Supervisor(Employee):#change the pay for supervisors\n",
    "    increase_pay_=1.10\n",
    "\n",
    "s1=Supervisor('adam',55,10000)\n",
    "s2=Supervisor('trevor',25,1000)\n",
    "\n",
    "\n",
    "print(s1.pay)\n",
    "s1.increase_pay()\n",
    "s1.pay"
   ]
  },
  {
   "cell_type": "markdown",
   "metadata": {},
   "source": [
    "## INCLUDE AREAS_OF_EXPERTISE OF SUPERVISORS"
   ]
  },
  {
   "cell_type": "code",
   "execution_count": 80,
   "metadata": {},
   "outputs": [
    {
     "data": {
      "text/plain": [
       "'IT'"
      ]
     },
     "execution_count": 80,
     "metadata": {},
     "output_type": "execute_result"
    }
   ],
   "source": [
    "class Employee:\n",
    "    increase_pay_ = 1.06   \n",
    "    def __init__(self,name,age,pay):\n",
    "        self.name=name\n",
    "        self.age=age\n",
    "        self.pay=pay\n",
    "        self.email=name+'007@gmail.com'\n",
    "        \n",
    "    def display(self):\n",
    "        print('NAME: {}'.format(self.name))\n",
    "        print('AGE: {}'.format(self.age))\n",
    "        print('PAY: {}'.format(self.pay))\n",
    "        print('EMAIL: {}'.format(self.email))\n",
    "        \n",
    "    def increase_pay(self):\n",
    "        self.pay = self.pay * self.increase_pay_\n",
    "        \n",
    "e1=Employee('criz',21,3000) \n",
    "e2=Employee('arun',34,4000)\n",
    "\n",
    "\n",
    "\n",
    "class Supervisor(Employee):\n",
    "    def __init__(self,name,age,pay,areas_of_exp):\n",
    "        super().__init__(name,age,pay)\n",
    "        self.areas_of_exp=areas_of_exp\n",
    "\n",
    "s1=Supervisor('adam',55,10000,'IT')\n",
    "e1=Employee('trevor',25,1000)\n",
    "\n",
    "\n",
    "s1.areas_of_exp"
   ]
  },
  {
   "cell_type": "markdown",
   "metadata": {},
   "source": [
    "# SPECIAL METHODS"
   ]
  },
  {
   "cell_type": "markdown",
   "metadata": {},
   "source": [
    "### Object Initialization: __init__"
   ]
  },
  {
   "cell_type": "code",
   "execution_count": 23,
   "metadata": {},
   "outputs": [
    {
     "data": {
      "text/plain": [
       "'n1'"
      ]
     },
     "execution_count": 23,
     "metadata": {},
     "output_type": "execute_result"
    }
   ],
   "source": [
    "class Heartattack:\n",
    "    number_of_heartpatients=0\n",
    "    def __init__(self,name,age):\n",
    "        self.name=name\n",
    "        self.age=age\n",
    "        Heartattack.number_of_heartpatients+=1\n",
    "\n",
    "p1=Heartattack('n1',25)\n",
    "p1.name"
   ]
  },
  {
   "cell_type": "markdown",
   "metadata": {},
   "source": [
    "### _repr__: The “official” string representation of an object. This is how you would make an object of the class"
   ]
  },
  {
   "cell_type": "code",
   "execution_count": 7,
   "metadata": {},
   "outputs": [
    {
     "data": {
      "text/plain": [
       "'object=Heartattack(n1,25)'"
      ]
     },
     "execution_count": 7,
     "metadata": {},
     "output_type": "execute_result"
    }
   ],
   "source": [
    "class Heartattack:\n",
    "    number_of_heartpatients=0\n",
    "    def __init__(self,name,age,number_of_attacks):\n",
    "        self.name=name\n",
    "        self.age=age\n",
    "        Heartattack.number_of_heartpatients+=1\n",
    "    \n",
    "    def __repr__(self):\n",
    "        return 'object=Heartattack({},{})'.format(self.name,self.age)\n",
    "\n",
    "p1=Heartattack('n1',25,1)\n",
    "repr(p1)"
   ]
  },
  {
   "cell_type": "markdown",
   "metadata": {},
   "source": [
    "###   _len_ _"
   ]
  },
  {
   "cell_type": "code",
   "execution_count": 15,
   "metadata": {},
   "outputs": [
    {
     "data": {
      "text/plain": [
       "2"
      ]
     },
     "execution_count": 15,
     "metadata": {},
     "output_type": "execute_result"
    }
   ],
   "source": [
    "class Heartattack:\n",
    "    \n",
    "    def __init__(self,age):\n",
    "        self.age=age\n",
    "        self.no_of_op=[]\n",
    "    def op(self,name):\n",
    "        self.no_of_op.append(name)\n",
    "    def __repr__(self):\n",
    "        return 'object=Heartattack({},{})'.format(self.name,self.age)\n",
    "    def __len__(self):\n",
    "        return len(self.no_of_op)\n",
    "\n",
    "p1=Heartattack(25)\n",
    "len(p1)\n",
    "p1.op('n1')\n",
    "len(p1)\n",
    "p1.op('n2')\n",
    "len(p1)"
   ]
  },
  {
   "cell_type": "markdown",
   "metadata": {},
   "source": [
    "### _getitem__  :for accessing list items"
   ]
  },
  {
   "cell_type": "code",
   "execution_count": 20,
   "metadata": {},
   "outputs": [
    {
     "data": {
      "text/plain": [
       "2"
      ]
     },
     "execution_count": 20,
     "metadata": {},
     "output_type": "execute_result"
    }
   ],
   "source": [
    "class Heartattack:\n",
    "    \n",
    "    def __init__(self,age):\n",
    "        self.age=age\n",
    "        self.no_of_op=[]\n",
    "    def op(self,name):\n",
    "        self.no_of_op.append(name)\n",
    "    def __repr__(self):\n",
    "        return 'object=Heartattack({},{})'.format(self.name,self.age)\n",
    "    def __len__(self):\n",
    "        return len(self.no_of_op)\n",
    "    def __getitem__(self,number):\n",
    "        return self.no_of_op[number]\n",
    "\n",
    "p1=Heartattack(25)   #p1--person , n1,n2--patients brought by p1 \n",
    "p1.op('n1')\n",
    "p1.op('n2')\n",
    "p1[0]"
   ]
  },
  {
   "cell_type": "markdown",
   "metadata": {},
   "source": [
    "### _reversed__ : iterate in reversed manner"
   ]
  },
  {
   "cell_type": "code",
   "execution_count": 21,
   "metadata": {},
   "outputs": [
    {
     "data": {
      "text/plain": [
       "['n2', 'n1']"
      ]
     },
     "execution_count": 21,
     "metadata": {},
     "output_type": "execute_result"
    }
   ],
   "source": [
    "class Heartattack:\n",
    "    \n",
    "    def __init__(self,age):\n",
    "        self.age=age\n",
    "        self.no_of_op=[]\n",
    "    def op(self,name):\n",
    "        self.no_of_op.append(name)\n",
    "    def __repr__(self):\n",
    "        return 'object=Heartattack({},{})'.format(self.name,self.age)\n",
    "    def __len__(self):\n",
    "        return len(self.no_of_op)\n",
    "    def __getitem__(self,number):\n",
    "        return self.no_of_op[number]\n",
    "    def __reversed__(self):\n",
    "        return self[::-1]\n",
    "\n",
    "p1=Heartattack(25)   #p1--person , n1,n2--patients brought by p1 \n",
    "p1.op('n1')\n",
    "p1.op('n2')\n",
    "p1[0]\n",
    "list(reversed(p1))"
   ]
  },
  {
   "cell_type": "markdown",
   "metadata": {},
   "source": [
    "### IF __NAME__ == '__MAIN__':\n",
    "\n",
    "It checks if a module is being imported or not.\n",
    "\n",
    "In other words, the code within the 'if' block will be executed only when the code runs directly. Here 'directly' means 'not imported'."
   ]
  },
  {
   "cell_type": "code",
   "execution_count": 38,
   "metadata": {},
   "outputs": [
    {
     "name": "stdout",
     "output_type": "stream",
     "text": [
      "__main__\n",
      "13\n",
      "__main__\n",
      "23\n"
     ]
    }
   ],
   "source": [
    "def add(a,b):\n",
    "    print(__name__)\n",
    "    print(a+b)\n",
    "add(5,8)\n",
    "if __name__=='__main__':\n",
    "    add(3,20)"
   ]
  },
  {
   "cell_type": "code",
   "execution_count": null,
   "metadata": {},
   "outputs": [],
   "source": []
  }
 ],
 "metadata": {
  "kernelspec": {
   "display_name": "Python 3",
   "language": "python",
   "name": "python3"
  },
  "language_info": {
   "codemirror_mode": {
    "name": "ipython",
    "version": 3
   },
   "file_extension": ".py",
   "mimetype": "text/x-python",
   "name": "python",
   "nbconvert_exporter": "python",
   "pygments_lexer": "ipython3",
   "version": "3.6.8"
  }
 },
 "nbformat": 4,
 "nbformat_minor": 2
}
