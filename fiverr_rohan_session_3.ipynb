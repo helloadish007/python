{
 "cells": [
  {
   "cell_type": "markdown",
   "metadata": {},
   "source": [
    "### 1. Create a class named employee\n",
    "\n",
    "1)each employee class should contain name,age,pay,phonenumber,emailaddress=name@gmail.com\n",
    "\n",
    "2)Method for displaying all details of an employee\n",
    "\n",
    "3)Method for increasing the pay by 70%\n",
    "\n",
    "4)Method to set mobile number "
   ]
  },
  {
   "cell_type": "code",
   "execution_count": 11,
   "metadata": {},
   "outputs": [
    {
     "name": "stdout",
     "output_type": "stream",
     "text": [
      "1.07\n",
      "1.07\n",
      "1.07\n",
      "1.12\n",
      "1.12\n",
      "1.12\n",
      "1.13\n"
     ]
    },
    {
     "data": {
      "text/plain": [
       "9780"
      ]
     },
     "execution_count": 11,
     "metadata": {},
     "output_type": "execute_result"
    }
   ],
   "source": [
    "class Employee:\n",
    "    increase_pay_ = 1.07 \n",
    "    def __init__(self,name,age,pay,phone):\n",
    "        self.name=name\n",
    "        self.age=age\n",
    "        self.pay=pay\n",
    "        self.phone=phone\n",
    "        self.email=name+'@gmail.com'\n",
    "        \n",
    "    def display(self):\n",
    "        print('NAME: {}'.format(self.name))\n",
    "        print('AGE: {}'.format(self.age))\n",
    "        print('PAY: {}'.format(self.pay))\n",
    "        print('EMAIL: {}'.format(self.email))\n",
    "        print('PHONE: {}'.format(self.phone))\n",
    "        \n",
    "    def increase_pay(self):\n",
    "        self.pay = self.pay * self.increase_pay_\n",
    "        \n",
    "    def phone_change(self,number):\n",
    "        self.phone=number\n",
    "        \n",
    "e1=Employee('criz',21,3000,94946) \n",
    "\n",
    "e2=Employee('arun',34,4000,98655)\n",
    "\n",
    "e1.pay#previous salary\n",
    "e1.increase_pay()#increased previous salary to 6%\n",
    "e1.pay# increased new salary\n",
    "\n",
    "print(Employee.increase_pay_)# accessing class variable(increase_pay_) from Employee Class\n",
    "print(e1.increase_pay_)# accessing class variable(increase_pay_) from e1 object\n",
    "print(e2.increase_pay_)# accessing class variable(increase_pay_) from e2 object\n",
    "\n",
    "''' when we try to access an attribute on an instance ,\n",
    "it'll first check,if the instance contains that  attribute and if doesnt\n",
    ",it'll see whether the class or any other class that it inherits from contains that attribute\n",
    "\n",
    "e1 object does not contain the attribute increase_pay_ ,they are accessing it from the class Employee '''\n",
    "\n",
    "e1.__dict__ #does not contain increase_pay_\n",
    "\n",
    "Employee.__dict__# contains  increase_pay_\n",
    "\n",
    "\n",
    "Employee.increase_pay_=1.12 #change the value of increase_pay_ for the classes and all the instances\n",
    "\n",
    "print(Employee.increase_pay_)# accessing class variable(increase_pay_) from Employee Class\n",
    "print(e1.increase_pay_)# accessing class variable(increase_pay_) from e1 object\n",
    "print(e2.increase_pay_)# accessing class variable(increase_pay_) from e2 object\n",
    "\n",
    "e2.increase_pay_=1.13 #changing icrease_pay_ for the instance e2 and it creates increase_pay_ attribute for that particular instance\n",
    "\n",
    "print(e2.increase_pay_)\n",
    "\n",
    "e2.__dict__\n",
    "\n",
    "e1.phone_change(9780)\n",
    "e1.phone"
   ]
  },
  {
   "cell_type": "markdown",
   "metadata": {},
   "source": [
    "### 2.Validate subsequence\n",
    "\n",
    "Given 2 non-empty arrays of integers,write a function that determines whether the second array is a subsequence of the first one.\n",
    "\n",
    "A subsequence of an array is a set of numbers that aren't necessarily adjacent in the array but that are in the same order as they appear in the array.For instace,the numbers [1,3,4] form a subsequence of the array [1,2,3,4] and so do the numbers [2,4].Note that a single number in an array and the array itself are both valid subsequences of the array.\n",
    "\n",
    "Testcase:\n",
    "\n",
    "{\"array\": [5, 1, 22, 25, 6, -1, 8, 10], \"sequence\": [1, 6, -1, 10]}\n",
    "\n",
    "output:\n",
    "\n",
    "TRUE"
   ]
  },
  {
   "cell_type": "code",
   "execution_count": 3,
   "metadata": {},
   "outputs": [
    {
     "data": {
      "text/plain": [
       "True"
      ]
     },
     "execution_count": 3,
     "metadata": {},
     "output_type": "execute_result"
    }
   ],
   "source": [
    "def validatesubsequence(array,sequence):\n",
    "    array_index=0\n",
    "    seq_index=0\n",
    "    while array_index<len(array) and seq_index<len(sequence):\n",
    "        if array[array_index]==sequence[seq_index]:\n",
    "            seq_index+=1\n",
    "        array_index+=1\n",
    "    return seq_index==len(sequence)\n",
    "validatesubsequence([5, 1, 22, 25, 6, -1, 8, 10],[1, 6, -1, 10])"
   ]
  },
  {
   "cell_type": "markdown",
   "metadata": {},
   "source": [
    "### 3.MOVE ELEMENT TO THE END:\n",
    "\n",
    "You're given an array of integers and an integer.Write the code that moves all instances of that integer in the array to the end of the array and returns the array.\n",
    "\n",
    "The function should perform this in place(i.e, it should mutate the input array) and doesn't need to maintain the order of the other integers.\n",
    "\n",
    "INPUT:\n",
    "\n",
    "array=[2,1,2,2,2,3,4,2]\n",
    "\n",
    "move=2\n",
    "\n",
    "OUTPUT:\n",
    "\n",
    "[1,3,4,2,2,2,2,2]"
   ]
  },
  {
   "cell_type": "code",
   "execution_count": 12,
   "metadata": {},
   "outputs": [
    {
     "name": "stdout",
     "output_type": "stream",
     "text": [
      "[1, 3, 4, 2, 2, 2, 2, 2]\n"
     ]
    }
   ],
   "source": [
    "c=[]\n",
    "d=[]\n",
    "a=[2,1,2,2,2,3,4,2]\n",
    "move=2\n",
    "for i in range(len(a)):\n",
    "    if a[i]==move:\n",
    "        c.append(a[i])\n",
    "    else:\n",
    "        d.append(a[i])\n",
    "d.extend(c)\n",
    "print(d)"
   ]
  },
  {
   "cell_type": "code",
   "execution_count": null,
   "metadata": {},
   "outputs": [],
   "source": []
  }
 ],
 "metadata": {
  "kernelspec": {
   "display_name": "Python 3",
   "language": "python",
   "name": "python3"
  },
  "language_info": {
   "codemirror_mode": {
    "name": "ipython",
    "version": 3
   },
   "file_extension": ".py",
   "mimetype": "text/x-python",
   "name": "python",
   "nbconvert_exporter": "python",
   "pygments_lexer": "ipython3",
   "version": "3.6.8"
  }
 },
 "nbformat": 4,
 "nbformat_minor": 2
}
