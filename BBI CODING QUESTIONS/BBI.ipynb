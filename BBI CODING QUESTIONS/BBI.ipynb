{
 "cells": [
  {
   "cell_type": "code",
   "execution_count": 7,
   "metadata": {},
   "outputs": [
    {
     "name": "stdout",
     "output_type": "stream",
     "text": [
      "1610121301\n"
     ]
    }
   ],
   "source": [
    "import time\n",
    "print(int(time.time()))"
   ]
  },
  {
   "cell_type": "code",
   "execution_count": 45,
   "metadata": {},
   "outputs": [
    {
     "name": "stdout",
     "output_type": "stream",
     "text": [
      "ddmmyyyy\n",
      "01011970\n",
      "check1\n",
      "-19800.0\n"
     ]
    }
   ],
   "source": [
    "import datetime\n",
    "dateformat=input()\n",
    "date=input()\n",
    "x={'dd/mm/yyyy':'%d/%m/%Y','mm/dd/yyyy':'%m/%d/%Y', 'dd-mm-yyyy':'%d-%m-%Y','mm-dd-yyyy':'%m-%d-%Y', 'dd.mm.yyyy':'%d.%m.%Y', 'mm.dd.yyyy':'%m.%d.%Y', 'ddmmyyyy':'%d%m%Y', 'mmddyyyy':'%m%d%Y'}\n",
    "#Date limit: 01-01-1970 to <the date of execution of the test cases>\n",
    "if dateformat in x:\n",
    "    y=datetime.datetime.strptime(date,x[dateformat])\n",
    "    y_t=datetime.datetime.today()\n",
    "    y_year=y_t.year\n",
    "    y_day=y_t.day\n",
    "    y_month=y_t.month\n",
    "    if(y.year>=1970 and y_year <=2021):\n",
    "        print('check1')\n",
    "        if(y.year==y_year):\n",
    "            print('check2')\n",
    "            if((y.month<=y_month) and(y.day<=y_day)):\n",
    "                print('check3')\n",
    "                print(datetime.datetime.strptime(date,x[dateformat]).timestamp())\n",
    "            else:\n",
    "                print(\"Unable to convert the provided date\")\n",
    "                \n",
    "        else:\n",
    "            print(datetime.datetime.strptime(date,x[dateformat]).timestamp())\n",
    "\n",
    "else:\n",
    "    print(\"Unable to convert the provided date\")"
   ]
  },
  {
   "cell_type": "code",
   "execution_count": 38,
   "metadata": {},
   "outputs": [
    {
     "name": "stdout",
     "output_type": "stream",
     "text": [
      "852057000.0\n"
     ]
    }
   ],
   "source": [
    "print(datetime.datetime.strptime('01011997','%m%d%Y').timestamp())"
   ]
  },
  {
   "cell_type": "code",
   "execution_count": 25,
   "metadata": {},
   "outputs": [
    {
     "name": "stdout",
     "output_type": "stream",
     "text": [
      "3\n"
     ]
    }
   ],
   "source": [
    "d={1:2,2:3,3:4}\n",
    "n=2\n",
    "if n in d:\n",
    "    print(d[n])"
   ]
  },
  {
   "cell_type": "code",
   "execution_count": 31,
   "metadata": {},
   "outputs": [
    {
     "data": {
      "text/plain": [
       "2021"
      ]
     },
     "execution_count": 31,
     "metadata": {},
     "output_type": "execute_result"
    }
   ],
   "source": [
    "y_today=datetime.datetime.today().year\n",
    "y_today"
   ]
  },
  {
   "cell_type": "markdown",
   "metadata": {},
   "source": [
    "# 1. Date to epoch timestamp"
   ]
  },
  {
   "cell_type": "code",
   "execution_count": 53,
   "metadata": {},
   "outputs": [
    {
     "name": "stdout",
     "output_type": "stream",
     "text": [
      "dd:mm:yyyy\n",
      "17:04:2020\n",
      "Unable to convert the provided date\n"
     ]
    }
   ],
   "source": [
    "import datetime#using datetime module\n",
    "dateformat=input()#inputting the date format\n",
    "date=input()#inputting the original date from user.\n",
    "#creating a dictionary with the dateformat as key and syntax of dateformat as values.\n",
    "x={'dd/mm/yyyy':'%d/%m/%Y','mm/dd/yyyy':'%m/%d/%Y', 'dd-mm-yyyy':'%d-%m-%Y','mm-dd-yyyy':'%m-%d-%Y', 'dd.mm.yyyy':'%d.%m.%Y', 'mm.dd.yyyy':'%m.%d.%Y', 'ddmmyyyy':'%d%m%Y', 'mmddyyyy':'%m%d%Y'}\n",
    "#Date limit: 01-01-1970 to <the date of execution of the test cases>\n",
    "if dateformat in x:\n",
    "    y=datetime.datetime.strptime(date,x[dateformat])#getting the normal datetime format\n",
    "    y_t=datetime.datetime.today()#getting today's date\n",
    "    y_year=y_t.year#getting current year\n",
    "    y_day=y_t.day#getting current day\n",
    "    y_month=y_t.month#getting current month\n",
    "    if(y.year>=1970 and y_year <=2021): #checking year in between 1970 and 2021\n",
    "        if(y.year==y_year):#checking inputted year is matching with curent year. \n",
    "            if((y.month<=y_month) and(y.day<=y_day)):#checking month and day condition.\n",
    "                print(datetime.datetime.strptime(date,x[dateformat]).timestamp())#printing epoch timestamp\n",
    "            else:\n",
    "                print(\"Unable to convert the provided date\")\n",
    "        if(y.year==1970):#checking year=1970\n",
    "            if((y.month>=1) and(y.day>=1)):#checking the criteria 01-01-1970 \n",
    "                print(datetime.datetime.strptime(date,x[dateformat]).timestamp())\n",
    "            else:\n",
    "                print(\"Unable to convert the provided date\")\n",
    "        else:\n",
    "            print(datetime.datetime.strptime(date,x[dateformat]).timestamp())\n",
    "    else:\n",
    "        print(\"Unable to convert the provided date\")\n",
    "\n",
    "else:\n",
    "    print(\"Unable to convert the provided date\")"
   ]
  },
  {
   "cell_type": "markdown",
   "metadata": {},
   "source": [
    "Example 1\n",
    "Input: 19-01-2020\n",
    "Output: 1579392000\n",
    "Example 2\n",
    "Input: 31122012\n",
    "Output: 1356912000\n",
    "Example 3\n",
    "Input: 251220202\n",
    "Output: Unable to convert the provided date\n",
    "Example 4\n",
    "Input: 17:04:2020\n",
    "Output: Unable to convert the provided date"
   ]
  },
  {
   "cell_type": "markdown",
   "metadata": {},
   "source": [
    "# Question 2 – Floating PointNumbers – Print Filtered Data"
   ]
  },
  {
   "cell_type": "code",
   "execution_count": 122,
   "metadata": {},
   "outputs": [
    {
     "name": "stdout",
     "output_type": "stream",
     "text": [
      "0.11,0.12,0.13,0.23,0.34,0.35,0.47,0.59,0.77,0.83,0.85,0.91,0.95\n",
      "0.11,0.23,0.47,0.77,0.83\n"
     ]
    }
   ],
   "source": [
    "n=input().split(',')#splitting data using ',' as separator\n",
    "r={'[0-0.2]':[],'[0.2-0.4]':[],'[0.4-0.6]':[],'[0.6-0.8]':[],'[0.8-1.0]':[]}#creating a dictionary with ranges as keys and values will be the numbers belonging to each interval.\n",
    "for i in n:\n",
    "    x=float(i)\n",
    "    if(x>=0 and x<0.2):#checking range between 0 and 0.2\n",
    "        r['[0-0.2]'].append(x)#if range is in between 0 and 0.2 , then append the value to the list of the corresponding interval\n",
    "    if(x>=0.2 and x<0.4):\n",
    "        r['[0.2-0.4]'].append(x)\n",
    "    if(x>=0.4 and x<0.6):\n",
    "        r['[0.4-0.6]'].append(x)\n",
    "    if(x>=0.6 and x<0.8):\n",
    "        r['[0.6-0.8]'].append(x)\n",
    "    if(x>=0.8 and x<1.0):\n",
    "        r['[0.8-1.0]'].append(x)\n",
    "min_key_to_value_lengths = min([len(v) for k, v in r.items()])#finding the minimum subset size using list comprehension\n",
    "element_printing=[v[0:min_key_to_value_lengths] for k,v in r.items()]#selecting values from each interval with minimum subset size\n",
    "l=len(element_printing)#length of whole\n",
    "ll=len(element_printing[0])\n",
    "out=[element_printing[i][j] for i in range(l) for j in range(ll)]\n",
    "print(\",\".join(map(str,out)))#printing the ouput separated by spaces"
   ]
  },
  {
   "cell_type": "code",
   "execution_count": null,
   "metadata": {},
   "outputs": [],
   "source": [
    "Output: 0.11,0.23,0.47,0.77,0.83\n",
    "    \n",
    "    0.11,0.12,0.13,0.23,0.34,0.35,0.47,0.59,0.77,0.83,0.85,0.91,0.95"
   ]
  },
  {
   "cell_type": "code",
   "execution_count": null,
   "metadata": {},
   "outputs": [],
   "source": [
    "0.1,0.2,0.3,0.4,0.5,0.6,0.7,0.8,0.9,0.22,0.44"
   ]
  },
  {
   "cell_type": "code",
   "execution_count": null,
   "metadata": {},
   "outputs": [],
   "source": [
    "def rangee(i):\n",
    "        switcher={\n",
    "                0:if(i>=0 and i<=0.2):\n",
    "                    r['[0-0.2]'].append(i),\n",
    "                1:if(i>=0.2 and i<=0.4):\n",
    "                    r['[0.2-0.4]'].append(i),\n",
    "                2:if(i>=0.4 and i<=0.6):\n",
    "                    r['[0.4-0.6]'].append(i),\n",
    "                3:if(i>=0.6 and i<=0.8):\n",
    "                    r['[0.6-0.8]'].append(i),\n",
    "                4:if(i>=0.8 and i<=1.0):\n",
    "                    r['[0.8-1.0]'].append(i),\n",
    "                5:print('enter a value in the range between 0 and 1.0')\n",
    "             }\n",
    "         return switcher.get(i,\"Invalid day of week\")"
   ]
  },
  {
   "cell_type": "code",
   "execution_count": 98,
   "metadata": {},
   "outputs": [
    {
     "name": "stdout",
     "output_type": "stream",
     "text": [
      " \n",
      " \n",
      " \n",
      " \n",
      " \n"
     ]
    }
   ],
   "source": [
    "r={'[0-0.2]':[1,2],'[0.2-0.4]':[3],'[0.4-0.6]':[9,2,3,1],'[0.6-0.8]':[11,32,12],'[0.8-1.0]':[88,90]}\n",
    "for k,v in r.items():\n",
    "    print(str(v[0:2]).join(' '))"
   ]
  },
  {
   "cell_type": "code",
   "execution_count": null,
   "metadata": {},
   "outputs": [],
   "source": [
    "element_printing=[i for k,v in r.items() if(len(k[v])<min_key_to_value_lengths for i in str(k[v]))]\n"
   ]
  },
  {
   "cell_type": "code",
   "execution_count": 83,
   "metadata": {},
   "outputs": [
    {
     "name": "stdout",
     "output_type": "stream",
     "text": [
      "1\n",
      "2\n",
      "3\n"
     ]
    }
   ],
   "source": [
    "d={1:[1,2,3],2:[200,300]}\n",
    "if len(d[1])<=3 :\n",
    "    for i in d[1]:\n",
    "        print(i)"
   ]
  },
  {
   "cell_type": "code",
   "execution_count": 105,
   "metadata": {},
   "outputs": [
    {
     "name": "stdout",
     "output_type": "stream",
     "text": [
      "0.11\n",
      "0.23\n",
      "0.47\n",
      "0.77\n",
      "0.83\n"
     ]
    }
   ],
   "source": [
    "d=[[0.11], [0.23], [0.47], [0.77], [0.83]]\n",
    "l=len(d)\n",
    "ll=len(d[0])\n",
    "for i in range(l):\n",
    "    for j in range(ll):\n",
    "        print(d[i][j])"
   ]
  },
  {
   "cell_type": "code",
   "execution_count": 116,
   "metadata": {},
   "outputs": [
    {
     "name": "stdout",
     "output_type": "stream",
     "text": [
      "0.11 0.23 0.47 0.77 0.83\n"
     ]
    }
   ],
   "source": [
    "l=[0.11, 0.23, 0.47, 0.77, 0.83]\n",
    "print(\" \".join(map(str,l)))"
   ]
  },
  {
   "cell_type": "code",
   "execution_count": null,
   "metadata": {},
   "outputs": [],
   "source": []
  }
 ],
 "metadata": {
  "kernelspec": {
   "display_name": "Python 3",
   "language": "python",
   "name": "python3"
  },
  "language_info": {
   "codemirror_mode": {
    "name": "ipython",
    "version": 3
   },
   "file_extension": ".py",
   "mimetype": "text/x-python",
   "name": "python",
   "nbconvert_exporter": "python",
   "pygments_lexer": "ipython3",
   "version": "3.8.5"
  }
 },
 "nbformat": 4,
 "nbformat_minor": 4
}
