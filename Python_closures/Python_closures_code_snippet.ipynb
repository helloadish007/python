{
 "cells": [
  {
   "cell_type": "code",
   "execution_count": 5,
   "metadata": {},
   "outputs": [
    {
     "data": {
      "text/plain": [
       "['Function_name:even_or_odd || Argument_passed:(3,) || Function_output:Odd',\n",
       " 'Function_name:multiply_by_seven || Argument_passed:(3,) || Function_output:21']"
      ]
     },
     "execution_count": 5,
     "metadata": {},
     "output_type": "execute_result"
    }
   ],
   "source": [
    "#function to log function_name,arguments and function_output implemented using closures\n",
    "\n",
    "def log_arguments_functions_results(*functions):\n",
    "    l=[]\n",
    "    def log(*args):\n",
    "        for function in functions:\n",
    "            l.append(f\"Function_name:{function.__name__} || Argument_passed:{args} || Function_output:{function(*args)}\")\n",
    "        def dis():\n",
    "            return l\n",
    "        return dis\n",
    "    return log\n",
    "\n",
    "\n",
    "#sample function to find \"odd or even\"\n",
    "\n",
    "def even_or_odd(n):\n",
    "    if(n&1):\n",
    "        return \"Odd\"\n",
    "    else:\n",
    "        return \"Even\"\n",
    "    \n",
    "#sample function to multiply a given number by seven.\n",
    "\n",
    "def multiply_by_seven(n):\n",
    "    return ((n<<3)-n)\n",
    "\n",
    "f1=log_arguments_functions_results(even_or_odd,multiply_by_seven)\n",
    "f1(3)()\n"
   ]
  },
  {
   "cell_type": "code",
   "execution_count": null,
   "metadata": {},
   "outputs": [],
   "source": []
  }
 ],
 "metadata": {
  "kernelspec": {
   "display_name": "Python 3",
   "language": "python",
   "name": "python3"
  },
  "language_info": {
   "codemirror_mode": {
    "name": "ipython",
    "version": 3
   },
   "file_extension": ".py",
   "mimetype": "text/x-python",
   "name": "python",
   "nbconvert_exporter": "python",
   "pygments_lexer": "ipython3",
   "version": "3.8.5"
  }
 },
 "nbformat": 4,
 "nbformat_minor": 4
}
