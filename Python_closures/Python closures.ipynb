{
 "cells": [
  {
   "cell_type": "code",
   "execution_count": 1,
   "metadata": {},
   "outputs": [],
   "source": [
    "def out_fun():\n",
    "    mess='mission activated'\n",
    "    def inner_fun():\n",
    "        print(mess)\n",
    "    return inner_fun\n"
   ]
  },
  {
   "cell_type": "code",
   "execution_count": 5,
   "metadata": {},
   "outputs": [
    {
     "data": {
      "text/plain": [
       "<function __main__.out_fun.<locals>.inner_fun()>"
      ]
     },
     "execution_count": 5,
     "metadata": {},
     "output_type": "execute_result"
    }
   ],
   "source": [
    "x=out_fun()\n",
    "x"
   ]
  },
  {
   "cell_type": "code",
   "execution_count": 4,
   "metadata": {},
   "outputs": [
    {
     "name": "stdout",
     "output_type": "stream",
     "text": [
      "mission activated\n"
     ]
    }
   ],
   "source": [
    "y=out_fun()\n",
    "y()"
   ]
  },
  {
   "cell_type": "code",
   "execution_count": 7,
   "metadata": {},
   "outputs": [
    {
     "data": {
      "text/plain": [
       "'inner_fun'"
      ]
     },
     "execution_count": 7,
     "metadata": {},
     "output_type": "execute_result"
    }
   ],
   "source": [
    "x.__name__#inner function is the output of calling outer_fun()"
   ]
  },
  {
   "cell_type": "code",
   "execution_count": 8,
   "metadata": {},
   "outputs": [
    {
     "name": "stdout",
     "output_type": "stream",
     "text": [
      "mission activated\n"
     ]
    }
   ],
   "source": [
    "y()"
   ]
  },
  {
   "cell_type": "markdown",
   "metadata": {},
   "source": [
    "# closure\n",
    "\"Therefore, in simple terms: A closure is an inner function that remembers and has access to variables in the local scope in which it was created even after the outer function has finished executing\"... "
   ]
  },
  {
   "cell_type": "code",
   "execution_count": 9,
   "metadata": {},
   "outputs": [],
   "source": [
    "def out_fun(msg):\n",
    "    mess=msg\n",
    "    def inner_fun():\n",
    "        print(mess)\n",
    "    return inner_fun\n"
   ]
  },
  {
   "cell_type": "code",
   "execution_count": 10,
   "metadata": {},
   "outputs": [],
   "source": [
    "msg1=out_fun('message 1 executed using inner_fun() ')\n",
    "msg2=out_fun('message 2 executed using inner_fun() ')"
   ]
  },
  {
   "cell_type": "code",
   "execution_count": 11,
   "metadata": {},
   "outputs": [
    {
     "name": "stdout",
     "output_type": "stream",
     "text": [
      "message 1 executed using inner_fun() \n"
     ]
    }
   ],
   "source": [
    "msg1()"
   ]
  },
  {
   "cell_type": "code",
   "execution_count": 12,
   "metadata": {},
   "outputs": [
    {
     "name": "stdout",
     "output_type": "stream",
     "text": [
      "message 2 executed using inner_fun() \n"
     ]
    }
   ],
   "source": [
    "msg2()"
   ]
  },
  {
   "cell_type": "code",
   "execution_count": 13,
   "metadata": {},
   "outputs": [
    {
     "name": "stdout",
     "output_type": "stream",
     "text": [
      "(1, 2, 3, 4)\n"
     ]
    }
   ],
   "source": [
    "def f(*n):\n",
    "    print(n)\n",
    "    \n",
    "f(1,2,3,4)"
   ]
  },
  {
   "cell_type": "code",
   "execution_count": 14,
   "metadata": {},
   "outputs": [
    {
     "name": "stdout",
     "output_type": "stream",
     "text": [
      "6\n",
      "9\n",
      "5\n",
      "10\n"
     ]
    }
   ],
   "source": [
    "# Closures\n",
    "\n",
    "import logging\n",
    "logging.basicConfig(filename='example.log', level=logging.INFO)\n",
    "\n",
    "\n",
    "def logger(func):\n",
    "    def log_func(*args):\n",
    "        logging.info(\n",
    "            'Running \"{}\" with arguments {}'.format(func.__name__, args))\n",
    "        print(func(*args))\n",
    "    return log_func\n",
    "\n",
    "\n",
    "def add(x, y):\n",
    "    return x+y\n",
    "\n",
    "\n",
    "def sub(x, y):\n",
    "    return x-y\n",
    "\n",
    "add_logger = logger(add)\n",
    "sub_logger = logger(sub)\n",
    "\n",
    "add_logger(3, 3)\n",
    "add_logger(4, 5)\n",
    "\n",
    "sub_logger(10, 5)\n",
    "sub_logger(20, 10)"
   ]
  },
  {
   "cell_type": "code",
   "execution_count": 24,
   "metadata": {},
   "outputs": [
    {
     "name": "stdout",
     "output_type": "stream",
     "text": [
      "{'multiplybyseven': ((14,), 98)}\n",
      "{'even_or_odd': ((10,), 'even')}\n"
     ]
    }
   ],
   "source": [
    "#closure to keep track of the arguments passed to different function and their results\n",
    "\n",
    "def log_arguments_functions_results(function):\n",
    "    d={}\n",
    "    def log(*args):\n",
    "        d[function.__name__]=args,function(*args)\n",
    "        print(d)\n",
    "    return log\n",
    "\n",
    "def even_or_odd(n):\n",
    "    if(n&1):\n",
    "        return \"odd\"\n",
    "    else:\n",
    "        return \"even\"\n",
    "def multiplybyseven(n):\n",
    "    return ((n<<3)-n)\n",
    "f1=log_arguments_functions_results(even_or_odd)\n",
    "f2=log_arguments_functions_results(multiplybyseven)       \n",
    "f2(14)\n",
    "f1(10)"
   ]
  },
  {
   "cell_type": "code",
   "execution_count": 49,
   "metadata": {},
   "outputs": [],
   "source": [
    "def log_arguments_functions_results(*functions):\n",
    "    l=[]\n",
    "    def log(*args):\n",
    "        for function in functions:\n",
    "            l.append(f\"Function_name:{function.__name__} || Argument_passed:{args} || Function_output:{function(*args)}\")\n",
    "        def dis():\n",
    "            return l\n",
    "        return dis\n",
    "    return log\n"
   ]
  },
  {
   "cell_type": "code",
   "execution_count": 50,
   "metadata": {},
   "outputs": [
    {
     "data": {
      "text/plain": [
       "['Function_name:even_or_odd || Argument_passed:(3,) || Function_output:odd',\n",
       " 'Function_name:multiplybyseven || Argument_passed:(3,) || Function_output:21']"
      ]
     },
     "execution_count": 50,
     "metadata": {},
     "output_type": "execute_result"
    }
   ],
   "source": [
    "f1=log_arguments_functions_results(even_or_odd,multiplybyseven)\n",
    "f1(3)()\n"
   ]
  },
  {
   "cell_type": "code",
   "execution_count": null,
   "metadata": {},
   "outputs": [],
   "source": []
  }
 ],
 "metadata": {
  "kernelspec": {
   "display_name": "Python 3",
   "language": "python",
   "name": "python3"
  },
  "language_info": {
   "codemirror_mode": {
    "name": "ipython",
    "version": 3
   },
   "file_extension": ".py",
   "mimetype": "text/x-python",
   "name": "python",
   "nbconvert_exporter": "python",
   "pygments_lexer": "ipython3",
   "version": "3.8.5"
  }
 },
 "nbformat": 4,
 "nbformat_minor": 4
}
