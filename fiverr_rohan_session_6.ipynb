{
 "cells": [
  {
   "cell_type": "markdown",
   "metadata": {},
   "source": [
    "### There are 3 questions.          (TOTAL TIME : 60 MINUTES)\n",
    "\n",
    " 1st Question : 5 points (15 minutes)\n",
    "\n",
    " 2nd Question : 10 points (20 minutes)\n",
    "\n",
    " 3rd Question : 25 points (25 minutes)\n",
    "\n",
    "## TOTAL POINTS : 40\n",
    "\n",
    "## MINIMUM SCORE TO PASS THE TEST : 20 points"
   ]
  },
  {
   "cell_type": "markdown",
   "metadata": {},
   "source": [
    "### 1.                                                                                                             \n",
    "\n",
    "• Create a Python application that will loop between 1 and 100\n",
    "\n",
    "• The numbers are to be printed out alongside their squared value\n",
    "\n",
    "• The app should stop when a squared value of 200 or more is reached\n",
    "\n",
    "• Reconfigure the application to take in a user value as desired. For example, if you were to input the value 8 , your application would produce all squared values from 1 to 8.\n",
    "\n",
    "(Time Limit : 15 minutes) \n",
    "\n",
    "\n",
    "### Sample output:\n",
    "\n",
    "Square of 1 is : 1\n",
    "\n",
    "Square of 2 is : 4\n",
    "\n",
    "Square of 3 is : 9\n",
    "\n",
    "Square of 4 is : 16\n",
    "\n",
    "Square of 5 is : 25\n",
    "\n",
    "Square of 6 is : 36\n",
    "\n",
    "Square of 7 is : 49\n",
    "\n",
    "Square of 8 is : 64\n",
    "\n",
    "Square of 9 is : 81\n",
    "\n",
    "Square of 10 is : 100\n",
    "\n",
    "Square of 11 is : 121\n",
    "\n",
    "Square of 12 is : 144\n",
    "\n",
    "Square of 13 is : 169\n",
    "\n",
    "Square of 14 is : 196\n",
    "\n",
    "SQUARED VALUE OF 200 OR MORE IS DETECTED!!\n",
    "\n",
    "ENTER A NEW VALUE : 15\n",
    "\n",
    "Square of 1 is : 1\n",
    "\n",
    "Square of 2 is : 4\n",
    "\n",
    "Square of 3 is : 9\n",
    "\n",
    "Square of 4 is : 16\n",
    "\n",
    "Square of 5 is : 25\n",
    "\n",
    "Square of 6 is : 36\n",
    "\n",
    "Square of 7 is : 49\n",
    "\n",
    "Square of 8 is : 64\n",
    "\n",
    "Square of 9 is : 81\n",
    "\n",
    "Square of 10 is : 100\n",
    "\n",
    "Square of 11 is : 121\n",
    "\n",
    "Square of 12 is : 144\n",
    "\n",
    "Square of 13 is : 169\n",
    "\n",
    "Square of 14 is : 196\n",
    "\n",
    "SQUARED VALUE OF 200 OR MORE IS DETECTED!!\n",
    "\n",
    "ENTER A NEW VALUE : 2\n",
    "\n",
    "Square of 1 is : 1\n",
    "\n",
    "Square of 2 is : 4\n"
   ]
  },
  {
   "cell_type": "code",
   "execution_count": 5,
   "metadata": {},
   "outputs": [
    {
     "name": "stdout",
     "output_type": "stream",
     "text": [
      "Square of 1 is : 1\n",
      "Square of 2 is : 4\n",
      "Square of 3 is : 9\n",
      "Square of 4 is : 16\n",
      "Square of 5 is : 25\n",
      "Square of 6 is : 36\n",
      "Square of 7 is : 49\n",
      "Square of 8 is : 64\n",
      "Square of 9 is : 81\n",
      "Square of 10 is : 100\n",
      "Square of 11 is : 121\n",
      "Square of 12 is : 144\n",
      "Square of 13 is : 169\n",
      "Square of 14 is : 196\n",
      "SQUARED VALUE OF 200 OR MORE IS DETECTED!!\n",
      "ENTER A NEW VALUE : 2\n",
      "Square of 1 is : 1\n",
      "Square of 2 is : 4\n"
     ]
    }
   ],
   "source": [
    "def squared_error(n=100):#defining a function and passing 100 as default value,so that it will loop from 1 to 100\n",
    "    for i in range(1,n+1):\n",
    "        if(i**2>=200):\n",
    "            print('SQUARED VALUE OF 200 OR MORE IS DETECTED!!')\n",
    "            n=int(input('ENTER A NEW VALUE : '))\n",
    "            squared_error(n)\n",
    "            break\n",
    "        else:\n",
    "            print('Square of {} is : {}'.format(i,i**2))\n",
    "\n",
    "squared_error()"
   ]
  },
  {
   "cell_type": "markdown",
   "metadata": {},
   "source": [
    "### 2.\n",
    "### Balanced paranthesis: \n",
    "\n",
    "check whether there are equal number of opening and closing paranthesis in a given input (ORDER DOES'NT MATTER\n",
    "\n",
    "i.e, it can be [[()]] or ]])([[\n",
    "\n",
    "input: '(abc)[1[]'\n",
    "\n",
    "output: unbalanced\n",
    "\n",
    "(Time Limit : 20 minutes)"
   ]
  },
  {
   "cell_type": "code",
   "execution_count": 4,
   "metadata": {},
   "outputs": [
    {
     "name": "stdout",
     "output_type": "stream",
     "text": [
      "unbalanced\n"
     ]
    }
   ],
   "source": [
    "def f1(s):\n",
    "  k=None\n",
    "  l=[']','}',')']\n",
    "  for i in s:\n",
    "    if i in l:\n",
    "      break\n",
    "    else:\n",
    "      k=s.count('(')==s.count(')') and s.count('{')==s.count('}') and s.count('[')==s.count(']')\n",
    "  if(k):\n",
    "    print(\"balanced\")\n",
    "  else:\n",
    "    print(\"unbalanced\")\n",
    "f1('(abc)[1[]')\n",
    "#o/p:unbalanced"
   ]
  },
  {
   "cell_type": "markdown",
   "metadata": {},
   "source": [
    "### 3.\n",
    "### Leaders in an array:\n",
    "\n",
    "An element is leader if it is greater than all the elements to its right side.\n",
    "\n",
    "And the rightmost element is always a leader. For example int the array {16, 17, 4, 3, 5, 2},\n",
    "\n",
    "leaders are 17, 5 and 2.\n",
    "\n",
    "The first line of each test case contains a single integer N denoting the size of array.\n",
    "\n",
    "The second line contains N space-separated integers A1, A2, ..., AN denoting the elements of the array.\n",
    "\n",
    "Input:\n",
    "\n",
    "6\n",
    "\n",
    "16 17 4 3 5 2\n",
    "\n",
    "5\n",
    "\n",
    "1 2 3 4 0\n",
    "\n",
    "5\n",
    "\n",
    "7 4 5 7 3\n",
    "\n",
    "Output:\n",
    "\n",
    "17 5 2\n",
    "\n",
    "4 0\n",
    "\n",
    "7  3\n",
    "\n",
    "\n",
    "(Time Limit :25 minutes)"
   ]
  },
  {
   "cell_type": "code",
   "execution_count": 10,
   "metadata": {},
   "outputs": [
    {
     "name": "stdout",
     "output_type": "stream",
     "text": [
      "5\n",
      "1 2 3 4 0\n",
      "4 0\n"
     ]
    }
   ],
   "source": [
    "s=int(input())\n",
    "l=input().split()\n",
    "o=[]\n",
    "for i in range(len(l)):\n",
    "    for j in range(i+1,len(l)):\n",
    "        if(int(l[i])<=int(l[j])):\n",
    "            break\n",
    "\n",
    "    if(j==len(l)-1):\n",
    "        o.append(l[i])\n",
    "print(\" \".join(o))"
   ]
  },
  {
   "cell_type": "code",
   "execution_count": null,
   "metadata": {},
   "outputs": [],
   "source": []
  }
 ],
 "metadata": {
  "kernelspec": {
   "display_name": "Python 3",
   "language": "python",
   "name": "python3"
  },
  "language_info": {
   "codemirror_mode": {
    "name": "ipython",
    "version": 3
   },
   "file_extension": ".py",
   "mimetype": "text/x-python",
   "name": "python",
   "nbconvert_exporter": "python",
   "pygments_lexer": "ipython3",
   "version": "3.6.8"
  }
 },
 "nbformat": 4,
 "nbformat_minor": 2
}
