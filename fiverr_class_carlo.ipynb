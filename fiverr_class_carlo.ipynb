{
 "cells": [
  {
   "cell_type": "markdown",
   "metadata": {},
   "source": [
    "# Part 1: Optimal Change\n",
    "You are writing a computer program for an electronic vending machine to give you the optimal change for an item's cost.\n",
    "\n",
    "Create your own class in Python that takes in two arguments - a total price and a user's amount paid. This class will have a method `optimal_change` which will output a string with the optimal change. Here it is in action:\n",
    "\n",
    "```\n",
    "change_maker = ChangeMaker(62.13, 100)\n",
    "change_maker.optimal_change()\n",
    "> \"The optimal change for an item that costs $62.13 with an amount paid of $100 is 1 $20 bill, 1 $10 bill, 1 $5 bill, 2 $1 bills, 3 quarters, 1 dime, and 2 pennies.\"\n",
    "\n",
    "change_maker2 = ChangeMaker(31.51, 50)\n",
    "change_maker2.optimal_change()\n",
    "> \"The optimal change for an item that costs $31.51 with an amount paid of $50 is 1 $10 bill, 1 $5 bill, 3 $1 bills, 1 quarter, 2 dimes, and 4 pennies.\"\n",
    "```\n",
    "\n",
    "### Remember\n",
    "- Don't forget to account for plural denominations (i.e., quarters, dimes, pennies, bills) and punctuation (i.e., commas and the period at the end of a sentence) to delineate between different denominations.\n",
    "- This is **optimal** change. Obviously, you can give the change in pennies, but we're looking for the most optimal (least amount of) change possible.\n",
    "- Fully understand the data types of your input and output\n",
    "- TDD everything! Write at least 3-4 unit tests. Feel free to start with the two examples above\n"
   ]
  },
  {
   "cell_type": "code",
   "execution_count": 62,
   "metadata": {},
   "outputs": [
    {
     "name": "stdout",
     "output_type": "stream",
     "text": [
      "\"The optimal change for an item that costs $62.13 with an amount paid of $100.0 is 1 $20 bill, 1 $10 bill, 1 $5 bill, 2 $1 bills, 3 quarters, 1 dime, 2 pennies.\"\n"
     ]
    }
   ],
   "source": [
    "class ChangeMaker:\n",
    "    def __init__(self,tp,apaid):\n",
    "        self.tp=tp\n",
    "        self.apaid=apaid\n",
    "    def optimal_change(self):\n",
    "        self.apaid=float(self.apaid)\n",
    "        self.tp=float(self.tp)\n",
    "        self.N=self.apaid-self.tp\n",
    "        # 1 $20 bill, 1 $10 bill, 1 $5 bill, 2 $1 bills, 3 quarters, 1 dime, and 2 pennies.\"\n",
    "\n",
    "        self.notes = [20, 10, 5, 1, \n",
    "                       0.25, 0.1, 0.01]\n",
    "        self.notes_name_s= ['$20 bill', '$10 bill','$5 bill', '$1 bill', \n",
    "                       'quarter', 'dime', 'penny.\"']\n",
    "        self.notes_name_p= ['$20 bills', '$10 bills','$5 bills', '$1 bills', \n",
    "                       'quarters', 'dimes', 'pennies.\"']\n",
    "        self.c= [0, 0, 0, 0, 0,0, 0] \n",
    "        self.d=[]\n",
    "        self.b=[]\n",
    "        for i,j,k,l in zip(self.notes,self.c,self.notes_name_s,self.notes_name_p): \n",
    "            if self.N >= i: \n",
    "                j = self.N //i \n",
    "                self.N =self.N - j * i\n",
    "                if i==0.01:\n",
    "                    j+=1\n",
    "                if j>1:\n",
    "                    self.y=str('{} {}'.format(int(j),l))\n",
    "                else:\n",
    "                    self.y=str('{} {}'.format(int(j),k))\n",
    "\n",
    "                self.b.append(self.y)\n",
    "        self.r=str('\"The optimal change for an item that costs ${} with an amount paid of ${} is '.format(self.tp,self.apaid))\n",
    "        self.t=str( \", \".join(self.b))\n",
    "        print(self.r+self.t)\n",
    "\n",
    "\n",
    "\n",
    "        \n",
    "change_maker=ChangeMaker(62.13,100)\n",
    "change_maker.optimal_change()\n",
    "# change_maker2 = ChangeMaker(31.51, 50)\n",
    "# change_maker2.optimal_change()\n"
   ]
  },
  {
   "cell_type": "code",
   "execution_count": null,
   "metadata": {},
   "outputs": [],
   "source": []
  }
 ],
 "metadata": {
  "kernelspec": {
   "display_name": "Python 3",
   "language": "python",
   "name": "python3"
  },
  "language_info": {
   "codemirror_mode": {
    "name": "ipython",
    "version": 3
   },
   "file_extension": ".py",
   "mimetype": "text/x-python",
   "name": "python",
   "nbconvert_exporter": "python",
   "pygments_lexer": "ipython3",
   "version": "3.6.8"
  }
 },
 "nbformat": 4,
 "nbformat_minor": 2
}
