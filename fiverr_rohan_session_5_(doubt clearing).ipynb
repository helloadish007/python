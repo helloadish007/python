{
 "cells": [
  {
   "cell_type": "markdown",
   "metadata": {},
   "source": [
    "regular methods: usually takes instance as the first argument\n",
    "\n",
    "Function Decorator:\n",
    "\n",
    "A decorator is a function that takes a function as its only parameter and returns a function.\n",
    "\n",
    "A class method receives the class as implicit first argument, just like an instance method receives the instance\n",
    "\n",
    "A static method needs no specific parameters.\n",
    "\n",
    "\n"
   ]
  },
  {
   "cell_type": "code",
   "execution_count": 27,
   "metadata": {},
   "outputs": [
    {
     "name": "stdout",
     "output_type": "stream",
     "text": [
      "pasta\n"
     ]
    }
   ],
   "source": [
    "class Restaurant:\n",
    "    def __init__(self,name_of_recipe):\n",
    "        self.name_of_recipe=name_of_recipe\n",
    "        \n",
    "    #getter function   \n",
    "    def name(self):\n",
    "        return self.name_of_recipe\n",
    "\n",
    "r1=Restaurant('pasta')\n",
    "print(r1.name())"
   ]
  },
  {
   "cell_type": "code",
   "execution_count": 28,
   "metadata": {},
   "outputs": [
    {
     "name": "stdout",
     "output_type": "stream",
     "text": [
      "pasta\n"
     ]
    }
   ],
   "source": [
    "class Restaurant:\n",
    "    def __init__(self,name_of_recipe):\n",
    "        self.name_of_recipe=name_of_recipe\n",
    "        \n",
    "    #getter function\n",
    "    @property #property decorator:changes semantics in such a way that,we dont need to explicitly, call the function,we can refer to it\n",
    "    def name(self):\n",
    "        return self.name_of_recipe\n",
    "\n",
    "r1=Restaurant('pasta')\n",
    "print(r1.name)"
   ]
  },
  {
   "cell_type": "code",
   "execution_count": 21,
   "metadata": {},
   "outputs": [
    {
     "name": "stdout",
     "output_type": "stream",
     "text": [
      "['1 $20bill  ', '1 $10bill  ', '1 $5bill  ', '3 1$ bills  ']\n"
     ]
    },
    {
     "data": {
      "text/plain": [
       "200"
      ]
     },
     "execution_count": 21,
     "metadata": {},
     "output_type": "execute_result"
    }
   ],
   "source": [
    "class ChangeMaker:\n",
    "    \n",
    "    def __init__(self, tp, apaid):\n",
    "        self.tp = tp\n",
    "        self.apaid = apaid\n",
    "    def get_tp(self):\n",
    "        return self.tp\n",
    "    \n",
    "    @staticmethod\n",
    "    def f1(apaid,tp):\n",
    "        apaid=float(apaid)\n",
    "        tp=float(tp)\n",
    "        N=apaid-tp\n",
    "        notes=[20,10,5,1,0.25,0.1,0.01]\n",
    "        c=[0,0,0,0,0,0,0]\n",
    "        b=[]\n",
    "        notes_sing=['$20bill','$10bill','$5bill','1$ bill','quarter','dime','penny']\n",
    "        notes_p=['$20bills','$10bills','$5bills','1$ bills','quarters','dimes','pennies']\n",
    "        for i,j,k,l in zip(notes,c,notes_sing,notes_p):\n",
    "            if N>=i:\n",
    "                j=N//i\n",
    "                N=N-j*i\n",
    "                if j>1:\n",
    "                    y=str('{} {}  '.format(int(j),l))\n",
    "                else:\n",
    "                    y=str('{} {}  '.format(int(j),k))\n",
    "\n",
    "                b.append(y)\n",
    "        print(b)\n",
    "\n",
    "a=ChangeMaker(200,45)\n",
    "ChangeMaker.f1(100,62) #do not need to create an object of the class for accessing methods implemented by class.\n",
    "a.get_tp()\n",
    "#ChangeMaker.get_tp()#error, for calling class methods you should have to create an instance of the class\n",
    "   "
   ]
  },
  {
   "cell_type": "code",
   "execution_count": 46,
   "metadata": {},
   "outputs": [
    {
     "name": "stdout",
     "output_type": "stream",
     "text": [
      "['1 $20bill  ', '1 $10bill  ', '1 $5bill  ', '2 1$ bills  ', '3 quarters  ', '1 dime  ', '1 penny  ']\n"
     ]
    }
   ],
   "source": [
    "def f1(apaid,tp):\n",
    "    apaid=float(apaid)\n",
    "    tp=float(tp)\n",
    "    N=apaid-tp\n",
    "    notes=[20,10,5,1,0.25,0.1,0.01]\n",
    "    c=[0,0,0,0,0,0,0]\n",
    "    b=[]\n",
    "    notes_sing=['$20bill','$10bill','$5bill','1$ bill','quarter','dime','penny']\n",
    "    notes_p=['$20bills','$10bills','$5bills','1$ bills','quarters','dimes','pennies']\n",
    "    for i,j,k,l in zip(notes,c,notes_sing,notes_p):\n",
    "        if N>=i:\n",
    "            j=N//i\n",
    "            N=N-j*i\n",
    "            if j>1:\n",
    "                y=str('{} {}  '.format(int(j),l))\n",
    "            else:\n",
    "                y=str('{} {}  '.format(int(j),k))\n",
    "\n",
    "            b.append(y)\n",
    "    print(b)\n",
    "f1(100,62.13)"
   ]
  },
  {
   "cell_type": "code",
   "execution_count": 29,
   "metadata": {},
   "outputs": [
    {
     "data": {
      "text/plain": [
       "['pizza', 'burger']"
      ]
     },
     "execution_count": 29,
     "metadata": {},
     "output_type": "execute_result"
    }
   ],
   "source": [
    "class Restaurant:\n",
    "    items_=['pizza','burger']\n",
    "    def __init__(self,name_of_recipe):\n",
    "        self.name_of_recipe=name_of_recipe\n",
    "        \n",
    "    #getter function\n",
    "    @property #property decorator:changes semantics in such a way that,we dont need to explicitly, call the function,we can refer to it\n",
    "    def name(self):\n",
    "        return self.name_of_recipe\n",
    "    @classmethod\n",
    "    def items(cls):\n",
    "        return cls.items_\n",
    "\n",
    "r1=Restaurant('pasta')\n",
    "#print items using classmethod\n",
    "#classmethod links to the class definition and not to the instance\n",
    "\n",
    "Restaurant.items()"
   ]
  },
  {
   "cell_type": "code",
   "execution_count": 30,
   "metadata": {},
   "outputs": [
    {
     "data": {
      "text/plain": [
       "['pizza', 'burger']"
      ]
     },
     "execution_count": 30,
     "metadata": {},
     "output_type": "execute_result"
    }
   ],
   "source": [
    "class Restaurant:\n",
    "    items_=['pizza','burger']\n",
    "    def __init__(self,name_of_recipe):\n",
    "        self.name_of_recipe=name_of_recipe\n",
    "        \n",
    "    #getter function\n",
    "    @property #property decorator:changes semantics in such a way that,we dont need to explicitly, call the function,we can refer to it\n",
    "    def name(self):\n",
    "        return self.name_of_recipe\n",
    "    @classmethod\n",
    "    def items(cls):\n",
    "        return cls.items_\n",
    "\n",
    "r1=Restaurant('pasta')\n",
    "\n",
    "r1.items()"
   ]
  },
  {
   "cell_type": "code",
   "execution_count": 45,
   "metadata": {},
   "outputs": [
    {
     "name": "stdout",
     "output_type": "stream",
     "text": [
      "['pizza', 'burger']\n"
     ]
    },
    {
     "data": {
      "text/plain": [
       "['steak']"
      ]
     },
     "execution_count": 45,
     "metadata": {},
     "output_type": "execute_result"
    }
   ],
   "source": [
    "class Restaurant:\n",
    "    items_=['pizza','burger']\n",
    "    def __init__(self,name_of_recipe):\n",
    "        self.name_of_recipe=name_of_recipe\n",
    "        \n",
    "    #getter function\n",
    "    @property #property decorator:changes semantics in such a way that,we dont need to explicitly, call the function,we can refer to it\n",
    "    def name(self):\n",
    "        return self.name_of_recipe\n",
    "    @classmethod\n",
    "    def items(cls):\n",
    "        return cls.items_\n",
    "\n",
    "r1=Restaurant('pasta')\n",
    "#changing the items for Restaurant r1\n",
    "r1.items_=['steak']\n",
    "print(r1.items())#will not modify items for r1\n",
    "r1.__dict__\n",
    "#we will be having 2 'items_' list\n",
    "#one for the 'Class' and one for the instance'r1'\n",
    "#but 'items() function',which is a class method,refers to Class variable 'items_'\n",
    "#do not refer to 'r1' object's 'items_'\n",
    "\n",
    "\n",
    "r1.items_ # item list for r1 restaurant"
   ]
  },
  {
   "cell_type": "code",
   "execution_count": 43,
   "metadata": {},
   "outputs": [
    {
     "data": {
      "text/plain": [
       "['steak']"
      ]
     },
     "execution_count": 43,
     "metadata": {},
     "output_type": "execute_result"
    }
   ],
   "source": [
    "#HERE, THERE SHOULD BE SOME ITEMS, WHICH SHOULD ME MADE BY EVERY RESTUARANT#\n",
    "#THAT IS WHY WE DEFINED A CLASSMETHOD\n",
    "\n",
    "#WE CAN OVERIDE THIS CLASSMETHOD TO ADD GENERAL ITEMS IN THE LIST OF RECIPIES BY:\n",
    "class Restaurant:\n",
    "    items_=['pizza','burger']\n",
    "    def __init__(self,name_of_recipe):\n",
    "        self.name_of_recipe=name_of_recipe\n",
    "        \n",
    "    \n",
    "    @property \n",
    "    def name(self):\n",
    "        return self.name_of_recipe\n",
    "    @classmethod\n",
    "    def items(cls):\n",
    "        return cls.items_\n",
    "\n",
    "r1=Restaurant('pasta')\n",
    "r1.__class__.items_=['steak']#overridden every recepies(items) from items_ list\n",
    "r1.items()"
   ]
  },
  {
   "cell_type": "markdown",
   "metadata": {},
   "source": [
    "### 1.balanced paranthesis\n",
    "\n",
    "input: '(abc)[1[]'\n",
    "\n",
    "output: unbalanced"
   ]
  },
  {
   "cell_type": "markdown",
   "metadata": {},
   "source": [
    "### 2.Print numbers from 1 to 100 ,without using loops?"
   ]
  },
  {
   "cell_type": "code",
   "execution_count": 52,
   "metadata": {},
   "outputs": [
    {
     "name": "stdout",
     "output_type": "stream",
     "text": [
      "1\n",
      "2\n",
      "3\n",
      "4\n",
      "5\n",
      "6\n",
      "7\n",
      "8\n",
      "9\n",
      "10\n",
      "11\n",
      "12\n",
      "13\n",
      "14\n",
      "15\n",
      "16\n",
      "17\n",
      "18\n",
      "19\n",
      "20\n",
      "21\n",
      "22\n",
      "23\n",
      "24\n",
      "25\n",
      "26\n",
      "27\n",
      "28\n",
      "29\n",
      "30\n",
      "31\n",
      "32\n",
      "33\n",
      "34\n",
      "35\n",
      "36\n",
      "37\n",
      "38\n",
      "39\n",
      "40\n",
      "41\n",
      "42\n",
      "43\n",
      "44\n",
      "45\n",
      "46\n",
      "47\n",
      "48\n",
      "49\n",
      "50\n",
      "51\n",
      "52\n",
      "53\n",
      "54\n",
      "55\n",
      "56\n",
      "57\n",
      "58\n",
      "59\n",
      "60\n",
      "61\n",
      "62\n",
      "63\n",
      "64\n",
      "65\n",
      "66\n",
      "67\n",
      "68\n",
      "69\n",
      "70\n",
      "71\n",
      "72\n",
      "73\n",
      "74\n",
      "75\n",
      "76\n",
      "77\n",
      "78\n",
      "79\n",
      "80\n",
      "81\n",
      "82\n",
      "83\n",
      "84\n",
      "85\n",
      "86\n",
      "87\n",
      "88\n",
      "89\n",
      "90\n",
      "91\n",
      "92\n",
      "93\n",
      "94\n",
      "95\n",
      "96\n",
      "97\n",
      "98\n",
      "99\n",
      "time elapsed: 16.222000122070312ms\n"
     ]
    }
   ],
   "source": [
    "import time\n",
    "\n",
    "start=time.time()\n",
    "for i in range(1,100):\n",
    "    print(i)\n",
    "end=time.time()\n",
    "print('time elapsed: {}ms'.format((end-start)*1000))"
   ]
  },
  {
   "cell_type": "code",
   "execution_count": 54,
   "metadata": {},
   "outputs": [
    {
     "name": "stdout",
     "output_type": "stream",
     "text": [
      "1\n",
      "2\n",
      "3\n",
      "4\n",
      "5\n",
      "6\n",
      "7\n",
      "8\n",
      "9\n",
      "10\n",
      "11\n",
      "12\n",
      "13\n",
      "14\n",
      "15\n",
      "16\n",
      "17\n",
      "18\n",
      "19\n",
      "20\n",
      "21\n",
      "22\n",
      "23\n",
      "24\n",
      "25\n",
      "26\n",
      "27\n",
      "28\n",
      "29\n",
      "30\n",
      "31\n",
      "32\n",
      "33\n",
      "34\n",
      "35\n",
      "36\n",
      "37\n",
      "38\n",
      "39\n",
      "40\n",
      "41\n",
      "42\n",
      "43\n",
      "44\n",
      "45\n",
      "46\n",
      "47\n",
      "48\n",
      "49\n",
      "50\n",
      "51\n",
      "52\n",
      "53\n",
      "54\n",
      "55\n",
      "56\n",
      "57\n",
      "58\n",
      "59\n",
      "60\n",
      "61\n",
      "62\n",
      "63\n",
      "64\n",
      "65\n",
      "66\n",
      "67\n",
      "68\n",
      "69\n",
      "70\n",
      "71\n",
      "72\n",
      "73\n",
      "74\n",
      "75\n",
      "76\n",
      "77\n",
      "78\n",
      "79\n",
      "80\n",
      "81\n",
      "82\n",
      "83\n",
      "84\n",
      "85\n",
      "86\n",
      "87\n",
      "88\n",
      "89\n",
      "90\n",
      "91\n",
      "92\n",
      "93\n",
      "94\n",
      "95\n",
      "96\n",
      "97\n",
      "98\n",
      "99\n",
      "100\n",
      "total time elapsed: 20.170927047729492 ms \n"
     ]
    }
   ],
   "source": [
    "start=time.time()\n",
    "def f(n):\n",
    "    if(n>0):\n",
    "        f(n-1)\n",
    "        print(n)\n",
    "f(100)\n",
    "end=time.time()\n",
    "print('total time elapsed: {} ms '.format((end-start)*1000))"
   ]
  },
  {
   "cell_type": "code",
   "execution_count": 57,
   "metadata": {},
   "outputs": [
    {
     "name": "stdout",
     "output_type": "stream",
     "text": [
      "Prime numbers between 1 and 50 are:\n",
      "2\n",
      "3\n",
      "5\n",
      "7\n",
      "11\n",
      "13\n",
      "17\n",
      "19\n",
      "23\n",
      "29\n",
      "31\n",
      "37\n",
      "41\n",
      "43\n",
      "47\n",
      "total time elapsed: 18.120527267456055 ms \n"
     ]
    }
   ],
   "source": [
    "# Python program to display all the prime numbers within an interval\n",
    "start=time.time()\n",
    "lower = 1\n",
    "upper = 50\n",
    "\n",
    "print(\"Prime numbers between\", lower, \"and\", upper, \"are:\")\n",
    "\n",
    "for num in range(lower, upper + 1):\n",
    "    if num > 1:\n",
    "        for i in range(2, num):\n",
    "            if (num % i) == 0:\n",
    "                break\n",
    "        else:\n",
    "            print(num)\n",
    "end=time.time()\n",
    "print('total time elapsed: {} ms '.format((end-start)*1000))"
   ]
  },
  {
   "cell_type": "code",
   "execution_count": 59,
   "metadata": {},
   "outputs": [
    {
     "name": "stdout",
     "output_type": "stream",
     "text": [
      "Prime numbers between 1 and 50 are:\n",
      "2\n",
      "3\n",
      "4\n",
      "5\n",
      "7\n",
      "11\n",
      "13\n",
      "17\n",
      "19\n",
      "23\n",
      "29\n",
      "31\n",
      "37\n",
      "41\n",
      "43\n",
      "47\n",
      "total time elapsed: 10.547161102294922 ms \n"
     ]
    }
   ],
   "source": [
    "# Python program to display all the prime numbers within an interval\n",
    "start=time.time()\n",
    "lower = 1\n",
    "upper = 50\n",
    "\n",
    "print(\"Prime numbers between\", lower, \"and\", upper, \"are:\")\n",
    "\n",
    "for num in range(lower, upper + 1):\n",
    "    if num > 1:\n",
    "        for i in range(2, num//2):\n",
    "            if (num % i) == 0:\n",
    "                break\n",
    "        else:\n",
    "            print(num)\n",
    "end=time.time()\n",
    "print('total time elapsed: {} ms '.format((end-start)*1000))"
   ]
  },
  {
   "cell_type": "code",
   "execution_count": 63,
   "metadata": {},
   "outputs": [
    {
     "name": "stdout",
     "output_type": "stream",
     "text": [
      "Prime numbers between 1 and 50 are:\n",
      "2\n",
      "3\n",
      "4\n",
      "5\n",
      "6\n",
      "7\n",
      "8\n",
      "9\n",
      "11\n",
      "13\n",
      "15\n",
      "17\n",
      "19\n",
      "23\n",
      "25\n",
      "29\n",
      "31\n",
      "35\n",
      "37\n",
      "41\n",
      "43\n",
      "47\n",
      "49\n",
      "total time elapsed: 7.756471633911133 ms \n"
     ]
    }
   ],
   "source": [
    "# Python program to display all the prime numbers within an interval\n",
    "start=time.time()\n",
    "import math\n",
    "lower = 1\n",
    "upper = 50\n",
    "\n",
    "print(\"Prime numbers between\", lower, \"and\", upper, \"are:\")\n",
    "\n",
    "for num in range(lower, upper + 1):\n",
    "    if num > 1:\n",
    "        for i in range(2, int(math.sqrt(num))):\n",
    "            if (num % i) == 0:\n",
    "                break\n",
    "        else:\n",
    "            print(num)\n",
    "end=time.time()\n",
    "print('total time elapsed: {} ms '.format((end-start)*1000))"
   ]
  },
  {
   "cell_type": "code",
   "execution_count": null,
   "metadata": {},
   "outputs": [],
   "source": []
  }
 ],
 "metadata": {
  "kernelspec": {
   "display_name": "Python 3",
   "language": "python",
   "name": "python3"
  },
  "language_info": {
   "codemirror_mode": {
    "name": "ipython",
    "version": 3
   },
   "file_extension": ".py",
   "mimetype": "text/x-python",
   "name": "python",
   "nbconvert_exporter": "python",
   "pygments_lexer": "ipython3",
   "version": "3.6.8"
  }
 },
 "nbformat": 4,
 "nbformat_minor": 2
}
