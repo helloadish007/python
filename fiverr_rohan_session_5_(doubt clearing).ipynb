{
 "cells": [
  {
   "cell_type": "markdown",
   "metadata": {},
   "source": [
    "regular methods: usually takes instance as the first argument\n",
    "\n",
    "Function Decorator:\n",
    "\n",
    "A decorator is a function that takes a function as its only parameter and returns a function.\n",
    "\n",
    "A class method receives the class as implicit first argument, just like an instance method receives the instance\n",
    "\n",
    "A static method needs no specific parameters.\n",
    "\n",
    "\n"
   ]
  },
  {
   "cell_type": "code",
   "execution_count": 27,
   "metadata": {},
   "outputs": [
    {
     "name": "stdout",
     "output_type": "stream",
     "text": [
      "pasta\n"
     ]
    }
   ],
   "source": [
    "class Restaurant:\n",
    "    def __init__(self,name_of_recipe):\n",
    "        self.name_of_recipe=name_of_recipe\n",
    "        \n",
    "    #getter function   \n",
    "    def name(self):\n",
    "        return self.name_of_recipe\n",
    "\n",
    "r1=Restaurant('pasta')\n",
    "print(r1.name())"
   ]
  },
  {
   "cell_type": "code",
   "execution_count": 28,
   "metadata": {},
   "outputs": [
    {
     "name": "stdout",
     "output_type": "stream",
     "text": [
      "pasta\n"
     ]
    }
   ],
   "source": [
    "class Restaurant:\n",
    "    def __init__(self,name_of_recipe):\n",
    "        self.name_of_recipe=name_of_recipe\n",
    "        \n",
    "    #getter function\n",
    "    @property #property decorator:changes semantics in such a way that,we dont need to explicitly, call the function,we can refer to it\n",
    "    def name(self):\n",
    "        return self.name_of_recipe\n",
    "\n",
    "r1=Restaurant('pasta')\n",
    "print(r1.name)"
   ]
  },
  {
   "cell_type": "code",
   "execution_count": 21,
   "metadata": {},
   "outputs": [
    {
     "name": "stdout",
     "output_type": "stream",
     "text": [
      "['1 $20bill  ', '1 $10bill  ', '1 $5bill  ', '3 1$ bills  ']\n"
     ]
    },
    {
     "data": {
      "text/plain": [
       "200"
      ]
     },
     "execution_count": 21,
     "metadata": {},
     "output_type": "execute_result"
    }
   ],
   "source": [
    "class ChangeMaker:\n",
    "    \n",
    "    def __init__(self, tp, apaid):\n",
    "        self.tp = tp\n",
    "        self.apaid = apaid\n",
    "    def get_tp(self):\n",
    "        return self.tp\n",
    "    \n",
    "    @staticmethod\n",
    "    def f1(apaid,tp):\n",
    "        apaid=float(apaid)\n",
    "        tp=float(tp)\n",
    "        N=apaid-tp\n",
    "        notes=[20,10,5,1,0.25,0.1,0.01]\n",
    "        c=[0,0,0,0,0,0,0]\n",
    "        b=[]\n",
    "        notes_sing=['$20bill','$10bill','$5bill','1$ bill','quarter','dime','penny']\n",
    "        notes_p=['$20bills','$10bills','$5bills','1$ bills','quarters','dimes','pennies']\n",
    "        for i,j,k,l in zip(notes,c,notes_sing,notes_p):\n",
    "            if N>=i:\n",
    "                j=N//i\n",
    "                N=N-j*i\n",
    "                if j>1:\n",
    "                    y=str('{} {}  '.format(int(j),l))\n",
    "                else:\n",
    "                    y=str('{} {}  '.format(int(j),k))\n",
    "\n",
    "                b.append(y)\n",
    "        print(b)\n",
    "\n",
    "a=ChangeMaker(200,45)\n",
    "ChangeMaker.f1(100,62) #do not need to create an object of the class for accessing methods implemented by class.\n",
    "a.get_tp()\n",
    "#ChangeMaker.get_tp()#error, for calling class methods you should have to create an instance of the class\n",
    "   "
   ]
  },
  {
   "cell_type": "code",
   "execution_count": 46,
   "metadata": {},
   "outputs": [
    {
     "name": "stdout",
     "output_type": "stream",
     "text": [
      "['1 $20bill  ', '1 $10bill  ', '1 $5bill  ', '2 1$ bills  ', '3 quarters  ', '1 dime  ', '1 penny  ']\n"
     ]
    }
   ],
   "source": [
    "def f1(apaid,tp):\n",
    "    apaid=float(apaid)\n",
    "    tp=float(tp)\n",
    "    N=apaid-tp\n",
    "    notes=[20,10,5,1,0.25,0.1,0.01]\n",
    "    c=[0,0,0,0,0,0,0]\n",
    "    b=[]\n",
    "    notes_sing=['$20bill','$10bill','$5bill','1$ bill','quarter','dime','penny']\n",
    "    notes_p=['$20bills','$10bills','$5bills','1$ bills','quarters','dimes','pennies']\n",
    "    for i,j,k,l in zip(notes,c,notes_sing,notes_p):\n",
    "        if N>=i:\n",
    "            j=N//i\n",
    "            N=N-j*i\n",
    "            if j>1:\n",
    "                y=str('{} {}  '.format(int(j),l))\n",
    "            else:\n",
    "                y=str('{} {}  '.format(int(j),k))\n",
    "\n",
    "            b.append(y)\n",
    "    print(b)\n",
    "f1(100,62.13)"
   ]
  },
  {
   "cell_type": "code",
   "execution_count": 29,
   "metadata": {},
   "outputs": [
    {
     "data": {
      "text/plain": [
       "['pizza', 'burger']"
      ]
     },
     "execution_count": 29,
     "metadata": {},
     "output_type": "execute_result"
    }
   ],
   "source": [
    "class Restaurant:\n",
    "    items_=['pizza','burger']\n",
    "    def __init__(self,name_of_recipe):\n",
    "        self.name_of_recipe=name_of_recipe\n",
    "        \n",
    "    #getter function\n",
    "    @property #property decorator:changes semantics in such a way that,we dont need to explicitly, call the function,we can refer to it\n",
    "    def name(self):\n",
    "        return self.name_of_recipe\n",
    "    @classmethod\n",
    "    def items(cls):\n",
    "        return cls.items_\n",
    "\n",
    "r1=Restaurant('pasta')\n",
    "#print items using classmethod\n",
    "#classmethod links to the class definition and not to the instance\n",
    "\n",
    "Restaurant.items()"
   ]
  },
  {
   "cell_type": "code",
   "execution_count": 30,
   "metadata": {},
   "outputs": [
    {
     "data": {
      "text/plain": [
       "['pizza', 'burger']"
      ]
     },
     "execution_count": 30,
     "metadata": {},
     "output_type": "execute_result"
    }
   ],
   "source": [
    "class Restaurant:\n",
    "    items_=['pizza','burger']\n",
    "    def __init__(self,name_of_recipe):\n",
    "        self.name_of_recipe=name_of_recipe\n",
    "        \n",
    "    #getter function\n",
    "    @property #property decorator:changes semantics in such a way that,we dont need to explicitly, call the function,we can refer to it\n",
    "    def name(self):\n",
    "        return self.name_of_recipe\n",
    "    @classmethod\n",
    "    def items(cls):\n",
    "        return cls.items_\n",
    "\n",
    "r1=Restaurant('pasta')\n",
    "\n",
    "r1.items()"
   ]
  },
  {
   "cell_type": "code",
   "execution_count": 45,
   "metadata": {},
   "outputs": [
    {
     "name": "stdout",
     "output_type": "stream",
     "text": [
      "['pizza', 'burger']\n"
     ]
    },
    {
     "data": {
      "text/plain": [
       "['steak']"
      ]
     },
     "execution_count": 45,
     "metadata": {},
     "output_type": "execute_result"
    }
   ],
   "source": [
    "class Restaurant:\n",
    "    items_=['pizza','burger']\n",
    "    def __init__(self,name_of_recipe):\n",
    "        self.name_of_recipe=name_of_recipe\n",
    "        \n",
    "    #getter function\n",
    "    @property #property decorator:changes semantics in such a way that,we dont need to explicitly, call the function,we can refer to it\n",
    "    def name(self):\n",
    "        return self.name_of_recipe\n",
    "    @classmethod\n",
    "    def items(cls):\n",
    "        return cls.items_\n",
    "\n",
    "r1=Restaurant('pasta')\n",
    "#changing the items for Restaurant r1\n",
    "r1.items_=['steak']\n",
    "print(r1.items())#will not modify items for r1\n",
    "r1.__dict__\n",
    "#we will be having 2 'items_' list\n",
    "#one for the 'Class' and one for the instance'r1'\n",
    "#but 'items() function',which is a class method,refers to Class variable 'items_'\n",
    "#do not refer to 'r1' object's 'items_'\n",
    "\n",
    "\n",
    "r1.items_ # item list for r1 restaurant"
   ]
  },
  {
   "cell_type": "code",
   "execution_count": 43,
   "metadata": {},
   "outputs": [
    {
     "data": {
      "text/plain": [
       "['steak']"
      ]
     },
     "execution_count": 43,
     "metadata": {},
     "output_type": "execute_result"
    }
   ],
   "source": [
    "#HERE, THERE SHOULD BE SOME ITEMS, WHICH SHOULD ME MADE BY EVERY RESTUARANT#\n",
    "#THAT IS WHY WE DEFINED A CLASSMETHOD\n",
    "\n",
    "#WE CAN OVERIDE THIS CLASSMETHOD TO ADD GENERAL ITEMS IN THE LIST OF RECIPIES BY:\n",
    "class Restaurant:\n",
    "    items_=['pizza','burger']\n",
    "    def __init__(self,name_of_recipe):\n",
    "        self.name_of_recipe=name_of_recipe\n",
    "        \n",
    "    \n",
    "    @property \n",
    "    def name(self):\n",
    "        return self.name_of_recipe\n",
    "    @classmethod\n",
    "    def items(cls):\n",
    "        return cls.items_\n",
    "\n",
    "r1=Restaurant('pasta')\n",
    "r1.__class__.items_=['steak']#overridden every recepies(items) from items_ list\n",
    "r1.items()"
   ]
  },
  {
   "cell_type": "code",
   "execution_count": null,
   "metadata": {},
   "outputs": [],
   "source": []
  },
  {
   "cell_type": "code",
   "execution_count": null,
   "metadata": {},
   "outputs": [],
   "source": []
  }
 ],
 "metadata": {
  "kernelspec": {
   "display_name": "Python 3",
   "language": "python",
   "name": "python3"
  },
  "language_info": {
   "codemirror_mode": {
    "name": "ipython",
    "version": 3
   },
   "file_extension": ".py",
   "mimetype": "text/x-python",
   "name": "python",
   "nbconvert_exporter": "python",
   "pygments_lexer": "ipython3",
   "version": "3.6.8"
  }
 },
 "nbformat": 4,
 "nbformat_minor": 2
}
