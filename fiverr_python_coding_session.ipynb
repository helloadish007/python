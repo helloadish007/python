{
 "cells": [
  {
   "cell_type": "markdown",
   "metadata": {},
   "source": [
    " # 1\n",
    "\n",
    "Write a program to translate an english sentence in to pig latin. Pig latin is a language game of alterations played in english. The purpose is to obfuscate the language. It is a form of encoding. You can learn more about it on wikipedia. However, for the purpose of this exercise, the rules of translation are changed slightly and are as follows:\n",
    "\n",
    "a) Each word of the sentence is to be translated\n",
    "b) If the word starts with a vowel, then add ‘ay’ to the end of the word\n",
    "c) If the word starts with a consonant, then move it to the end of the word and add ‘ay’\n",
    "\n",
    "INPUT:\n",
    "\n",
    "    First line will contain T, number of testcases. Then the testcases follow.\n",
    "    Each test case will have a single string S\n",
    "\n",
    "OUTPUT:\n",
    "\n",
    "    For each test case, output a single result string.\n",
    "\n",
    "SAMPLE INPUT\n",
    "\n",
    "2\n",
    "\n",
    "apple is not red\n",
    "\n",
    "The sky is blue\n",
    "\n",
    "SAMPLE OUTPUT\n",
    "\n",
    "appleay isay otnay edray\n",
    "\n",
    "heTay kysay isay luebay"
   ]
  },
  {
   "cell_type": "code",
   "execution_count": 10,
   "metadata": {},
   "outputs": [
    {
     "name": "stdout",
     "output_type": "stream",
     "text": [
      "1\n",
      "The sky is blue\n",
      "heTay kysay isay luebay\n"
     ]
    }
   ],
   "source": [
    "n=int(input())\n",
    "for z in range(n):\n",
    "    s=str(input()).split(' ')\n",
    "    for k in range(len(s)):\n",
    "        i=s[k]\n",
    "        if i[0] in ['a', 'e', 'i', 'o', 'u','A','E','I','O','U']:\n",
    "            s[k]=i+'ay'\n",
    "        else:\n",
    "            s[k]=i[1:]+i[0]+'ay'\n",
    "    print(' '.join(s))\n",
    "    s.clear()"
   ]
  },
  {
   "cell_type": "markdown",
   "metadata": {},
   "source": [
    "# 2\n",
    "Print alternate odd and even sum of digits"
   ]
  },
  {
   "cell_type": "code",
   "execution_count": null,
   "metadata": {},
   "outputs": [],
   "source": [
    "k=input()\n",
    "x=list(k)\n",
    "n=list(map(int,x))\n",
    "print(\"the summ of odd indices is {}\".format(sum(n[::2])))\n",
    "print(\"the summ of even indices is {}\".format(sum(n[1::2])))"
   ]
  },
  {
   "cell_type": "markdown",
   "metadata": {},
   "source": [
    "# 3 \n",
    "Rotating an array\n",
    "\n",
    "Given an array of N size. The task is to rotate array by d elements where d is less than or equal to N.\n",
    "\n",
    "Input:\n",
    "The first line of input contains a single integer T denoting the number of test cases. Then T test cases follow. Each test case consist of three lines. The first line of each test case consists of an integer N, where N is the size of array.\n",
    "The second line of each test case contains N space separated integers denoting array elements. The third line of each test case contains \"d\" .\n",
    "\n",
    "Output:\n",
    "\n",
    "Corresponding to each test case, in a new line, print the modified array.\n",
    "\n",
    "Input\n",
    "\n",
    "1\n",
    "\n",
    "5\n",
    "\n",
    "1 2 3 4 5\n",
    "\n",
    "2\n",
    "\n",
    "Output\n",
    "\n",
    "3 4 5 1 2"
   ]
  },
  {
   "cell_type": "code",
   "execution_count": 61,
   "metadata": {},
   "outputs": [
    {
     "name": "stdout",
     "output_type": "stream",
     "text": [
      "1\n",
      "4\n",
      "1 2 3 4\n",
      "1\n",
      "2 3 4 1\n"
     ]
    }
   ],
   "source": [
    "n=int(input())\n",
    "for z in range(n):\n",
    "    s=int(input())\n",
    "    l=input().split()\n",
    "    d=int(input())\n",
    "    l1=[]\n",
    "    l2=[]\n",
    "    if(d<=len(l)):\n",
    "        for i in range(d):\n",
    "            l1.append(l[i])\n",
    "    for j in range(d,len(l)):\n",
    "        l2.append(l[j])\n",
    "    l2.extend(l1)\n",
    "    \n",
    "    print(' '.join(l2))\n",
    "    l1.clear()\n",
    "    l2.clear()"
   ]
  },
  {
   "cell_type": "markdown",
   "metadata": {},
   "source": [
    "# 4\n",
    "Caesar Cipher Encryptor\n",
    "\n",
    "Given a non-empty string of lowercase letters and a non-negative integer representing a key,write a code that gives a new string obtained by shifting every letter in the input string by k positions in the alphabets ,where k is the key\n",
    "\n",
    "INPUT:\n",
    "\n",
    "'xyz'\n",
    "\n",
    " 2  #key value\n",
    " \n",
    "OUTPUT:\n",
    " \n",
    "'yza'"
   ]
  },
  {
   "cell_type": "code",
   "execution_count": 62,
   "metadata": {},
   "outputs": [
    {
     "name": "stdout",
     "output_type": "stream",
     "text": [
      "1\n",
      "xc\n",
      " yd\n"
     ]
    }
   ],
   "source": [
    "\n",
    "alpha=['a','b','c','d','e','f','g','h','i','j','k','l','m','n','o','p','q','r','s','t','u','v','w','x','y','z']\n",
    "k=int(input())\n",
    "s=input()\n",
    "y=' '\n",
    "for i in s:\n",
    "    x=alpha.index(i)\n",
    "    y+=alpha[(x+k)%26]\n",
    "print(y)\n"
   ]
  },
  {
   "cell_type": "markdown",
   "metadata": {},
   "source": [
    "# 5\n",
    "Monotonic Array\n",
    "\n",
    "Write the code that takes an array of integers amd returns a boolean representing whether the array is monotonic.\n",
    "\n",
    "An array is said to be monotonic,if its elements,from left to right,are entirely non-increasing or entirely non-decreasing  \n",
    "\n",
    "INPUT\n",
    "\n",
    "array=[-1,-5,-10,-1100,-1100,-1101,-1102,-9001]\n",
    "\n",
    "OUTPUT\n",
    "\n",
    "TRUE"
   ]
  },
  {
   "cell_type": "code",
   "execution_count": 63,
   "metadata": {},
   "outputs": [
    {
     "name": "stdout",
     "output_type": "stream",
     "text": [
      "True\n"
     ]
    }
   ],
   "source": [
    "\n",
    "a=[-1,-5,-10,-1100,-1100,-1101,-1102,-9001]\n",
    "#a=[2,5,6,10]\n",
    "ci=0\n",
    "cd=0\n",
    "for i in range(0,len(a)-1):\n",
    "    if(a[i]>=a[i+1]):\n",
    "        cd+=1\n",
    "    else:\n",
    "        ci+=1\n",
    "if(ci==len(a)-1 or cd==len(a)-1):\n",
    "    print(True)\n",
    "else:\n",
    "    print(False)\n",
    "     \n"
   ]
  },
  {
   "cell_type": "markdown",
   "metadata": {},
   "source": [
    "# 6\n",
    "MOVE ELEMENT TO THE END:\n",
    "\n",
    "You're given an array of integers and an integer.Write the code that moves all instances of that integer in the array to the end of the array and returns the array.\n",
    "\n",
    "The function should perform this in place(i.e, it should mutate the input array) and doesn't need to maintain the order of the other integers.\n",
    "\n",
    "\n",
    "INPUT:\n",
    "\n",
    "array=[2,1,2,2,2,3,4,2]\n",
    "\n",
    "move=2\n",
    "\n",
    "OUTPUT:\n",
    "\n",
    "[1,3,4,2,2,2,2,2]"
   ]
  },
  {
   "cell_type": "code",
   "execution_count": 64,
   "metadata": {},
   "outputs": [
    {
     "name": "stdout",
     "output_type": "stream",
     "text": [
      "[1, 3, 4, 2, 2, 2, 2, 2]\n"
     ]
    }
   ],
   "source": [
    "c=[]\n",
    "d=[]\n",
    "a=[2,1,2,2,2,3,4,2]\n",
    "move=2\n",
    "for i in range(len(a)):\n",
    "    if a[i]==move:\n",
    "        c.append(a[i])\n",
    "    else:\n",
    "        d.append(a[i])\n",
    "d.extend(c)\n",
    "print(d)"
   ]
  }
 ],
 "metadata": {
  "kernelspec": {
   "display_name": "Python 3",
   "language": "python",
   "name": "python3"
  },
  "language_info": {
   "codemirror_mode": {
    "name": "ipython",
    "version": 3
   },
   "file_extension": ".py",
   "mimetype": "text/x-python",
   "name": "python",
   "nbconvert_exporter": "python",
   "pygments_lexer": "ipython3",
   "version": "3.6.8"
  }
 },
 "nbformat": 4,
 "nbformat_minor": 2
}
