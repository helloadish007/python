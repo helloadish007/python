{
 "cells": [
  {
   "cell_type": "code",
   "execution_count": 2,
   "metadata": {},
   "outputs": [
    {
     "name": "stdout",
     "output_type": "stream",
     "text": [
      "Enter the length of rectangle 1:4\n",
      "Enter the width of rectangle 1:5\n",
      "Enter the length of rectangle 2:2\n",
      "Enter the width of rectangle 2:1\n",
      "Rectangle area 1 has the greater area.\n"
     ]
    }
   ],
   "source": [
    "\n",
    "# Get the dimensions of rectangle 1\n",
    "length1=int(input('Enter the length of rectangle 1:'))\n",
    "width1=int(input('Enter the width of rectangle 1:'))\n",
    "\n",
    "# Get the dimensions of rectangle 2\n",
    "length2=int(input('Enter the length of rectangle 2:'))\n",
    "width2=int(input('Enter the width of rectangle 2:'))\n",
    "\n",
    "# Calculate the areas of the rectangle 1\n",
    "area1=length1*width1\n",
    "area2=length2*width2\n",
    "\n",
    "# Calculate which rectangle has the greatest area\n",
    "if area1 > area2:\n",
    "    print('Rectangle area 1 has the greater area.')\n",
    "elif area2 > area1:\n",
    "    print('Rectangle area 2 has the greater area.')\n",
    "else:\n",
    "    print('Both have the same area')\n"
   ]
  },
  {
   "cell_type": "code",
   "execution_count": 37,
   "metadata": {},
   "outputs": [
    {
     "name": "stdout",
     "output_type": "stream",
     "text": [
      "Enter the number of books: 100\n",
      "You are awarded60points.\n"
     ]
    }
   ],
   "source": [
    "number_of_books= int(input(\"Enter the number of books: \")) #ERROR CORRECTED\n",
    "message = \"\"\n",
    "\n",
    "if number_of_books <0:\n",
    "    message = \"Eror. Enter a positive number. \\n\" + \\\n",
    "    \"Re-run the program and try again.\"\n",
    "    print(message) #ERROR CORRECTED\n",
    "\n",
    "else:\n",
    "    message = \"You are awarded \"\n",
    "    \n",
    "    if number_of_books >=0 and number_of_books <=1:\n",
    "        message +=\"0\"\n",
    "    elif number_of_books >=2 and number_of_books <=3:\n",
    "        message +=\"5\"\n",
    "    elif number_of_books >=4 and number_of_books <=5:\n",
    "        message +=\"15\"\n",
    "    elif number_of_books >=6 and number_of_books <=7:\n",
    "        message +=\"30\"\n",
    "    elif number_of_books >=8:\n",
    "        message +=\"60\"\n",
    "        \n",
    "        message += \"points.\"\n",
    "    \n",
    "    print(message)\n",
    "\n"
   ]
  },
  {
   "cell_type": "code",
   "execution_count": 25,
   "metadata": {},
   "outputs": [
    {
     "name": "stdout",
     "output_type": "stream",
     "text": [
      "\n",
      "Enter number of packages puchased: 100\n",
      "\n",
      "Package total = $9,900.00\n",
      "Discount Percentage = 40%\n",
      "Discount amount = $3,960.00\n",
      "Grand total = $5,940.00\n",
      "\n"
     ]
    }
   ],
   "source": [
    "PRICE_PER_PACKAGE = 99.00 # REPLACED '#' WITH 'NUMBER'\n",
    "\n",
    "number_of_packages = float(input('\\nEnter number of packages puchased: '))\n",
    "display_message = \"\"\n",
    "\n",
    "if number_of_packages < 0:\n",
    "    display_message = \"Error. Number of packages must be greater than 0.\\nRe-run progam and try again.\"\n",
    "else:\n",
    "    discount_percentage = 0\n",
    "    \n",
    "    if number_of_packages < 10:\n",
    "        discount_percentage = 0 \n",
    "    elif number_of_packages >= 10 and number_of_packages <= 19:\n",
    "        discount_percentage = .10 # 10% \n",
    "    elif number_of_packages >= 20 and number_of_packages <= 49:\n",
    "        discount_percentage = .20 # 20% \n",
    "    elif number_of_packages >= 50 and number_of_packages <= 99:\n",
    "        discount_percentage = .30\n",
    "    elif number_of_packages >= 100:\n",
    "        discount_percentage = .40 # 40% \n",
    "        \n",
    "    package_total = number_of_packages * PRICE_PER_PACKAGE\n",
    "    discount_amount = (package_total) * discount_percentage\n",
    "    grand_total = package_total - discount_amount\n",
    "    display_message = \"Package total = $\" + format(package_total, ',.2f') + \\\n",
    "        \"\\nDiscount Percentage = \" + format(discount_percentage, '.0%') + \\\n",
    "        \"\\nDiscount amount = $\" + format(discount_amount, ',.2f') + \\\n",
    "        \"\\nGrand total = $\" + format(grand_total, ',.2f')\n",
    "print(\"\\n\" + display_message + \"\\n\")\n"
   ]
  },
  {
   "cell_type": "code",
   "execution_count": 24,
   "metadata": {},
   "outputs": [
    {
     "name": "stdout",
     "output_type": "stream",
     "text": [
      "Enter weight of package: 200\n",
      "Shipping charges = $950.00\n"
     ]
    }
   ],
   "source": [
    "weight_of_package = float(input(\"Enter weight of package: \"))\n",
    "shipping_charges = 0.0 \n",
    "\n",
    "\n",
    "\n",
    "message = \"Shipping charges = \"\n",
    "\n",
    "#WEIGHT OF THE PACKAGE CANNOT BE NEGATIVE\n",
    "#CHECKING CONDITION \n",
    "\n",
    "if(weight_of_package>=0):\n",
    "    if weight_of_package <= 2:\n",
    "        shipping_charges = weight_of_package * 1.50\n",
    "    elif weight_of_package > 2 and weight_of_package <= 6:\n",
    "        shipping_charges = weight_of_package * 3.00\n",
    "    elif weight_of_package > 6 and weight_of_package <= 10:\n",
    "        shipping_charges = weight_of_package * 4.00\n",
    "    elif weight_of_package > 10:\n",
    "        shipping_charges = weight_of_package * 4.75\n",
    "\n",
    "    message += \"$\" + format(shipping_charges, ',.2f')\n",
    "\n",
    "    print(message)\n",
    "else:\n",
    "    print(\"ERROR!. Weight cannot be negative\")\n",
    "\n"
   ]
  },
  {
   "cell_type": "code",
   "execution_count": null,
   "metadata": {},
   "outputs": [],
   "source": []
  }
 ],
 "metadata": {
  "kernelspec": {
   "display_name": "Python 3",
   "language": "python",
   "name": "python3"
  },
  "language_info": {
   "codemirror_mode": {
    "name": "ipython",
    "version": 3
   },
   "file_extension": ".py",
   "mimetype": "text/x-python",
   "name": "python",
   "nbconvert_exporter": "python",
   "pygments_lexer": "ipython3",
   "version": "3.8.5"
  }
 },
 "nbformat": 4,
 "nbformat_minor": 4
}
