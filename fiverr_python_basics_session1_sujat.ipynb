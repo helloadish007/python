{
 "cells": [
  {
   "cell_type": "markdown",
   "metadata": {},
   "source": [
    "PYTHON FEATURES:\n",
    "-----------------\n",
    "1.gui support\n",
    "\n",
    "2.cross platform language\n",
    "\n",
    "3.interpreted language\n",
    "\n",
    "4.Python is a case-sensitive language\n",
    "\n",
    "5.Python is a type-inferred language\n",
    "\n",
    "Interpreter:\t\n",
    "============\n",
    "Translates program one statement at a time.\n",
    "Compiler:\n",
    "=========\n",
    "Scans the entire program and translates it as a whole into machine code.\n",
    "\n",
    "PYTHON KEYWORDS\n",
    "------------------------\n",
    "Keywords are the reserved words in Python.\n",
    "In Python, keywords are case sensitive.\n",
    "EG:\n",
    "False\tclass\treturn\n",
    "None\tcontinue\tfor\tlambda\ttry\n",
    "True\tdef\tfrom\twhile\n",
    "and\tdel\tglobal\tnot\twith\n",
    "as\telif\tif\tor\tyield\n",
    "assert\telse\timport\tpass\t \n",
    "break\texcept\tin\traise\t\n",
    "\n",
    "-------------------------\n",
    "PYTHON IDENTIFIERS:\n",
    "--------------------------\n",
    "An identifier is a name given to entities like class, functions, variables, etc. \n",
    "It helps to differentiate one entity from another.\n",
    "\n",
    "Rules for writing identifiers:\n",
    "==============================\n",
    "1.Identifiers can be a combination of letters in lowercase (a to z) or uppercase (A to Z) or digits (0 to 9) or an underscore _.\n",
    "\n",
    "Names like myClass, var_1 and print_this_to_screen, all are valid example.\n",
    "\n",
    "2.An identifier cannot start with a digit. 1variable is invalid, but variable1 is perfectly fine.\n",
    "\n",
    "3.Keywords cannot be used as identifiers.\n",
    "\n"
   ]
  },
  {
   "cell_type": "code",
   "execution_count": null,
   "metadata": {},
   "outputs": [],
   "source": []
  },
  {
   "cell_type": "markdown",
   "metadata": {},
   "source": [
    "PYTHON VARIABLES:\n",
    "----------------------\n",
    "A variable is a named location used to store data in the memory.\n",
    "\n",
    "ARITHMETIC OPERATORS:\n",
    "======================\n",
    "1) +\t Add two operands or unary plus\tx + y\n",
    "\n",
    "\n",
    "2) -\t Subtract right operand from the left or unary minus\tx - y\n",
    "\n",
    "\n",
    "3) *\tMultiply two operands\tx * y\n",
    "\n",
    "4) /\tDivide left operand by the right one (always results into float)\tx / y\n",
    "\n",
    "5) %\tModulus - remainder of the division of left operand by the right\tx % y (remainder of x/y)\n",
    "\n",
    "6) //\tFloor division - division that results into whole number adjusted to the left in the number line\tx// y\n",
    "\n",
    "7) **\tExponent - left operand raised to the power of right\tx**y (x to the power y)\n",
    "\n"
   ]
  },
  {
   "cell_type": "code",
   "execution_count": null,
   "metadata": {},
   "outputs": [],
   "source": []
  },
  {
   "cell_type": "markdown",
   "metadata": {},
   "source": [
    "COMPARISON OPERATORS:\n",
    "=====================\n",
    "Comparison operators are used to compare values.\n",
    "It either returns True or False according to the condition.\n",
    "\n",
    "1) >\tGreater that - True if left operand is greater than the right\tx > y\n",
    "\n",
    "2) <\tLess that - True if left operand is less than the right\tx < y\n",
    "\n",
    "3) ==\tEqual to - True if both operands are equal\tx == y\n",
    "\n",
    "4) !=\tNot equal to - True if operands are not equal\tx != y\n",
    "\n",
    "5) >=\tGreater than or equal to - True if left operand is greater than or equal to the right\tx >= y\n",
    "\n",
    "6) <=\tLess than or equal to - True if left operand is less than or equal to the right\tx <= y\n"
   ]
  },
  {
   "cell_type": "code",
   "execution_count": null,
   "metadata": {},
   "outputs": [],
   "source": []
  },
  {
   "cell_type": "markdown",
   "metadata": {},
   "source": [
    "LOGICAL OPERATORS:\n",
    "==================\n",
    "Logical operators are the and, or, not operators.\n",
    "\n",
    "1) and\tTrue if both the operands are true\tx and y\n",
    "\n",
    "2) or\tTrue if either of the operands is true\tx or y\n",
    "\n",
    "3) not\tTrue if operand is false (complements the operand)\tnot x"
   ]
  },
  {
   "cell_type": "code",
   "execution_count": 1,
   "metadata": {},
   "outputs": [
    {
     "data": {
      "text/plain": [
       "10914496"
      ]
     },
     "execution_count": 1,
     "metadata": {},
     "output_type": "execute_result"
    }
   ],
   "source": [
    "a=1\n",
    "id(a)"
   ]
  },
  {
   "cell_type": "code",
   "execution_count": 2,
   "metadata": {},
   "outputs": [
    {
     "data": {
      "text/plain": [
       "10914528"
      ]
     },
     "execution_count": 2,
     "metadata": {},
     "output_type": "execute_result"
    }
   ],
   "source": [
    "a+=1\n",
    "id(a)"
   ]
  },
  {
   "cell_type": "markdown",
   "metadata": {},
   "source": [
    "PYTHON FLOW CONTROL STATEMENTS:\n",
    "------------------------------------\n",
    "\n",
    "The if…elif…else statement is used in Python for decision making."
   ]
  },
  {
   "cell_type": "code",
   "execution_count": null,
   "metadata": {},
   "outputs": [],
   "source": []
  },
  {
   "cell_type": "markdown",
   "metadata": {},
   "source": [
    "## Python list\n",
    "\n",
    "List is a collection which is ordered and changeable. Allows duplicate members."
   ]
  },
  {
   "cell_type": "code",
   "execution_count": null,
   "metadata": {},
   "outputs": [],
   "source": []
  },
  {
   "cell_type": "markdown",
   "metadata": {},
   "source": [
    "## 1.Input a  number from the user and see whether the inputted number falls in the range between 1 and 10 (print true). If that condition is not met, then print \"enter a number b/w 1 and 10' ?"
   ]
  },
  {
   "cell_type": "code",
   "execution_count": null,
   "metadata": {},
   "outputs": [],
   "source": []
  },
  {
   "cell_type": "code",
   "execution_count": null,
   "metadata": {},
   "outputs": [],
   "source": []
  }
 ],
 "metadata": {
  "kernelspec": {
   "display_name": "Python 3",
   "language": "python",
   "name": "python3"
  },
  "language_info": {
   "codemirror_mode": {
    "name": "ipython",
    "version": 3
   },
   "file_extension": ".py",
   "mimetype": "text/x-python",
   "name": "python",
   "nbconvert_exporter": "python",
   "pygments_lexer": "ipython3",
   "version": "3.6.8"
  }
 },
 "nbformat": 4,
 "nbformat_minor": 2
}
